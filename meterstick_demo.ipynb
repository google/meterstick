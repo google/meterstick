{
  "cells": [
    {
      "cell_type": "markdown",
      "metadata": {
        "id": "fbocqoWfpVPg"
      },
      "source": [
        "The Meterstick package provides a concise and flexible syntax to describe and execute\n",
        "routine data analysis tasks. The easiest way to learn to use Meterstick is by example."
      ]
    },
    {
      "cell_type": "markdown",
      "metadata": {
        "id": "1KBTLgUrzmS7"
      },
      "source": [
        "# For External users\n",
        "\n",
        "You can open this notebook in [Google Colab](https://colab.research.google.com/github/google/meterstick/blob/master/meterstick_demo.ipynb)."
      ]
    },
    {
      "cell_type": "markdown",
      "metadata": {
        "id": "H9ojnghz0b2N"
      },
      "source": [
        "## Installation\n",
        "\n",
        "You can install from pip for the stable version"
      ]
    },
    {
      "cell_type": "code",
      "execution_count": null,
      "metadata": {
        "id": "ohmnh0qRz6bS"
      },
      "outputs": [],
      "source": [
        "#@test {\"skip\": true}\n",
        "!pip install meterstick"
      ]
    },
    {
      "cell_type": "markdown",
      "metadata": {
        "id": "MZXKtCHy0CEo"
      },
      "source": [
        "or from GitHub for the latest version."
      ]
    },
    {
      "cell_type": "code",
      "execution_count": null,
      "metadata": {
        "id": "uQRaNJ2h0NvF"
      },
      "outputs": [],
      "source": [
        "#@test {\"skip\": true}\n",
        "!git clone https://github.com/google/meterstick.git\n",
        "import sys, os\n",
        "sys.path.append(os.getcwd())"
      ]
    },
    {
      "cell_type": "markdown",
      "metadata": {
        "id": "te-lKCw20P41"
      },
      "source": [
        "# Demo Starts"
      ]
    },
    {
      "cell_type": "code",
      "execution_count": null,
      "metadata": {
        "id": "0UI9rAtZnBUG"
      },
      "outputs": [],
      "source": [
        "import matplotlib.pyplot as plt\n",
        "import numpy as np\n",
        "import pandas as pd\n",
        "\n",
        "from meterstick import *"
      ]
    },
    {
      "cell_type": "code",
      "execution_count": null,
      "metadata": {
        "colab": {
          "height": 204
        },
        "executionInfo": {
          "elapsed": 322,
          "status": "ok",
          "timestamp": 1616410844339,
          "user": {
            "displayName": "",
            "photoUrl": "",
            "userId": ""
          },
          "user_tz": 420
        },
        "id": "hyDE-bxMBxQY",
        "outputId": "969bb0a4-a88e-4faf-9f04-77ea9c6f41cf"
      },
      "outputs": [
        {
          "data": {
            "text/html": [
              "\u003cdiv\u003e\n",
              "\u003cstyle scoped\u003e\n",
              "    .dataframe tbody tr th:only-of-type {\n",
              "        vertical-align: middle;\n",
              "    }\n",
              "\n",
              "    .dataframe tbody tr th {\n",
              "        vertical-align: top;\n",
              "    }\n",
              "\n",
              "    .dataframe thead th {\n",
              "        text-align: right;\n",
              "    }\n",
              "\u003c/style\u003e\n",
              "\u003ctable border=\"1\" class=\"dataframe\"\u003e\n",
              "  \u003cthead\u003e\n",
              "    \u003ctr style=\"text-align: right;\"\u003e\n",
              "      \u003cth\u003e\u003c/th\u003e\n",
              "      \u003cth\u003eimpressions\u003c/th\u003e\n",
              "      \u003cth\u003eclicks\u003c/th\u003e\n",
              "      \u003cth\u003eplatform\u003c/th\u003e\n",
              "      \u003cth\u003eexpr_id\u003c/th\u003e\n",
              "      \u003cth\u003ecountry\u003c/th\u003e\n",
              "      \u003cth\u003ecookie\u003c/th\u003e\n",
              "    \u003c/tr\u003e\n",
              "  \u003c/thead\u003e\n",
              "  \u003ctbody\u003e\n",
              "    \u003ctr\u003e\n",
              "      \u003cth\u003e0\u003c/th\u003e\n",
              "      \u003ctd\u003e16\u003c/td\u003e\n",
              "      \u003ctd\u003e0.409625\u003c/td\u003e\n",
              "      \u003ctd\u003eDesktop\u003c/td\u003e\n",
              "      \u003ctd\u003ectrl\u003c/td\u003e\n",
              "      \u003ctd\u003enon-US\u003c/td\u003e\n",
              "      \u003ctd\u003e2\u003c/td\u003e\n",
              "    \u003c/tr\u003e\n",
              "    \u003ctr\u003e\n",
              "      \u003cth\u003e1\u003c/th\u003e\n",
              "      \u003ctd\u003e13\u003c/td\u003e\n",
              "      \u003ctd\u003e0.943924\u003c/td\u003e\n",
              "      \u003ctd\u003eDesktop\u003c/td\u003e\n",
              "      \u003ctd\u003eexpr\u003c/td\u003e\n",
              "      \u003ctd\u003enon-US\u003c/td\u003e\n",
              "      \u003ctd\u003e2\u003c/td\u003e\n",
              "    \u003c/tr\u003e\n",
              "    \u003ctr\u003e\n",
              "      \u003cth\u003e2\u003c/th\u003e\n",
              "      \u003ctd\u003e17\u003c/td\u003e\n",
              "      \u003ctd\u003e1.008037\u003c/td\u003e\n",
              "      \u003ctd\u003eTablet\u003c/td\u003e\n",
              "      \u003ctd\u003ectrl\u003c/td\u003e\n",
              "      \u003ctd\u003enon-US\u003c/td\u003e\n",
              "      \u003ctd\u003e3\u003c/td\u003e\n",
              "    \u003c/tr\u003e\n",
              "    \u003ctr\u003e\n",
              "      \u003cth\u003e3\u003c/th\u003e\n",
              "      \u003ctd\u003e14\u003c/td\u003e\n",
              "      \u003ctd\u003e0.143098\u003c/td\u003e\n",
              "      \u003ctd\u003eTablet\u003c/td\u003e\n",
              "      \u003ctd\u003eexpr\u003c/td\u003e\n",
              "      \u003ctd\u003enon-US\u003c/td\u003e\n",
              "      \u003ctd\u003e3\u003c/td\u003e\n",
              "    \u003c/tr\u003e\n",
              "    \u003ctr\u003e\n",
              "      \u003cth\u003e4\u003c/th\u003e\n",
              "      \u003ctd\u003e16\u003c/td\u003e\n",
              "      \u003ctd\u003e1.470001\u003c/td\u003e\n",
              "      \u003ctd\u003eDesktop\u003c/td\u003e\n",
              "      \u003ctd\u003ectrl\u003c/td\u003e\n",
              "      \u003ctd\u003enon-US\u003c/td\u003e\n",
              "      \u003ctd\u003e2\u003c/td\u003e\n",
              "    \u003c/tr\u003e\n",
              "  \u003c/tbody\u003e\n",
              "\u003c/table\u003e\n",
              "\u003c/div\u003e"
            ],
            "text/plain": [
              "   impressions    clicks platform expr_id country  cookie\n",
              "0           16  0.409625  Desktop    ctrl  non-US       2\n",
              "1           13  0.943924  Desktop    expr  non-US       2\n",
              "2           17  1.008037   Tablet    ctrl  non-US       3\n",
              "3           14  0.143098   Tablet    expr  non-US       3\n",
              "4           16  1.470001  Desktop    ctrl  non-US       2"
            ]
          },
          "execution_count": 2,
          "metadata": {
            "tags": []
          },
          "output_type": "execute_result"
        }
      ],
      "source": [
        "np.random.seed(42)\n",
        "platform = ('Desktop', 'Mobile', 'Tablet')\n",
        "exprs = ('ctrl', 'expr')\n",
        "country = ('US', 'non-US')\n",
        "size = 1000\n",
        "impressions = np.random.randint(10, 20, size)\n",
        "clicks = impressions * 0.1 * np.random.random(size)\n",
        "df = pd.DataFrame({'impressions': impressions, 'clicks': clicks})\n",
        "df['platform'] = np.random.choice(platform, size=size)\n",
        "df['expr_id'] = np.random.choice(exprs, size=size)\n",
        "df['country'] = np.random.choice(country, size=size)\n",
        "df['cookie'] = np.random.choice(range(5), size=size)\n",
        "\n",
        "df.loc[df.country == 'US', 'clicks'] *= 2\n",
        "df.loc[(df.country == 'US') \u0026 (df.platform == 'Desktop'), 'impressions'] *= 4\n",
        "df.head()"
      ]
    },
    {
      "cell_type": "markdown",
      "metadata": {
        "id": "M4nEYlPhudKL"
      },
      "source": [
        "# Simple Metrics\n",
        "There are many built-in simple Metrics in Meterstick. They directly operate on a DataFrame."
      ]
    },
    {
      "cell_type": "markdown",
      "metadata": {
        "id": "xv090eQ6vJsA"
      },
      "source": [
        "## Sum"
      ]
    },
    {
      "cell_type": "code",
      "execution_count": null,
      "metadata": {
        "colab": {
          "height": 80
        },
        "executionInfo": {
          "elapsed": 274,
          "status": "ok",
          "timestamp": 1595026545506,
          "user": {
            "displayName": "",
            "photoUrl": "",
            "userId": ""
          },
          "user_tz": 420
        },
        "id": "TVyts3vuno80",
        "outputId": "f0065028-d348-473a-b0bf-218d482a1584"
      },
      "outputs": [
        {
          "data": {
            "text/html": [
              "\u003cdiv\u003e\n",
              "\u003cstyle scoped\u003e\n",
              "    .dataframe tbody tr th:only-of-type {\n",
              "        vertical-align: middle;\n",
              "    }\n",
              "\n",
              "    .dataframe tbody tr th {\n",
              "        vertical-align: top;\n",
              "    }\n",
              "\n",
              "    .dataframe thead th {\n",
              "        text-align: right;\n",
              "    }\n",
              "\u003c/style\u003e\n",
              "\u003ctable border=\"1\" class=\"dataframe\"\u003e\n",
              "  \u003cthead\u003e\n",
              "    \u003ctr style=\"text-align: right;\"\u003e\n",
              "      \u003cth\u003e\u003c/th\u003e\n",
              "      \u003cth\u003esum(clicks)\u003c/th\u003e\n",
              "    \u003c/tr\u003e\n",
              "  \u003c/thead\u003e\n",
              "  \u003ctbody\u003e\n",
              "    \u003ctr\u003e\n",
              "      \u003cth\u003e0\u003c/th\u003e\n",
              "      \u003ctd\u003e1099.946824\u003c/td\u003e\n",
              "    \u003c/tr\u003e\n",
              "  \u003c/tbody\u003e\n",
              "\u003c/table\u003e\n",
              "\u003c/div\u003e"
            ],
            "text/plain": [
              "   sum(clicks)\n",
              "0  1099.946824"
            ]
          },
          "execution_count": 20,
          "metadata": {
            "tags": []
          },
          "output_type": "execute_result"
        }
      ],
      "source": [
        "Sum('clicks').compute_on(df)"
      ]
    },
    {
      "cell_type": "markdown",
      "metadata": {
        "id": "imbzELxnuwLN"
      },
      "source": [
        "## Count"
      ]
    },
    {
      "cell_type": "code",
      "execution_count": null,
      "metadata": {
        "colab": {
          "height": 80
        },
        "executionInfo": {
          "elapsed": 439,
          "status": "ok",
          "timestamp": 1602800472205,
          "user": {
            "displayName": "",
            "photoUrl": "",
            "userId": ""
          },
          "user_tz": 420
        },
        "id": "cTww4tuHuzMC",
        "outputId": "b2fb4b2b-9dca-4c73-a3f5-0c5ea029c066"
      },
      "outputs": [
        {
          "data": {
            "text/html": [
              "\u003cdiv\u003e\n",
              "\u003cstyle scoped\u003e\n",
              "    .dataframe tbody tr th:only-of-type {\n",
              "        vertical-align: middle;\n",
              "    }\n",
              "\n",
              "    .dataframe tbody tr th {\n",
              "        vertical-align: top;\n",
              "    }\n",
              "\n",
              "    .dataframe thead th {\n",
              "        text-align: right;\n",
              "    }\n",
              "\u003c/style\u003e\n",
              "\u003ctable border=\"1\" class=\"dataframe\"\u003e\n",
              "  \u003cthead\u003e\n",
              "    \u003ctr style=\"text-align: right;\"\u003e\n",
              "      \u003cth\u003e\u003c/th\u003e\n",
              "      \u003cth\u003ecount(country)\u003c/th\u003e\n",
              "    \u003c/tr\u003e\n",
              "  \u003c/thead\u003e\n",
              "  \u003ctbody\u003e\n",
              "    \u003ctr\u003e\n",
              "      \u003cth\u003e0\u003c/th\u003e\n",
              "      \u003ctd\u003e1000\u003c/td\u003e\n",
              "    \u003c/tr\u003e\n",
              "  \u003c/tbody\u003e\n",
              "\u003c/table\u003e\n",
              "\u003c/div\u003e"
            ],
            "text/plain": [
              "   count(country)\n",
              "0            1000"
            ]
          },
          "execution_count": 3,
          "metadata": {
            "tags": []
          },
          "output_type": "execute_result"
        }
      ],
      "source": [
        "Count('country').compute_on(df)"
      ]
    },
    {
      "cell_type": "code",
      "execution_count": null,
      "metadata": {
        "colab": {
          "height": 80
        },
        "executionInfo": {
          "elapsed": 483,
          "status": "ok",
          "timestamp": 1602800482735,
          "user": {
            "displayName": "",
            "photoUrl": "",
            "userId": ""
          },
          "user_tz": 420
        },
        "id": "QWylIectWgu_",
        "outputId": "4db7f426-0190-4907-a5db-dd2439383080"
      },
      "outputs": [
        {
          "data": {
            "text/html": [
              "\u003cdiv\u003e\n",
              "\u003cstyle scoped\u003e\n",
              "    .dataframe tbody tr th:only-of-type {\n",
              "        vertical-align: middle;\n",
              "    }\n",
              "\n",
              "    .dataframe tbody tr th {\n",
              "        vertical-align: top;\n",
              "    }\n",
              "\n",
              "    .dataframe thead th {\n",
              "        text-align: right;\n",
              "    }\n",
              "\u003c/style\u003e\n",
              "\u003ctable border=\"1\" class=\"dataframe\"\u003e\n",
              "  \u003cthead\u003e\n",
              "    \u003ctr style=\"text-align: right;\"\u003e\n",
              "      \u003cth\u003e\u003c/th\u003e\n",
              "      \u003cth\u003ecount(distinct country)\u003c/th\u003e\n",
              "    \u003c/tr\u003e\n",
              "  \u003c/thead\u003e\n",
              "  \u003ctbody\u003e\n",
              "    \u003ctr\u003e\n",
              "      \u003cth\u003e0\u003c/th\u003e\n",
              "      \u003ctd\u003e2\u003c/td\u003e\n",
              "    \u003c/tr\u003e\n",
              "  \u003c/tbody\u003e\n",
              "\u003c/table\u003e\n",
              "\u003c/div\u003e"
            ],
            "text/plain": [
              "   count(distinct country)\n",
              "0                        2"
            ]
          },
          "execution_count": 4,
          "metadata": {
            "tags": []
          },
          "output_type": "execute_result"
        }
      ],
      "source": [
        "Count('country', distinct=True).compute_on(df)"
      ]
    },
    {
      "cell_type": "markdown",
      "metadata": {
        "id": "tbpIWm7_5z2H"
      },
      "source": [
        "## Dot (inner product)"
      ]
    },
    {
      "cell_type": "code",
      "execution_count": null,
      "metadata": {
        "colab": {
          "height": 80
        },
        "executionInfo": {
          "elapsed": 327,
          "status": "ok",
          "timestamp": 1616410947877,
          "user": {
            "displayName": "",
            "photoUrl": "",
            "userId": ""
          },
          "user_tz": 420
        },
        "id": "LvRyrQx85ttF",
        "outputId": "4d3108e3-11c5-4f2c-dc59-ea97a5b88303"
      },
      "outputs": [
        {
          "data": {
            "text/html": [
              "\u003cdiv\u003e\n",
              "\u003cstyle scoped\u003e\n",
              "    .dataframe tbody tr th:only-of-type {\n",
              "        vertical-align: middle;\n",
              "    }\n",
              "\n",
              "    .dataframe tbody tr th {\n",
              "        vertical-align: top;\n",
              "    }\n",
              "\n",
              "    .dataframe thead th {\n",
              "        text-align: right;\n",
              "    }\n",
              "\u003c/style\u003e\n",
              "\u003ctable border=\"1\" class=\"dataframe\"\u003e\n",
              "  \u003cthead\u003e\n",
              "    \u003ctr style=\"text-align: right;\"\u003e\n",
              "      \u003cth\u003e\u003c/th\u003e\n",
              "      \u003cth\u003esum(clicks * impressions)\u003c/th\u003e\n",
              "    \u003c/tr\u003e\n",
              "  \u003c/thead\u003e\n",
              "  \u003ctbody\u003e\n",
              "    \u003ctr\u003e\n",
              "      \u003cth\u003e0\u003c/th\u003e\n",
              "      \u003ctd\u003e27755.49293\u003c/td\u003e\n",
              "    \u003c/tr\u003e\n",
              "  \u003c/tbody\u003e\n",
              "\u003c/table\u003e\n",
              "\u003c/div\u003e"
            ],
            "text/plain": [
              "   sum(clicks * impressions)\n",
              "0                27755.49293"
            ]
          },
          "execution_count": 4,
          "metadata": {
            "tags": []
          },
          "output_type": "execute_result"
        }
      ],
      "source": [
        "Dot('clicks', 'impressions').compute_on(df)"
      ]
    },
    {
      "cell_type": "markdown",
      "metadata": {
        "id": "EyyDXIbgmjzI"
      },
      "source": [
        "It can also be normalized."
      ]
    },
    {
      "cell_type": "code",
      "execution_count": null,
      "metadata": {
        "colab": {
          "height": 80
        },
        "executionInfo": {
          "elapsed": 340,
          "status": "ok",
          "timestamp": 1616410961294,
          "user": {
            "displayName": "",
            "photoUrl": "",
            "userId": ""
          },
          "user_tz": 420
        },
        "id": "glQsTDVgla6x",
        "outputId": "9aa20256-b02c-4085-ec62-dccfd994af18"
      },
      "outputs": [
        {
          "data": {
            "text/html": [
              "\u003cdiv\u003e\n",
              "\u003cstyle scoped\u003e\n",
              "    .dataframe tbody tr th:only-of-type {\n",
              "        vertical-align: middle;\n",
              "    }\n",
              "\n",
              "    .dataframe tbody tr th {\n",
              "        vertical-align: top;\n",
              "    }\n",
              "\n",
              "    .dataframe thead th {\n",
              "        text-align: right;\n",
              "    }\n",
              "\u003c/style\u003e\n",
              "\u003ctable border=\"1\" class=\"dataframe\"\u003e\n",
              "  \u003cthead\u003e\n",
              "    \u003ctr style=\"text-align: right;\"\u003e\n",
              "      \u003cth\u003e\u003c/th\u003e\n",
              "      \u003cth\u003emean(clicks * clicks)\u003c/th\u003e\n",
              "    \u003c/tr\u003e\n",
              "  \u003c/thead\u003e\n",
              "  \u003ctbody\u003e\n",
              "    \u003ctr\u003e\n",
              "      \u003cth\u003e0\u003c/th\u003e\n",
              "      \u003ctd\u003e1.84451\u003c/td\u003e\n",
              "    \u003c/tr\u003e\n",
              "  \u003c/tbody\u003e\n",
              "\u003c/table\u003e\n",
              "\u003c/div\u003e"
            ],
            "text/plain": [
              "   mean(clicks * clicks)\n",
              "0                1.84451"
            ]
          },
          "execution_count": 6,
          "metadata": {
            "tags": []
          },
          "output_type": "execute_result"
        }
      ],
      "source": [
        "Dot('clicks', 'clicks', True).compute_on(df)"
      ]
    },
    {
      "cell_type": "markdown",
      "metadata": {
        "id": "T1hPtrBliRSa"
      },
      "source": [
        "## Max"
      ]
    },
    {
      "cell_type": "code",
      "execution_count": null,
      "metadata": {
        "colab": {
          "height": 80
        },
        "executionInfo": {
          "elapsed": 515,
          "status": "ok",
          "timestamp": 1600991606672,
          "user": {
            "displayName": "",
            "photoUrl": "",
            "userId": ""
          },
          "user_tz": 420
        },
        "id": "XzMvl52ZiSiz",
        "outputId": "e3b2aa26-1936-4f60-eebc-3223332173ce"
      },
      "outputs": [
        {
          "data": {
            "text/html": [
              "\u003cdiv\u003e\n",
              "\u003cstyle scoped\u003e\n",
              "    .dataframe tbody tr th:only-of-type {\n",
              "        vertical-align: middle;\n",
              "    }\n",
              "\n",
              "    .dataframe tbody tr th {\n",
              "        vertical-align: top;\n",
              "    }\n",
              "\n",
              "    .dataframe thead th {\n",
              "        text-align: right;\n",
              "    }\n",
              "\u003c/style\u003e\n",
              "\u003ctable border=\"1\" class=\"dataframe\"\u003e\n",
              "  \u003cthead\u003e\n",
              "    \u003ctr style=\"text-align: right;\"\u003e\n",
              "      \u003cth\u003e\u003c/th\u003e\n",
              "      \u003cth\u003emax(clicks)\u003c/th\u003e\n",
              "    \u003c/tr\u003e\n",
              "  \u003c/thead\u003e\n",
              "  \u003ctbody\u003e\n",
              "    \u003ctr\u003e\n",
              "      \u003cth\u003e0\u003c/th\u003e\n",
              "      \u003ctd\u003e3.782826\u003c/td\u003e\n",
              "    \u003c/tr\u003e\n",
              "  \u003c/tbody\u003e\n",
              "\u003c/table\u003e\n",
              "\u003c/div\u003e"
            ],
            "text/plain": [
              "   max(clicks)\n",
              "0     3.782826"
            ]
          },
          "execution_count": 3,
          "metadata": {
            "tags": []
          },
          "output_type": "execute_result"
        }
      ],
      "source": [
        "Max('clicks').compute_on(df)"
      ]
    },
    {
      "cell_type": "markdown",
      "metadata": {
        "id": "hUlXQ1IjiV5b"
      },
      "source": [
        "## Min"
      ]
    },
    {
      "cell_type": "code",
      "execution_count": null,
      "metadata": {
        "colab": {
          "height": 80
        },
        "executionInfo": {
          "elapsed": 427,
          "status": "ok",
          "timestamp": 1600991623794,
          "user": {
            "displayName": "",
            "photoUrl": "",
            "userId": ""
          },
          "user_tz": 420
        },
        "id": "7kyjKainiWzp",
        "outputId": "7abe9e3c-529b-4c88-b673-b7c9c629ca7f"
      },
      "outputs": [
        {
          "data": {
            "text/html": [
              "\u003cdiv\u003e\n",
              "\u003cstyle scoped\u003e\n",
              "    .dataframe tbody tr th:only-of-type {\n",
              "        vertical-align: middle;\n",
              "    }\n",
              "\n",
              "    .dataframe tbody tr th {\n",
              "        vertical-align: top;\n",
              "    }\n",
              "\n",
              "    .dataframe thead th {\n",
              "        text-align: right;\n",
              "    }\n",
              "\u003c/style\u003e\n",
              "\u003ctable border=\"1\" class=\"dataframe\"\u003e\n",
              "  \u003cthead\u003e\n",
              "    \u003ctr style=\"text-align: right;\"\u003e\n",
              "      \u003cth\u003e\u003c/th\u003e\n",
              "      \u003cth\u003emin(clicks)\u003c/th\u003e\n",
              "    \u003c/tr\u003e\n",
              "  \u003c/thead\u003e\n",
              "  \u003ctbody\u003e\n",
              "    \u003ctr\u003e\n",
              "      \u003cth\u003e0\u003c/th\u003e\n",
              "      \u003ctd\u003e0.000855\u003c/td\u003e\n",
              "    \u003c/tr\u003e\n",
              "  \u003c/tbody\u003e\n",
              "\u003c/table\u003e\n",
              "\u003c/div\u003e"
            ],
            "text/plain": [
              "   min(clicks)\n",
              "0     0.000855"
            ]
          },
          "execution_count": 4,
          "metadata": {
            "tags": []
          },
          "output_type": "execute_result"
        }
      ],
      "source": [
        "Min('clicks').compute_on(df)"
      ]
    },
    {
      "cell_type": "markdown",
      "metadata": {
        "id": "om2mS_pKu_fg"
      },
      "source": [
        "## Mean"
      ]
    },
    {
      "cell_type": "code",
      "execution_count": null,
      "metadata": {
        "colab": {
          "height": 80
        },
        "executionInfo": {
          "elapsed": 368,
          "status": "ok",
          "timestamp": 1594365621883,
          "user": {
            "displayName": "",
            "photoUrl": "",
            "userId": ""
          },
          "user_tz": 420
        },
        "id": "segsW0glvB3K",
        "outputId": "b3e5e0b8-27a6-4acb-f059-745bf00f25d2"
      },
      "outputs": [
        {
          "data": {
            "text/html": [
              "\u003cdiv\u003e\n",
              "\u003cstyle scoped\u003e\n",
              "    .dataframe tbody tr th:only-of-type {\n",
              "        vertical-align: middle;\n",
              "    }\n",
              "\n",
              "    .dataframe tbody tr th {\n",
              "        vertical-align: top;\n",
              "    }\n",
              "\n",
              "    .dataframe thead th {\n",
              "        text-align: right;\n",
              "    }\n",
              "\u003c/style\u003e\n",
              "\u003ctable border=\"1\" class=\"dataframe\"\u003e\n",
              "  \u003cthead\u003e\n",
              "    \u003ctr style=\"text-align: right;\"\u003e\n",
              "      \u003cth\u003e\u003c/th\u003e\n",
              "      \u003cth\u003emean(clicks)\u003c/th\u003e\n",
              "    \u003c/tr\u003e\n",
              "  \u003c/thead\u003e\n",
              "  \u003ctbody\u003e\n",
              "    \u003ctr\u003e\n",
              "      \u003cth\u003e0\u003c/th\u003e\n",
              "      \u003ctd\u003e1.099947\u003c/td\u003e\n",
              "    \u003c/tr\u003e\n",
              "  \u003c/tbody\u003e\n",
              "\u003c/table\u003e\n",
              "\u003c/div\u003e"
            ],
            "text/plain": [
              "   mean(clicks)\n",
              "0      1.099947"
            ]
          },
          "execution_count": 5,
          "metadata": {
            "tags": []
          },
          "output_type": "execute_result"
        }
      ],
      "source": [
        "Mean('clicks').compute_on(df)"
      ]
    },
    {
      "cell_type": "markdown",
      "metadata": {
        "id": "VjMoDhvNvmyn"
      },
      "source": [
        "###Weighted Mean"
      ]
    },
    {
      "cell_type": "code",
      "execution_count": null,
      "metadata": {
        "colab": {
          "height": 80
        },
        "executionInfo": {
          "elapsed": 415,
          "status": "ok",
          "timestamp": 1594365622359,
          "user": {
            "displayName": "",
            "photoUrl": "",
            "userId": ""
          },
          "user_tz": 420
        },
        "id": "2JagqbG7vonz",
        "outputId": "c9ad7f21-e471-40cc-96ea-0303cbf97104"
      },
      "outputs": [
        {
          "data": {
            "text/html": [
              "\u003cdiv\u003e\n",
              "\u003cstyle scoped\u003e\n",
              "    .dataframe tbody tr th:only-of-type {\n",
              "        vertical-align: middle;\n",
              "    }\n",
              "\n",
              "    .dataframe tbody tr th {\n",
              "        vertical-align: top;\n",
              "    }\n",
              "\n",
              "    .dataframe thead th {\n",
              "        text-align: right;\n",
              "    }\n",
              "\u003c/style\u003e\n",
              "\u003ctable border=\"1\" class=\"dataframe\"\u003e\n",
              "  \u003cthead\u003e\n",
              "    \u003ctr style=\"text-align: right;\"\u003e\n",
              "      \u003cth\u003e\u003c/th\u003e\n",
              "      \u003cth\u003eimpressions-weighted mean(clicks)\u003c/th\u003e\n",
              "    \u003c/tr\u003e\n",
              "  \u003c/thead\u003e\n",
              "  \u003ctbody\u003e\n",
              "    \u003ctr\u003e\n",
              "      \u003cth\u003e0\u003c/th\u003e\n",
              "      \u003ctd\u003e1.253466\u003c/td\u003e\n",
              "    \u003c/tr\u003e\n",
              "  \u003c/tbody\u003e\n",
              "\u003c/table\u003e\n",
              "\u003c/div\u003e"
            ],
            "text/plain": [
              "   impressions-weighted mean(clicks)\n",
              "0                           1.253466"
            ]
          },
          "execution_count": 6,
          "metadata": {
            "tags": []
          },
          "output_type": "execute_result"
        }
      ],
      "source": [
        "Mean('clicks', 'impressions').compute_on(df)"
      ]
    },
    {
      "cell_type": "markdown",
      "metadata": {
        "id": "baVEO52pvM6M"
      },
      "source": [
        "##Quantile"
      ]
    },
    {
      "cell_type": "code",
      "execution_count": null,
      "metadata": {
        "colab": {
          "height": 80
        },
        "executionInfo": {
          "elapsed": 393,
          "status": "ok",
          "timestamp": 1594365622826,
          "user": {
            "displayName": "",
            "photoUrl": "",
            "userId": ""
          },
          "user_tz": 420
        },
        "id": "FxBSzQFkvXpi",
        "outputId": "6cf32f81-40a3-4021-cfb8-b2f8934cabd9"
      },
      "outputs": [
        {
          "data": {
            "text/html": [
              "\u003cdiv\u003e\n",
              "\u003cstyle scoped\u003e\n",
              "    .dataframe tbody tr th:only-of-type {\n",
              "        vertical-align: middle;\n",
              "    }\n",
              "\n",
              "    .dataframe tbody tr th {\n",
              "        vertical-align: top;\n",
              "    }\n",
              "\n",
              "    .dataframe thead th {\n",
              "        text-align: right;\n",
              "    }\n",
              "\u003c/style\u003e\n",
              "\u003ctable border=\"1\" class=\"dataframe\"\u003e\n",
              "  \u003cthead\u003e\n",
              "    \u003ctr style=\"text-align: right;\"\u003e\n",
              "      \u003cth\u003e\u003c/th\u003e\n",
              "      \u003cth\u003equantile(clicks, 0.5)\u003c/th\u003e\n",
              "    \u003c/tr\u003e\n",
              "  \u003c/thead\u003e\n",
              "  \u003ctbody\u003e\n",
              "    \u003ctr\u003e\n",
              "      \u003cth\u003e0\u003c/th\u003e\n",
              "      \u003ctd\u003e0.926113\u003c/td\u003e\n",
              "    \u003c/tr\u003e\n",
              "  \u003c/tbody\u003e\n",
              "\u003c/table\u003e\n",
              "\u003c/div\u003e"
            ],
            "text/plain": [
              "   quantile(clicks, 0.5)\n",
              "0               0.926113"
            ]
          },
          "execution_count": 7,
          "metadata": {
            "tags": []
          },
          "output_type": "execute_result"
        }
      ],
      "source": [
        "Quantile('clicks').compute_on(df) # Default is median."
      ]
    },
    {
      "cell_type": "code",
      "execution_count": null,
      "metadata": {
        "colab": {
          "height": 80
        },
        "executionInfo": {
          "elapsed": 388,
          "status": "ok",
          "timestamp": 1594365623293,
          "user": {
            "displayName": "",
            "photoUrl": "",
            "userId": ""
          },
          "user_tz": 420
        },
        "id": "J0ojPu4wv1j9",
        "outputId": "746363a7-f671-42da-8a20-33ee73a39f36"
      },
      "outputs": [
        {
          "data": {
            "text/html": [
              "\u003cdiv\u003e\n",
              "\u003cstyle scoped\u003e\n",
              "    .dataframe tbody tr th:only-of-type {\n",
              "        vertical-align: middle;\n",
              "    }\n",
              "\n",
              "    .dataframe tbody tr th {\n",
              "        vertical-align: top;\n",
              "    }\n",
              "\n",
              "    .dataframe thead th {\n",
              "        text-align: right;\n",
              "    }\n",
              "\u003c/style\u003e\n",
              "\u003ctable border=\"1\" class=\"dataframe\"\u003e\n",
              "  \u003cthead\u003e\n",
              "    \u003ctr style=\"text-align: right;\"\u003e\n",
              "      \u003cth\u003e\u003c/th\u003e\n",
              "      \u003cth\u003equantile(clicks, 0.2)\u003c/th\u003e\n",
              "    \u003c/tr\u003e\n",
              "  \u003c/thead\u003e\n",
              "  \u003ctbody\u003e\n",
              "    \u003ctr\u003e\n",
              "      \u003cth\u003e0\u003c/th\u003e\n",
              "      \u003ctd\u003e0.382284\u003c/td\u003e\n",
              "    \u003c/tr\u003e\n",
              "  \u003c/tbody\u003e\n",
              "\u003c/table\u003e\n",
              "\u003c/div\u003e"
            ],
            "text/plain": [
              "   quantile(clicks, 0.2)\n",
              "0               0.382284"
            ]
          },
          "execution_count": 8,
          "metadata": {
            "tags": []
          },
          "output_type": "execute_result"
        }
      ],
      "source": [
        "Quantile('clicks', 0.2).compute_on(df)"
      ]
    },
    {
      "cell_type": "code",
      "execution_count": null,
      "metadata": {
        "colab": {
          "height": 80
        },
        "executionInfo": {
          "elapsed": 388,
          "status": "ok",
          "timestamp": 1594365623764,
          "user": {
            "displayName": "",
            "photoUrl": "",
            "userId": ""
          },
          "user_tz": 420
        },
        "id": "rO7n3brmv8Q8",
        "outputId": "045b3b41-6e98-4d88-88f5-733e1e808487"
      },
      "outputs": [
        {
          "data": {
            "text/html": [
              "\u003cdiv\u003e\n",
              "\u003cstyle scoped\u003e\n",
              "    .dataframe tbody tr th:only-of-type {\n",
              "        vertical-align: middle;\n",
              "    }\n",
              "\n",
              "    .dataframe tbody tr th {\n",
              "        vertical-align: top;\n",
              "    }\n",
              "\n",
              "    .dataframe thead th {\n",
              "        text-align: right;\n",
              "    }\n",
              "\u003c/style\u003e\n",
              "\u003ctable border=\"1\" class=\"dataframe\"\u003e\n",
              "  \u003cthead\u003e\n",
              "    \u003ctr style=\"text-align: right;\"\u003e\n",
              "      \u003cth\u003e\u003c/th\u003e\n",
              "      \u003cth\u003equantile(clicks, 0.2)\u003c/th\u003e\n",
              "      \u003cth\u003equantile(clicks, 0.5)\u003c/th\u003e\n",
              "    \u003c/tr\u003e\n",
              "  \u003c/thead\u003e\n",
              "  \u003ctbody\u003e\n",
              "    \u003ctr\u003e\n",
              "      \u003cth\u003e0\u003c/th\u003e\n",
              "      \u003ctd\u003e0.382284\u003c/td\u003e\n",
              "      \u003ctd\u003e0.926113\u003c/td\u003e\n",
              "    \u003c/tr\u003e\n",
              "  \u003c/tbody\u003e\n",
              "\u003c/table\u003e\n",
              "\u003c/div\u003e"
            ],
            "text/plain": [
              "   quantile(clicks, 0.2)  quantile(clicks, 0.5)\n",
              "0               0.382284               0.926113"
            ]
          },
          "execution_count": 9,
          "metadata": {
            "tags": []
          },
          "output_type": "execute_result"
        }
      ],
      "source": [
        "Quantile('clicks', (0.2, 0.5)).compute_on(df) # Quantile can take multiple quantiles."
      ]
    },
    {
      "cell_type": "markdown",
      "metadata": {
        "id": "8jcluN5LwgCt"
      },
      "source": [
        "### Interpolation\n",
        "You can specify how you want to interpolate the quantile. It could be any of (‘linear’, ‘lower’, ‘higher’, ‘midpoint’, ‘nearest’)."
      ]
    },
    {
      "cell_type": "code",
      "execution_count": null,
      "metadata": {
        "colab": {
          "height": 80
        },
        "executionInfo": {
          "elapsed": 384,
          "status": "ok",
          "timestamp": 1594365624220,
          "user": {
            "displayName": "",
            "photoUrl": "",
            "userId": ""
          },
          "user_tz": 420
        },
        "id": "4LFIT6MIwhaT",
        "outputId": "e54cbea3-2537-40ee-fd99-f5fd5a2a2d06"
      },
      "outputs": [
        {
          "data": {
            "text/html": [
              "\u003cdiv\u003e\n",
              "\u003cstyle scoped\u003e\n",
              "    .dataframe tbody tr th:only-of-type {\n",
              "        vertical-align: middle;\n",
              "    }\n",
              "\n",
              "    .dataframe tbody tr th {\n",
              "        vertical-align: top;\n",
              "    }\n",
              "\n",
              "    .dataframe thead th {\n",
              "        text-align: right;\n",
              "    }\n",
              "\u003c/style\u003e\n",
              "\u003ctable border=\"1\" class=\"dataframe\"\u003e\n",
              "  \u003cthead\u003e\n",
              "    \u003ctr style=\"text-align: right;\"\u003e\n",
              "      \u003cth\u003e\u003c/th\u003e\n",
              "      \u003cth\u003equantile(clicks, 0.5)\u003c/th\u003e\n",
              "    \u003c/tr\u003e\n",
              "  \u003c/thead\u003e\n",
              "  \u003ctbody\u003e\n",
              "    \u003ctr\u003e\n",
              "      \u003cth\u003e0\u003c/th\u003e\n",
              "      \u003ctd\u003e0.927078\u003c/td\u003e\n",
              "    \u003c/tr\u003e\n",
              "  \u003c/tbody\u003e\n",
              "\u003c/table\u003e\n",
              "\u003c/div\u003e"
            ],
            "text/plain": [
              "   quantile(clicks, 0.5)\n",
              "0               0.927078"
            ]
          },
          "execution_count": 10,
          "metadata": {
            "tags": []
          },
          "output_type": "execute_result"
        }
      ],
      "source": [
        "Quantile('clicks', 0.5, interpolation='higher').compute_on(df)"
      ]
    },
    {
      "cell_type": "markdown",
      "metadata": {
        "id": "-JXvzK1TwGqC"
      },
      "source": [
        "### Weighted Quantile"
      ]
    },
    {
      "cell_type": "code",
      "execution_count": null,
      "metadata": {
        "colab": {
          "height": 80
        },
        "executionInfo": {
          "elapsed": 383,
          "status": "ok",
          "timestamp": 1594365624656,
          "user": {
            "displayName": "",
            "photoUrl": "",
            "userId": ""
          },
          "user_tz": 420
        },
        "id": "rquZ6eL5wL8_",
        "outputId": "e13dbc33-fd10-4682-9b66-950e4427c1d3"
      },
      "outputs": [
        {
          "data": {
            "text/html": [
              "\u003cdiv\u003e\n",
              "\u003cstyle scoped\u003e\n",
              "    .dataframe tbody tr th:only-of-type {\n",
              "        vertical-align: middle;\n",
              "    }\n",
              "\n",
              "    .dataframe tbody tr th {\n",
              "        vertical-align: top;\n",
              "    }\n",
              "\n",
              "    .dataframe thead th {\n",
              "        text-align: right;\n",
              "    }\n",
              "\u003c/style\u003e\n",
              "\u003ctable border=\"1\" class=\"dataframe\"\u003e\n",
              "  \u003cthead\u003e\n",
              "    \u003ctr style=\"text-align: right;\"\u003e\n",
              "      \u003cth\u003e\u003c/th\u003e\n",
              "      \u003cth\u003eimpressions-weighted quantile(clicks, 0.5)\u003c/th\u003e\n",
              "    \u003c/tr\u003e\n",
              "  \u003c/thead\u003e\n",
              "  \u003ctbody\u003e\n",
              "    \u003ctr\u003e\n",
              "      \u003cth\u003e0\u003c/th\u003e\n",
              "      \u003ctd\u003e1.100915\u003c/td\u003e\n",
              "    \u003c/tr\u003e\n",
              "  \u003c/tbody\u003e\n",
              "\u003c/table\u003e\n",
              "\u003c/div\u003e"
            ],
            "text/plain": [
              "   impressions-weighted quantile(clicks, 0.5)\n",
              "0                                    1.100915"
            ]
          },
          "execution_count": 11,
          "metadata": {
            "tags": []
          },
          "output_type": "execute_result"
        }
      ],
      "source": [
        "Quantile('clicks', weight='impressions').compute_on(df)"
      ]
    },
    {
      "cell_type": "markdown",
      "metadata": {
        "id": "4ds1nTgZvPCn"
      },
      "source": [
        "##Variance"
      ]
    },
    {
      "cell_type": "code",
      "execution_count": null,
      "metadata": {
        "colab": {
          "height": 80
        },
        "executionInfo": {
          "elapsed": 385,
          "status": "ok",
          "timestamp": 1594365625093,
          "user": {
            "displayName": "",
            "photoUrl": "",
            "userId": ""
          },
          "user_tz": 420
        },
        "id": "LrSqbbtVw-So",
        "outputId": "cabb28b4-23e5-4bf2-a96d-c02fe1e76ec2"
      },
      "outputs": [
        {
          "data": {
            "text/html": [
              "\u003cdiv\u003e\n",
              "\u003cstyle scoped\u003e\n",
              "    .dataframe tbody tr th:only-of-type {\n",
              "        vertical-align: middle;\n",
              "    }\n",
              "\n",
              "    .dataframe tbody tr th {\n",
              "        vertical-align: top;\n",
              "    }\n",
              "\n",
              "    .dataframe thead th {\n",
              "        text-align: right;\n",
              "    }\n",
              "\u003c/style\u003e\n",
              "\u003ctable border=\"1\" class=\"dataframe\"\u003e\n",
              "  \u003cthead\u003e\n",
              "    \u003ctr style=\"text-align: right;\"\u003e\n",
              "      \u003cth\u003e\u003c/th\u003e\n",
              "      \u003cth\u003evar(clicks)\u003c/th\u003e\n",
              "    \u003c/tr\u003e\n",
              "  \u003c/thead\u003e\n",
              "  \u003ctbody\u003e\n",
              "    \u003ctr\u003e\n",
              "      \u003cth\u003e0\u003c/th\u003e\n",
              "      \u003ctd\u003e0.635262\u003c/td\u003e\n",
              "    \u003c/tr\u003e\n",
              "  \u003c/tbody\u003e\n",
              "\u003c/table\u003e\n",
              "\u003c/div\u003e"
            ],
            "text/plain": [
              "   var(clicks)\n",
              "0     0.635262"
            ]
          },
          "execution_count": 12,
          "metadata": {
            "tags": []
          },
          "output_type": "execute_result"
        }
      ],
      "source": [
        "Variance('clicks').compute_on(df)"
      ]
    },
    {
      "cell_type": "markdown",
      "metadata": {
        "id": "GePCapHoxVb-"
      },
      "source": [
        "###Biased Variance\n",
        "The default Variance is unbiased, namely, the divisor used in calculations is N - 1. You could set unbiased=False to use N as the divisor."
      ]
    },
    {
      "cell_type": "code",
      "execution_count": null,
      "metadata": {
        "colab": {
          "height": 80
        },
        "executionInfo": {
          "elapsed": 368,
          "status": "ok",
          "timestamp": 1594365625540,
          "user": {
            "displayName": "",
            "photoUrl": "",
            "userId": ""
          },
          "user_tz": 420
        },
        "id": "bxwlTyxrxusg",
        "outputId": "36f588c5-8089-4b52-8cdb-4c19f64e89a4"
      },
      "outputs": [
        {
          "data": {
            "text/html": [
              "\u003cdiv\u003e\n",
              "\u003cstyle scoped\u003e\n",
              "    .dataframe tbody tr th:only-of-type {\n",
              "        vertical-align: middle;\n",
              "    }\n",
              "\n",
              "    .dataframe tbody tr th {\n",
              "        vertical-align: top;\n",
              "    }\n",
              "\n",
              "    .dataframe thead th {\n",
              "        text-align: right;\n",
              "    }\n",
              "\u003c/style\u003e\n",
              "\u003ctable border=\"1\" class=\"dataframe\"\u003e\n",
              "  \u003cthead\u003e\n",
              "    \u003ctr style=\"text-align: right;\"\u003e\n",
              "      \u003cth\u003e\u003c/th\u003e\n",
              "      \u003cth\u003evar(clicks)\u003c/th\u003e\n",
              "    \u003c/tr\u003e\n",
              "  \u003c/thead\u003e\n",
              "  \u003ctbody\u003e\n",
              "    \u003ctr\u003e\n",
              "      \u003cth\u003e0\u003c/th\u003e\n",
              "      \u003ctd\u003e0.634627\u003c/td\u003e\n",
              "    \u003c/tr\u003e\n",
              "  \u003c/tbody\u003e\n",
              "\u003c/table\u003e\n",
              "\u003c/div\u003e"
            ],
            "text/plain": [
              "   var(clicks)\n",
              "0     0.634627"
            ]
          },
          "execution_count": 13,
          "metadata": {
            "tags": []
          },
          "output_type": "execute_result"
        }
      ],
      "source": [
        "Variance('clicks', unbiased=False).compute_on(df)"
      ]
    },
    {
      "cell_type": "markdown",
      "metadata": {
        "id": "jr9jIf0ox1eM"
      },
      "source": [
        "### Weighted Variance"
      ]
    },
    {
      "cell_type": "code",
      "execution_count": null,
      "metadata": {
        "colab": {
          "height": 80
        },
        "executionInfo": {
          "elapsed": 377,
          "status": "ok",
          "timestamp": 1594365625988,
          "user": {
            "displayName": "",
            "photoUrl": "",
            "userId": ""
          },
          "user_tz": 420
        },
        "id": "0ZxNnhcZx5fz",
        "outputId": "740f3f38-5d42-4d73-b572-8bf7d6e5f28c"
      },
      "outputs": [
        {
          "data": {
            "text/html": [
              "\u003cdiv\u003e\n",
              "\u003cstyle scoped\u003e\n",
              "    .dataframe tbody tr th:only-of-type {\n",
              "        vertical-align: middle;\n",
              "    }\n",
              "\n",
              "    .dataframe tbody tr th {\n",
              "        vertical-align: top;\n",
              "    }\n",
              "\n",
              "    .dataframe thead th {\n",
              "        text-align: right;\n",
              "    }\n",
              "\u003c/style\u003e\n",
              "\u003ctable border=\"1\" class=\"dataframe\"\u003e\n",
              "  \u003cthead\u003e\n",
              "    \u003ctr style=\"text-align: right;\"\u003e\n",
              "      \u003cth\u003e\u003c/th\u003e\n",
              "      \u003cth\u003eimpressions-weighted var(clicks)\u003c/th\u003e\n",
              "    \u003c/tr\u003e\n",
              "  \u003c/thead\u003e\n",
              "  \u003ctbody\u003e\n",
              "    \u003ctr\u003e\n",
              "      \u003cth\u003e0\u003c/th\u003e\n",
              "      \u003ctd\u003e0.757683\u003c/td\u003e\n",
              "    \u003c/tr\u003e\n",
              "  \u003c/tbody\u003e\n",
              "\u003c/table\u003e\n",
              "\u003c/div\u003e"
            ],
            "text/plain": [
              "   impressions-weighted var(clicks)\n",
              "0                          0.757683"
            ]
          },
          "execution_count": 14,
          "metadata": {
            "tags": []
          },
          "output_type": "execute_result"
        }
      ],
      "source": [
        "Variance('clicks', weight='impressions').compute_on(df)"
      ]
    },
    {
      "cell_type": "markdown",
      "metadata": {
        "id": "IHozqoZ2vQIf"
      },
      "source": [
        "##Standard Deviation"
      ]
    },
    {
      "cell_type": "code",
      "execution_count": null,
      "metadata": {
        "colab": {
          "height": 80
        },
        "executionInfo": {
          "elapsed": 406,
          "status": "ok",
          "timestamp": 1594365626510,
          "user": {
            "displayName": "",
            "photoUrl": "",
            "userId": ""
          },
          "user_tz": 420
        },
        "id": "v15AY43ByekK",
        "outputId": "dfb0aaa9-22f0-4467-ccb5-3d7235bbe806"
      },
      "outputs": [
        {
          "data": {
            "text/html": [
              "\u003cdiv\u003e\n",
              "\u003cstyle scoped\u003e\n",
              "    .dataframe tbody tr th:only-of-type {\n",
              "        vertical-align: middle;\n",
              "    }\n",
              "\n",
              "    .dataframe tbody tr th {\n",
              "        vertical-align: top;\n",
              "    }\n",
              "\n",
              "    .dataframe thead th {\n",
              "        text-align: right;\n",
              "    }\n",
              "\u003c/style\u003e\n",
              "\u003ctable border=\"1\" class=\"dataframe\"\u003e\n",
              "  \u003cthead\u003e\n",
              "    \u003ctr style=\"text-align: right;\"\u003e\n",
              "      \u003cth\u003e\u003c/th\u003e\n",
              "      \u003cth\u003esd(clicks)\u003c/th\u003e\n",
              "    \u003c/tr\u003e\n",
              "  \u003c/thead\u003e\n",
              "  \u003ctbody\u003e\n",
              "    \u003ctr\u003e\n",
              "      \u003cth\u003e0\u003c/th\u003e\n",
              "      \u003ctd\u003e0.797033\u003c/td\u003e\n",
              "    \u003c/tr\u003e\n",
              "  \u003c/tbody\u003e\n",
              "\u003c/table\u003e\n",
              "\u003c/div\u003e"
            ],
            "text/plain": [
              "   sd(clicks)\n",
              "0    0.797033"
            ]
          },
          "execution_count": 15,
          "metadata": {
            "tags": []
          },
          "output_type": "execute_result"
        }
      ],
      "source": [
        "StandardDeviation('clicks').compute_on(df)"
      ]
    },
    {
      "cell_type": "markdown",
      "metadata": {
        "id": "N1rDr4SGyu72"
      },
      "source": [
        "### Biased Standard Deviation\n",
        "Similar to biased Variance, it's possible to compute biased standard deviation."
      ]
    },
    {
      "cell_type": "code",
      "execution_count": null,
      "metadata": {
        "colab": {
          "height": 80
        },
        "executionInfo": {
          "elapsed": 375,
          "status": "ok",
          "timestamp": 1594365626961,
          "user": {
            "displayName": "",
            "photoUrl": "",
            "userId": ""
          },
          "user_tz": 420
        },
        "id": "fHRfub38zAGZ",
        "outputId": "964be900-5acd-4a3a-fa63-26c7c10115aa"
      },
      "outputs": [
        {
          "data": {
            "text/html": [
              "\u003cdiv\u003e\n",
              "\u003cstyle scoped\u003e\n",
              "    .dataframe tbody tr th:only-of-type {\n",
              "        vertical-align: middle;\n",
              "    }\n",
              "\n",
              "    .dataframe tbody tr th {\n",
              "        vertical-align: top;\n",
              "    }\n",
              "\n",
              "    .dataframe thead th {\n",
              "        text-align: right;\n",
              "    }\n",
              "\u003c/style\u003e\n",
              "\u003ctable border=\"1\" class=\"dataframe\"\u003e\n",
              "  \u003cthead\u003e\n",
              "    \u003ctr style=\"text-align: right;\"\u003e\n",
              "      \u003cth\u003e\u003c/th\u003e\n",
              "      \u003cth\u003esd(clicks)\u003c/th\u003e\n",
              "    \u003c/tr\u003e\n",
              "  \u003c/thead\u003e\n",
              "  \u003ctbody\u003e\n",
              "    \u003ctr\u003e\n",
              "      \u003cth\u003e0\u003c/th\u003e\n",
              "      \u003ctd\u003e0.796635\u003c/td\u003e\n",
              "    \u003c/tr\u003e\n",
              "  \u003c/tbody\u003e\n",
              "\u003c/table\u003e\n",
              "\u003c/div\u003e"
            ],
            "text/plain": [
              "   sd(clicks)\n",
              "0    0.796635"
            ]
          },
          "execution_count": 16,
          "metadata": {
            "tags": []
          },
          "output_type": "execute_result"
        }
      ],
      "source": [
        "StandardDeviation('clicks', False).compute_on(df)"
      ]
    },
    {
      "cell_type": "markdown",
      "metadata": {
        "id": "245lDve-zD_s"
      },
      "source": [
        "### Weighted Standard Deviation"
      ]
    },
    {
      "cell_type": "code",
      "execution_count": null,
      "metadata": {
        "colab": {
          "height": 80
        },
        "executionInfo": {
          "elapsed": 378,
          "status": "ok",
          "timestamp": 1594365627393,
          "user": {
            "displayName": "",
            "photoUrl": "",
            "userId": ""
          },
          "user_tz": 420
        },
        "id": "e0ELsbRDzGcy",
        "outputId": "a030b1fe-576a-4ee0-ac4a-73ff8d89b7cf"
      },
      "outputs": [
        {
          "data": {
            "text/html": [
              "\u003cdiv\u003e\n",
              "\u003cstyle scoped\u003e\n",
              "    .dataframe tbody tr th:only-of-type {\n",
              "        vertical-align: middle;\n",
              "    }\n",
              "\n",
              "    .dataframe tbody tr th {\n",
              "        vertical-align: top;\n",
              "    }\n",
              "\n",
              "    .dataframe thead th {\n",
              "        text-align: right;\n",
              "    }\n",
              "\u003c/style\u003e\n",
              "\u003ctable border=\"1\" class=\"dataframe\"\u003e\n",
              "  \u003cthead\u003e\n",
              "    \u003ctr style=\"text-align: right;\"\u003e\n",
              "      \u003cth\u003e\u003c/th\u003e\n",
              "      \u003cth\u003eimpressions-weighted sd(clicks)\u003c/th\u003e\n",
              "    \u003c/tr\u003e\n",
              "  \u003c/thead\u003e\n",
              "  \u003ctbody\u003e\n",
              "    \u003ctr\u003e\n",
              "      \u003cth\u003e0\u003c/th\u003e\n",
              "      \u003ctd\u003e0.87045\u003c/td\u003e\n",
              "    \u003c/tr\u003e\n",
              "  \u003c/tbody\u003e\n",
              "\u003c/table\u003e\n",
              "\u003c/div\u003e"
            ],
            "text/plain": [
              "   impressions-weighted sd(clicks)\n",
              "0                          0.87045"
            ]
          },
          "execution_count": 17,
          "metadata": {
            "tags": []
          },
          "output_type": "execute_result"
        }
      ],
      "source": [
        "StandardDeviation('clicks', weight='impressions').compute_on(df)"
      ]
    },
    {
      "cell_type": "markdown",
      "metadata": {
        "id": "FVCJgHe7vRnD"
      },
      "source": [
        "##Coefficient of Variation"
      ]
    },
    {
      "cell_type": "code",
      "execution_count": null,
      "metadata": {
        "colab": {
          "height": 80
        },
        "executionInfo": {
          "elapsed": 378,
          "status": "ok",
          "timestamp": 1594365627823,
          "user": {
            "displayName": "",
            "photoUrl": "",
            "userId": ""
          },
          "user_tz": 420
        },
        "id": "xSWoWiQLzcz0",
        "outputId": "bae8e13d-07fa-4da1-9b5d-f85ef7809fe5"
      },
      "outputs": [
        {
          "data": {
            "text/html": [
              "\u003cdiv\u003e\n",
              "\u003cstyle scoped\u003e\n",
              "    .dataframe tbody tr th:only-of-type {\n",
              "        vertical-align: middle;\n",
              "    }\n",
              "\n",
              "    .dataframe tbody tr th {\n",
              "        vertical-align: top;\n",
              "    }\n",
              "\n",
              "    .dataframe thead th {\n",
              "        text-align: right;\n",
              "    }\n",
              "\u003c/style\u003e\n",
              "\u003ctable border=\"1\" class=\"dataframe\"\u003e\n",
              "  \u003cthead\u003e\n",
              "    \u003ctr style=\"text-align: right;\"\u003e\n",
              "      \u003cth\u003e\u003c/th\u003e\n",
              "      \u003cth\u003ecv(clicks)\u003c/th\u003e\n",
              "    \u003c/tr\u003e\n",
              "  \u003c/thead\u003e\n",
              "  \u003ctbody\u003e\n",
              "    \u003ctr\u003e\n",
              "      \u003cth\u003e0\u003c/th\u003e\n",
              "      \u003ctd\u003e0.724611\u003c/td\u003e\n",
              "    \u003c/tr\u003e\n",
              "  \u003c/tbody\u003e\n",
              "\u003c/table\u003e\n",
              "\u003c/div\u003e"
            ],
            "text/plain": [
              "   cv(clicks)\n",
              "0    0.724611"
            ]
          },
          "execution_count": 18,
          "metadata": {
            "tags": []
          },
          "output_type": "execute_result"
        }
      ],
      "source": [
        "CV('clicks').compute_on(df)"
      ]
    },
    {
      "cell_type": "markdown",
      "metadata": {
        "id": "3QOKrzf5vTdX"
      },
      "source": [
        "##Correlation"
      ]
    },
    {
      "cell_type": "code",
      "execution_count": null,
      "metadata": {
        "colab": {
          "height": 80
        },
        "executionInfo": {
          "elapsed": 378,
          "status": "ok",
          "timestamp": 1594365628254,
          "user": {
            "displayName": "",
            "photoUrl": "",
            "userId": ""
          },
          "user_tz": 420
        },
        "id": "wfLRzJ87zlyR",
        "outputId": "329f1a51-cde3-4147-f641-3bc1e7b68730"
      },
      "outputs": [
        {
          "data": {
            "text/html": [
              "\u003cdiv\u003e\n",
              "\u003cstyle scoped\u003e\n",
              "    .dataframe tbody tr th:only-of-type {\n",
              "        vertical-align: middle;\n",
              "    }\n",
              "\n",
              "    .dataframe tbody tr th {\n",
              "        vertical-align: top;\n",
              "    }\n",
              "\n",
              "    .dataframe thead th {\n",
              "        text-align: right;\n",
              "    }\n",
              "\u003c/style\u003e\n",
              "\u003ctable border=\"1\" class=\"dataframe\"\u003e\n",
              "  \u003cthead\u003e\n",
              "    \u003ctr style=\"text-align: right;\"\u003e\n",
              "      \u003cth\u003e\u003c/th\u003e\n",
              "      \u003cth\u003ecorr(clicks, impressions)\u003c/th\u003e\n",
              "    \u003c/tr\u003e\n",
              "  \u003c/thead\u003e\n",
              "  \u003ctbody\u003e\n",
              "    \u003ctr\u003e\n",
              "      \u003cth\u003e0\u003c/th\u003e\n",
              "      \u003ctd\u003e0.249193\u003c/td\u003e\n",
              "    \u003c/tr\u003e\n",
              "  \u003c/tbody\u003e\n",
              "\u003c/table\u003e\n",
              "\u003c/div\u003e"
            ],
            "text/plain": [
              "   corr(clicks, impressions)\n",
              "0                   0.249193"
            ]
          },
          "execution_count": 19,
          "metadata": {
            "tags": []
          },
          "output_type": "execute_result"
        }
      ],
      "source": [
        "Correlation('clicks', 'impressions').compute_on(df)"
      ]
    },
    {
      "cell_type": "markdown",
      "metadata": {
        "id": "ofd39aQs0Xwn"
      },
      "source": [
        "###Weighted Correlation"
      ]
    },
    {
      "cell_type": "code",
      "execution_count": null,
      "metadata": {
        "colab": {
          "height": 80
        },
        "executionInfo": {
          "elapsed": 382,
          "status": "ok",
          "timestamp": 1594365628689,
          "user": {
            "displayName": "",
            "photoUrl": "",
            "userId": ""
          },
          "user_tz": 420
        },
        "id": "jivKl_cZ0aM_",
        "outputId": "1514c4ed-1caf-419e-cc34-f9bba59bdb3c"
      },
      "outputs": [
        {
          "data": {
            "text/html": [
              "\u003cdiv\u003e\n",
              "\u003cstyle scoped\u003e\n",
              "    .dataframe tbody tr th:only-of-type {\n",
              "        vertical-align: middle;\n",
              "    }\n",
              "\n",
              "    .dataframe tbody tr th {\n",
              "        vertical-align: top;\n",
              "    }\n",
              "\n",
              "    .dataframe thead th {\n",
              "        text-align: right;\n",
              "    }\n",
              "\u003c/style\u003e\n",
              "\u003ctable border=\"1\" class=\"dataframe\"\u003e\n",
              "  \u003cthead\u003e\n",
              "    \u003ctr style=\"text-align: right;\"\u003e\n",
              "      \u003cth\u003e\u003c/th\u003e\n",
              "      \u003cth\u003eimpressions-weighted corr(clicks, impressions)\u003c/th\u003e\n",
              "    \u003c/tr\u003e\n",
              "  \u003c/thead\u003e\n",
              "  \u003ctbody\u003e\n",
              "    \u003ctr\u003e\n",
              "      \u003cth\u003e0\u003c/th\u003e\n",
              "      \u003ctd\u003e0.289402\u003c/td\u003e\n",
              "    \u003c/tr\u003e\n",
              "  \u003c/tbody\u003e\n",
              "\u003c/table\u003e\n",
              "\u003c/div\u003e"
            ],
            "text/plain": [
              "   impressions-weighted corr(clicks, impressions)\n",
              "0                                        0.289402"
            ]
          },
          "execution_count": 20,
          "metadata": {
            "tags": []
          },
          "output_type": "execute_result"
        }
      ],
      "source": [
        "Correlation('clicks', 'impressions', weight='impressions').compute_on(df)"
      ]
    },
    {
      "cell_type": "markdown",
      "metadata": {
        "id": "Pwoz9GUwvVUr"
      },
      "source": [
        "##Covariance"
      ]
    },
    {
      "cell_type": "code",
      "execution_count": null,
      "metadata": {
        "colab": {
          "height": 80
        },
        "executionInfo": {
          "elapsed": 373,
          "status": "ok",
          "timestamp": 1594365629117,
          "user": {
            "displayName": "",
            "photoUrl": "",
            "userId": ""
          },
          "user_tz": 420
        },
        "id": "CYR8RCP50l4y",
        "outputId": "5521eb32-1cd2-4823-9661-a43f24e73a7f"
      },
      "outputs": [
        {
          "data": {
            "text/html": [
              "\u003cdiv\u003e\n",
              "\u003cstyle scoped\u003e\n",
              "    .dataframe tbody tr th:only-of-type {\n",
              "        vertical-align: middle;\n",
              "    }\n",
              "\n",
              "    .dataframe tbody tr th {\n",
              "        vertical-align: top;\n",
              "    }\n",
              "\n",
              "    .dataframe thead th {\n",
              "        text-align: right;\n",
              "    }\n",
              "\u003c/style\u003e\n",
              "\u003ctable border=\"1\" class=\"dataframe\"\u003e\n",
              "  \u003cthead\u003e\n",
              "    \u003ctr style=\"text-align: right;\"\u003e\n",
              "      \u003cth\u003e\u003c/th\u003e\n",
              "      \u003cth\u003ecov(clicks, impressions)\u003c/th\u003e\n",
              "    \u003c/tr\u003e\n",
              "  \u003c/thead\u003e\n",
              "  \u003ctbody\u003e\n",
              "    \u003ctr\u003e\n",
              "      \u003cth\u003e0\u003c/th\u003e\n",
              "      \u003ctd\u003e3.402773\u003c/td\u003e\n",
              "    \u003c/tr\u003e\n",
              "  \u003c/tbody\u003e\n",
              "\u003c/table\u003e\n",
              "\u003c/div\u003e"
            ],
            "text/plain": [
              "   cov(clicks, impressions)\n",
              "0                  3.402773"
            ]
          },
          "execution_count": 21,
          "metadata": {
            "tags": []
          },
          "output_type": "execute_result"
        }
      ],
      "source": [
        "Cov('clicks', 'impressions').compute_on(df)"
      ]
    },
    {
      "cell_type": "markdown",
      "metadata": {
        "id": "Sez3EB8J0l44"
      },
      "source": [
        "###Weighted Covariance"
      ]
    },
    {
      "cell_type": "code",
      "execution_count": null,
      "metadata": {
        "colab": {
          "height": 80
        },
        "executionInfo": {
          "elapsed": 373,
          "status": "ok",
          "timestamp": 1594365629545,
          "user": {
            "displayName": "",
            "photoUrl": "",
            "userId": ""
          },
          "user_tz": 420
        },
        "id": "GfZmRTQx0l45",
        "outputId": "a2a8a8f5-5826-411a-e3c5-9ac9ae740e81"
      },
      "outputs": [
        {
          "data": {
            "text/html": [
              "\u003cdiv\u003e\n",
              "\u003cstyle scoped\u003e\n",
              "    .dataframe tbody tr th:only-of-type {\n",
              "        vertical-align: middle;\n",
              "    }\n",
              "\n",
              "    .dataframe tbody tr th {\n",
              "        vertical-align: top;\n",
              "    }\n",
              "\n",
              "    .dataframe thead th {\n",
              "        text-align: right;\n",
              "    }\n",
              "\u003c/style\u003e\n",
              "\u003ctable border=\"1\" class=\"dataframe\"\u003e\n",
              "  \u003cthead\u003e\n",
              "    \u003ctr style=\"text-align: right;\"\u003e\n",
              "      \u003cth\u003e\u003c/th\u003e\n",
              "      \u003cth\u003eimpressions-weighted cov(clicks, impressions)\u003c/th\u003e\n",
              "    \u003c/tr\u003e\n",
              "  \u003c/thead\u003e\n",
              "  \u003ctbody\u003e\n",
              "    \u003ctr\u003e\n",
              "      \u003cth\u003e0\u003c/th\u003e\n",
              "      \u003ctd\u003e5.895056\u003c/td\u003e\n",
              "    \u003c/tr\u003e\n",
              "  \u003c/tbody\u003e\n",
              "\u003c/table\u003e\n",
              "\u003c/div\u003e"
            ],
            "text/plain": [
              "   impressions-weighted cov(clicks, impressions)\n",
              "0                                       5.895056"
            ]
          },
          "execution_count": 22,
          "metadata": {
            "tags": []
          },
          "output_type": "execute_result"
        }
      ],
      "source": [
        "Cov('clicks', 'impressions', weight='impressions').compute_on(df)"
      ]
    },
    {
      "cell_type": "markdown",
      "metadata": {
        "id": "qbGHSpls0u8e"
      },
      "source": [
        "# Slicing\n",
        "You can group your DataFrame and compute the Metrics on slices."
      ]
    },
    {
      "cell_type": "code",
      "execution_count": null,
      "metadata": {
        "colab": {
          "height": 142
        },
        "executionInfo": {
          "elapsed": 386,
          "status": "ok",
          "timestamp": 1594365629982,
          "user": {
            "displayName": "",
            "photoUrl": "",
            "userId": ""
          },
          "user_tz": 420
        },
        "id": "xd3vQWs617ow",
        "outputId": "6330ca80-bc55-4b09-8aab-2f120678057e"
      },
      "outputs": [
        {
          "data": {
            "text/html": [
              "\u003cdiv\u003e\n",
              "\u003cstyle scoped\u003e\n",
              "    .dataframe tbody tr th:only-of-type {\n",
              "        vertical-align: middle;\n",
              "    }\n",
              "\n",
              "    .dataframe tbody tr th {\n",
              "        vertical-align: top;\n",
              "    }\n",
              "\n",
              "    .dataframe thead th {\n",
              "        text-align: right;\n",
              "    }\n",
              "\u003c/style\u003e\n",
              "\u003ctable border=\"1\" class=\"dataframe\"\u003e\n",
              "  \u003cthead\u003e\n",
              "    \u003ctr style=\"text-align: right;\"\u003e\n",
              "      \u003cth\u003e\u003c/th\u003e\n",
              "      \u003cth\u003esum(clicks)\u003c/th\u003e\n",
              "    \u003c/tr\u003e\n",
              "    \u003ctr\u003e\n",
              "      \u003cth\u003ecountry\u003c/th\u003e\n",
              "      \u003cth\u003e\u003c/th\u003e\n",
              "    \u003c/tr\u003e\n",
              "  \u003c/thead\u003e\n",
              "  \u003ctbody\u003e\n",
              "    \u003ctr\u003e\n",
              "      \u003cth\u003eUS\u003c/th\u003e\n",
              "      \u003ctd\u003e751.791138\u003c/td\u003e\n",
              "    \u003c/tr\u003e\n",
              "    \u003ctr\u003e\n",
              "      \u003cth\u003enon-US\u003c/th\u003e\n",
              "      \u003ctd\u003e348.155686\u003c/td\u003e\n",
              "    \u003c/tr\u003e\n",
              "  \u003c/tbody\u003e\n",
              "\u003c/table\u003e\n",
              "\u003c/div\u003e"
            ],
            "text/plain": [
              "         sum(clicks)\n",
              "country             \n",
              "US        751.791138\n",
              "non-US    348.155686"
            ]
          },
          "execution_count": 23,
          "metadata": {
            "tags": []
          },
          "output_type": "execute_result"
        }
      ],
      "source": [
        "Sum('clicks').compute_on(df, 'country')"
      ]
    },
    {
      "cell_type": "code",
      "execution_count": null,
      "metadata": {
        "colab": {
          "height": 266
        },
        "executionInfo": {
          "elapsed": 373,
          "status": "ok",
          "timestamp": 1601683238341,
          "user": {
            "displayName": "",
            "photoUrl": "",
            "userId": ""
          },
          "user_tz": 420
        },
        "id": "6kOyjbDs2Dhj",
        "outputId": "ad6e13cf-20c0-496a-b33e-d5707de3dba5"
      },
      "outputs": [
        {
          "data": {
            "text/html": [
              "\u003cdiv\u003e\n",
              "\u003cstyle scoped\u003e\n",
              "    .dataframe tbody tr th:only-of-type {\n",
              "        vertical-align: middle;\n",
              "    }\n",
              "\n",
              "    .dataframe tbody tr th {\n",
              "        vertical-align: top;\n",
              "    }\n",
              "\n",
              "    .dataframe thead th {\n",
              "        text-align: right;\n",
              "    }\n",
              "\u003c/style\u003e\n",
              "\u003ctable border=\"1\" class=\"dataframe\"\u003e\n",
              "  \u003cthead\u003e\n",
              "    \u003ctr style=\"text-align: right;\"\u003e\n",
              "      \u003cth\u003e\u003c/th\u003e\n",
              "      \u003cth\u003e\u003c/th\u003e\n",
              "      \u003cth\u003emean(clicks)\u003c/th\u003e\n",
              "    \u003c/tr\u003e\n",
              "    \u003ctr\u003e\n",
              "      \u003cth\u003eplatform\u003c/th\u003e\n",
              "      \u003cth\u003ecountry\u003c/th\u003e\n",
              "      \u003cth\u003e\u003c/th\u003e\n",
              "    \u003c/tr\u003e\n",
              "  \u003c/thead\u003e\n",
              "  \u003ctbody\u003e\n",
              "    \u003ctr\u003e\n",
              "      \u003cth rowspan=\"2\" valign=\"top\"\u003eDesktop\u003c/th\u003e\n",
              "      \u003cth\u003eUS\u003c/th\u003e\n",
              "      \u003ctd\u003e1.411345\u003c/td\u003e\n",
              "    \u003c/tr\u003e\n",
              "    \u003ctr\u003e\n",
              "      \u003cth\u003enon-US\u003c/th\u003e\n",
              "      \u003ctd\u003e0.688706\u003c/td\u003e\n",
              "    \u003c/tr\u003e\n",
              "    \u003ctr\u003e\n",
              "      \u003cth rowspan=\"2\" valign=\"top\"\u003eMobile\u003c/th\u003e\n",
              "      \u003cth\u003eUS\u003c/th\u003e\n",
              "      \u003ctd\u003e1.458064\u003c/td\u003e\n",
              "    \u003c/tr\u003e\n",
              "    \u003ctr\u003e\n",
              "      \u003cth\u003enon-US\u003c/th\u003e\n",
              "      \u003ctd\u003e0.726992\u003c/td\u003e\n",
              "    \u003c/tr\u003e\n",
              "    \u003ctr\u003e\n",
              "      \u003cth rowspan=\"2\" valign=\"top\"\u003eTablet\u003c/th\u003e\n",
              "      \u003cth\u003eUS\u003c/th\u003e\n",
              "      \u003ctd\u003e1.527596\u003c/td\u003e\n",
              "    \u003c/tr\u003e\n",
              "    \u003ctr\u003e\n",
              "      \u003cth\u003enon-US\u003c/th\u003e\n",
              "      \u003ctd\u003e0.729505\u003c/td\u003e\n",
              "    \u003c/tr\u003e\n",
              "  \u003c/tbody\u003e\n",
              "\u003c/table\u003e\n",
              "\u003c/div\u003e"
            ],
            "text/plain": [
              "                  mean(clicks)\n",
              "platform country              \n",
              "Desktop  US           1.411345\n",
              "         non-US       0.688706\n",
              "Mobile   US           1.458064\n",
              "         non-US       0.726992\n",
              "Tablet   US           1.527596\n",
              "         non-US       0.729505"
            ]
          },
          "execution_count": 3,
          "metadata": {
            "tags": []
          },
          "output_type": "execute_result"
        }
      ],
      "source": [
        "Mean('clicks').compute_on(df, ['platform', 'country'])"
      ]
    },
    {
      "cell_type": "markdown",
      "metadata": {
        "id": "6nHJIFFO3kN9"
      },
      "source": [
        "# Multiple Metrics\n",
        "You can put multiple Metrics into a MetricList and compute them together. It's not only makes your codes terser, it might make the computation much faster. See Caching section for more infomation."
      ]
    },
    {
      "cell_type": "code",
      "execution_count": null,
      "metadata": {
        "colab": {
          "height": 80
        },
        "executionInfo": {
          "elapsed": 354,
          "status": "ok",
          "timestamp": 1594365630811,
          "user": {
            "displayName": "",
            "photoUrl": "",
            "userId": ""
          },
          "user_tz": 420
        },
        "id": "9GX9SxKG3mKO",
        "outputId": "6f8252bc-57b5-4f9c-ac05-dd9de7126da2"
      },
      "outputs": [
        {
          "data": {
            "text/html": [
              "\u003cdiv\u003e\n",
              "\u003cstyle scoped\u003e\n",
              "    .dataframe tbody tr th:only-of-type {\n",
              "        vertical-align: middle;\n",
              "    }\n",
              "\n",
              "    .dataframe tbody tr th {\n",
              "        vertical-align: top;\n",
              "    }\n",
              "\n",
              "    .dataframe thead th {\n",
              "        text-align: right;\n",
              "    }\n",
              "\u003c/style\u003e\n",
              "\u003ctable border=\"1\" class=\"dataframe\"\u003e\n",
              "  \u003cthead\u003e\n",
              "    \u003ctr style=\"text-align: right;\"\u003e\n",
              "      \u003cth\u003e\u003c/th\u003e\n",
              "      \u003cth\u003esum(clicks)\u003c/th\u003e\n",
              "      \u003cth\u003ecount(clicks)\u003c/th\u003e\n",
              "    \u003c/tr\u003e\n",
              "  \u003c/thead\u003e\n",
              "  \u003ctbody\u003e\n",
              "    \u003ctr\u003e\n",
              "      \u003cth\u003e0\u003c/th\u003e\n",
              "      \u003ctd\u003e1099.946824\u003c/td\u003e\n",
              "      \u003ctd\u003e1000\u003c/td\u003e\n",
              "    \u003c/tr\u003e\n",
              "  \u003c/tbody\u003e\n",
              "\u003c/table\u003e\n",
              "\u003c/div\u003e"
            ],
            "text/plain": [
              "   sum(clicks)  count(clicks)\n",
              "0  1099.946824           1000"
            ]
          },
          "execution_count": 25,
          "metadata": {
            "tags": []
          },
          "output_type": "execute_result"
        }
      ],
      "source": [
        "MetricList((Sum('clicks'), Count('clicks'))).compute_on(df)"
      ]
    },
    {
      "cell_type": "markdown",
      "metadata": {
        "id": "U9oidu9eELbG"
      },
      "source": [
        "#Arithmetic of Metrics\n",
        "You can do many arithmetic operations on Metrics. It can also be between a Metric and a scalar. You can call set_name() to give your composite Metric a new name. Internally, we operate on the results returned by Metrics with return_dataframe=False to avoid incompatible DataFrame columns names. However, if both Metrics return DataFrames even when return_dataframe is set to False, you might get lots of NAs. The solution is use rename_columns() to unify the column names. See section \"Compare the standard errors between Jackknife and Bootstrap\" for an example."
      ]
    },
    {
      "cell_type": "markdown",
      "metadata": {
        "id": "rsF4N5WJE3SA"
      },
      "source": [
        "### Add"
      ]
    },
    {
      "cell_type": "code",
      "execution_count": null,
      "metadata": {
        "colab": {
          "height": 80
        },
        "executionInfo": {
          "elapsed": 373,
          "status": "ok",
          "timestamp": 1594365631252,
          "user": {
            "displayName": "",
            "photoUrl": "",
            "userId": ""
          },
          "user_tz": 420
        },
        "id": "JQmHZgKtE8P8",
        "outputId": "48609b1c-0d15-4634-a78f-b0f4fef291bd"
      },
      "outputs": [
        {
          "data": {
            "text/html": [
              "\u003cdiv\u003e\n",
              "\u003cstyle scoped\u003e\n",
              "    .dataframe tbody tr th:only-of-type {\n",
              "        vertical-align: middle;\n",
              "    }\n",
              "\n",
              "    .dataframe tbody tr th {\n",
              "        vertical-align: top;\n",
              "    }\n",
              "\n",
              "    .dataframe thead th {\n",
              "        text-align: right;\n",
              "    }\n",
              "\u003c/style\u003e\n",
              "\u003ctable border=\"1\" class=\"dataframe\"\u003e\n",
              "  \u003cthead\u003e\n",
              "    \u003ctr style=\"text-align: right;\"\u003e\n",
              "      \u003cth\u003e\u003c/th\u003e\n",
              "      \u003cth\u003esum(clicks) + 1\u003c/th\u003e\n",
              "    \u003c/tr\u003e\n",
              "  \u003c/thead\u003e\n",
              "  \u003ctbody\u003e\n",
              "    \u003ctr\u003e\n",
              "      \u003cth\u003e0\u003c/th\u003e\n",
              "      \u003ctd\u003e1100.946824\u003c/td\u003e\n",
              "    \u003c/tr\u003e\n",
              "  \u003c/tbody\u003e\n",
              "\u003c/table\u003e\n",
              "\u003c/div\u003e"
            ],
            "text/plain": [
              "   sum(clicks) + 1\n",
              "0      1100.946824"
            ]
          },
          "execution_count": 26,
          "metadata": {
            "tags": []
          },
          "output_type": "execute_result"
        }
      ],
      "source": [
        "(Sum('clicks') + 1).compute_on(df)"
      ]
    },
    {
      "cell_type": "code",
      "execution_count": null,
      "metadata": {
        "colab": {
          "height": 80
        },
        "executionInfo": {
          "elapsed": 385,
          "status": "ok",
          "timestamp": 1594365631686,
          "user": {
            "displayName": "",
            "photoUrl": "",
            "userId": ""
          },
          "user_tz": 420
        },
        "id": "s6nVzOXXGFln",
        "outputId": "25fcc58a-b190-4cb4-9f2f-9dda13e78b9c"
      },
      "outputs": [
        {
          "data": {
            "text/html": [
              "\u003cdiv\u003e\n",
              "\u003cstyle scoped\u003e\n",
              "    .dataframe tbody tr th:only-of-type {\n",
              "        vertical-align: middle;\n",
              "    }\n",
              "\n",
              "    .dataframe tbody tr th {\n",
              "        vertical-align: top;\n",
              "    }\n",
              "\n",
              "    .dataframe thead th {\n",
              "        text-align: right;\n",
              "    }\n",
              "\u003c/style\u003e\n",
              "\u003ctable border=\"1\" class=\"dataframe\"\u003e\n",
              "  \u003cthead\u003e\n",
              "    \u003ctr style=\"text-align: right;\"\u003e\n",
              "      \u003cth\u003e\u003c/th\u003e\n",
              "      \u003cth\u003e0 + sum(clicks) + sum(impressions) + 1\u003c/th\u003e\n",
              "    \u003c/tr\u003e\n",
              "  \u003c/thead\u003e\n",
              "  \u003ctbody\u003e\n",
              "    \u003ctr\u003e\n",
              "      \u003cth\u003e0\u003c/th\u003e\n",
              "      \u003ctd\u003e23243.946824\u003c/td\u003e\n",
              "    \u003c/tr\u003e\n",
              "  \u003c/tbody\u003e\n",
              "\u003c/table\u003e\n",
              "\u003c/div\u003e"
            ],
            "text/plain": [
              "   0 + sum(clicks) + sum(impressions) + 1\n",
              "0                            23243.946824"
            ]
          },
          "execution_count": 27,
          "metadata": {
            "tags": []
          },
          "output_type": "execute_result"
        }
      ],
      "source": [
        "sum((Sum('clicks'), Sum('impressions'), 1)).compute_on(df)"
      ]
    },
    {
      "cell_type": "code",
      "execution_count": null,
      "metadata": {
        "colab": {
          "height": 80
        },
        "executionInfo": {
          "elapsed": 393,
          "status": "ok",
          "timestamp": 1594365632129,
          "user": {
            "displayName": "",
            "photoUrl": "",
            "userId": ""
          },
          "user_tz": 420
        },
        "id": "qYYsIXTYHpgk",
        "outputId": "fd8cfdc6-a373-446f-8a04-d2bbe5c99f86"
      },
      "outputs": [
        {
          "data": {
            "text/html": [
              "\u003cdiv\u003e\n",
              "\u003cstyle scoped\u003e\n",
              "    .dataframe tbody tr th:only-of-type {\n",
              "        vertical-align: middle;\n",
              "    }\n",
              "\n",
              "    .dataframe tbody tr th {\n",
              "        vertical-align: top;\n",
              "    }\n",
              "\n",
              "    .dataframe thead th {\n",
              "        text-align: right;\n",
              "    }\n",
              "\u003c/style\u003e\n",
              "\u003ctable border=\"1\" class=\"dataframe\"\u003e\n",
              "  \u003cthead\u003e\n",
              "    \u003ctr style=\"text-align: right;\"\u003e\n",
              "      \u003cth\u003e\u003c/th\u003e\n",
              "      \u003cth\u003emeaningless sum\u003c/th\u003e\n",
              "    \u003c/tr\u003e\n",
              "  \u003c/thead\u003e\n",
              "  \u003ctbody\u003e\n",
              "    \u003ctr\u003e\n",
              "      \u003cth\u003e0\u003c/th\u003e\n",
              "      \u003ctd\u003e23243.946824\u003c/td\u003e\n",
              "    \u003c/tr\u003e\n",
              "  \u003c/tbody\u003e\n",
              "\u003c/table\u003e\n",
              "\u003c/div\u003e"
            ],
            "text/plain": [
              "   meaningless sum\n",
              "0     23243.946824"
            ]
          },
          "execution_count": 28,
          "metadata": {
            "tags": []
          },
          "output_type": "execute_result"
        }
      ],
      "source": [
        "sum((Sum('clicks'), Sum('impressions'), 1)).set_name('meaningless sum').compute_on(df)"
      ]
    },
    {
      "cell_type": "markdown",
      "metadata": {
        "id": "ZnRbSjz6HOZ6"
      },
      "source": [
        "### Divide"
      ]
    },
    {
      "cell_type": "code",
      "execution_count": null,
      "metadata": {
        "colab": {
          "height": 80
        },
        "executionInfo": {
          "elapsed": 377,
          "status": "ok",
          "timestamp": 1594365633901,
          "user": {
            "displayName": "",
            "photoUrl": "",
            "userId": ""
          },
          "user_tz": 420
        },
        "id": "MGSIaravHSZL",
        "outputId": "a6a8696b-68a9-4c5b-8180-b97e02d92020"
      },
      "outputs": [
        {
          "data": {
            "text/html": [
              "\u003cdiv\u003e\n",
              "\u003cstyle scoped\u003e\n",
              "    .dataframe tbody tr th:only-of-type {\n",
              "        vertical-align: middle;\n",
              "    }\n",
              "\n",
              "    .dataframe tbody tr th {\n",
              "        vertical-align: top;\n",
              "    }\n",
              "\n",
              "    .dataframe thead th {\n",
              "        text-align: right;\n",
              "    }\n",
              "\u003c/style\u003e\n",
              "\u003ctable border=\"1\" class=\"dataframe\"\u003e\n",
              "  \u003cthead\u003e\n",
              "    \u003ctr style=\"text-align: right;\"\u003e\n",
              "      \u003cth\u003e\u003c/th\u003e\n",
              "      \u003cth\u003esum(clicks) / sum(impressions)\u003c/th\u003e\n",
              "    \u003c/tr\u003e\n",
              "  \u003c/thead\u003e\n",
              "  \u003ctbody\u003e\n",
              "    \u003ctr\u003e\n",
              "      \u003cth\u003e0\u003c/th\u003e\n",
              "      \u003ctd\u003e0.049675\u003c/td\u003e\n",
              "    \u003c/tr\u003e\n",
              "  \u003c/tbody\u003e\n",
              "\u003c/table\u003e\n",
              "\u003c/div\u003e"
            ],
            "text/plain": [
              "   sum(clicks) / sum(impressions)\n",
              "0                        0.049675"
            ]
          },
          "execution_count": 32,
          "metadata": {
            "tags": []
          },
          "output_type": "execute_result"
        }
      ],
      "source": [
        "(Sum('clicks') / Sum('impressions')).compute_on(df)"
      ]
    },
    {
      "cell_type": "markdown",
      "metadata": {
        "id": "ymR7ZEbzHySV"
      },
      "source": [
        "####Ratio\n",
        "Since division between two Sums is common, we make a Ratio() Metric as a syntax sugar. Its third arg is the name for the Metric and is optional."
      ]
    },
    {
      "cell_type": "code",
      "execution_count": null,
      "metadata": {
        "colab": {
          "height": 80
        },
        "executionInfo": {
          "elapsed": 380,
          "status": "ok",
          "timestamp": 1594365634330,
          "user": {
            "displayName": "",
            "photoUrl": "",
            "userId": ""
          },
          "user_tz": 420
        },
        "id": "GbFTWys7H7aN",
        "outputId": "53f40838-bc15-41f3-8ef6-4eee1c15403e"
      },
      "outputs": [
        {
          "data": {
            "text/html": [
              "\u003cdiv\u003e\n",
              "\u003cstyle scoped\u003e\n",
              "    .dataframe tbody tr th:only-of-type {\n",
              "        vertical-align: middle;\n",
              "    }\n",
              "\n",
              "    .dataframe tbody tr th {\n",
              "        vertical-align: top;\n",
              "    }\n",
              "\n",
              "    .dataframe thead th {\n",
              "        text-align: right;\n",
              "    }\n",
              "\u003c/style\u003e\n",
              "\u003ctable border=\"1\" class=\"dataframe\"\u003e\n",
              "  \u003cthead\u003e\n",
              "    \u003ctr style=\"text-align: right;\"\u003e\n",
              "      \u003cth\u003e\u003c/th\u003e\n",
              "      \u003cth\u003ectr\u003c/th\u003e\n",
              "    \u003c/tr\u003e\n",
              "  \u003c/thead\u003e\n",
              "  \u003ctbody\u003e\n",
              "    \u003ctr\u003e\n",
              "      \u003cth\u003e0\u003c/th\u003e\n",
              "      \u003ctd\u003e0.049675\u003c/td\u003e\n",
              "    \u003c/tr\u003e\n",
              "  \u003c/tbody\u003e\n",
              "\u003c/table\u003e\n",
              "\u003c/div\u003e"
            ],
            "text/plain": [
              "        ctr\n",
              "0  0.049675"
            ]
          },
          "execution_count": 33,
          "metadata": {
            "tags": []
          },
          "output_type": "execute_result"
        }
      ],
      "source": [
        "Ratio('clicks', 'impressions', 'ctr').compute_on(df)"
      ]
    },
    {
      "cell_type": "markdown",
      "metadata": {
        "id": "TJ9P3C1yGCEZ"
      },
      "source": [
        "We also support many other common arithmetic operations."
      ]
    },
    {
      "cell_type": "code",
      "execution_count": null,
      "metadata": {
        "colab": {
          "height": 266
        },
        "executionInfo": {
          "elapsed": 513,
          "status": "ok",
          "timestamp": 1595023588993,
          "user": {
            "displayName": "",
            "photoUrl": "",
            "userId": ""
          },
          "user_tz": 420
        },
        "id": "bspYv-_kGDLj",
        "outputId": "af2d8e6e-018d-4ba8-ff2c-f57dabe17230"
      },
      "outputs": [
        {
          "data": {
            "text/html": [
              "\u003cdiv\u003e\n",
              "\u003cstyle scoped\u003e\n",
              "    .dataframe tbody tr th:only-of-type {\n",
              "        vertical-align: middle;\n",
              "    }\n",
              "\n",
              "    .dataframe tbody tr th {\n",
              "        vertical-align: top;\n",
              "    }\n",
              "\n",
              "    .dataframe thead th {\n",
              "        text-align: right;\n",
              "    }\n",
              "\u003c/style\u003e\n",
              "\u003ctable border=\"1\" class=\"dataframe\"\u003e\n",
              "  \u003cthead\u003e\n",
              "    \u003ctr style=\"text-align: right;\"\u003e\n",
              "      \u003cth\u003e\u003c/th\u003e\n",
              "      \u003cth\u003eValue\u003c/th\u003e\n",
              "    \u003c/tr\u003e\n",
              "    \u003ctr\u003e\n",
              "      \u003cth\u003eMetric\u003c/th\u003e\n",
              "      \u003cth\u003e\u003c/th\u003e\n",
              "    \u003c/tr\u003e\n",
              "  \u003c/thead\u003e\n",
              "  \u003ctbody\u003e\n",
              "    \u003ctr\u003e\n",
              "      \u003cth\u003esum(clicks) - 1\u003c/th\u003e\n",
              "      \u003ctd\u003e1.098947e+03\u003c/td\u003e\n",
              "    \u003c/tr\u003e\n",
              "    \u003ctr\u003e\n",
              "      \u003cth\u003e-sum(clicks)\u003c/th\u003e\n",
              "      \u003ctd\u003e-1.099947e+03\u003c/td\u003e\n",
              "    \u003c/tr\u003e\n",
              "    \u003ctr\u003e\n",
              "      \u003cth\u003e2 * sum(clicks)\u003c/th\u003e\n",
              "      \u003ctd\u003e2.199894e+03\u003c/td\u003e\n",
              "    \u003c/tr\u003e\n",
              "    \u003ctr\u003e\n",
              "      \u003cth\u003esum(clicks) ^ 2\u003c/th\u003e\n",
              "      \u003ctd\u003e1.209883e+06\u003c/td\u003e\n",
              "    \u003c/tr\u003e\n",
              "    \u003ctr\u003e\n",
              "      \u003cth\u003e2 ^ mean(clicks)\u003c/th\u003e\n",
              "      \u003ctd\u003e2.143468e+00\u003c/td\u003e\n",
              "    \u003c/tr\u003e\n",
              "    \u003ctr\u003e\n",
              "      \u003cth\u003emeaningless power\u003c/th\u003e\n",
              "      \u003ctd\u003e3.017787e+01\u003c/td\u003e\n",
              "    \u003c/tr\u003e\n",
              "  \u003c/tbody\u003e\n",
              "\u003c/table\u003e\n",
              "\u003c/div\u003e"
            ],
            "text/plain": [
              "                          Value\n",
              "Metric                         \n",
              "sum(clicks) - 1    1.098947e+03\n",
              "-sum(clicks)      -1.099947e+03\n",
              "2 * sum(clicks)    2.199894e+03\n",
              "sum(clicks) ^ 2    1.209883e+06\n",
              "2 ^ mean(clicks)   2.143468e+00\n",
              "meaningless power  3.017787e+01"
            ]
          },
          "execution_count": 11,
          "metadata": {
            "tags": []
          },
          "output_type": "execute_result"
        }
      ],
      "source": [
        "MetricList(\n",
        "    (Sum('clicks') - 1,\n",
        "     -Sum('clicks'),\n",
        "     2 * Sum('clicks'),\n",
        "     Sum('clicks')**2,\n",
        "     2**Mean('clicks'),\n",
        "     (Mean('impressions')**Mean('clicks')).set_name('meaningless power'))\n",
        "    ).compute_on(df, melted=True)"
      ]
    },
    {
      "cell_type": "markdown",
      "metadata": {
        "id": "ReIMkRtT0rko"
      },
      "source": [
        "# Output Format\n",
        "There are two options for you to control the format of the return.\n",
        "1. return_dataframe: Default True, if False, we try to return a scalar or pd.Series. For complex Metrics it might have no effect and a DataFrame is always returned. For example, all Metrics in the Operations section below always return a DataFrame.\n",
        "\n",
        "  return_dataframe has different effect on MetricList. If False, MetricList will return a list of DataFrames instead of trying to concat them. This is a convenient way to compute incompatible Metrics together to maximize caching (see section Caching also). There is an attribute \"children_return_dataframe\" in MetricList which will be passed to children Metrics as their return_dataframe so you can get a list of numbers or pd.Series.\n",
        "2. melted: Dafault False. It decides if the returned DataFrame is in wide/unmelted or long/melted form. It doesn't have effect if the return is not a DataFrame. \n",
        "  - Long/melted means the leftmost index is 'Metric' so\n",
        "\n",
        "    `MetricList((m1, m2)).compute_on(df, melted=True).loc[m1.name] ≡ m1.compute_on(df, melted=True)`\n",
        "\n",
        "  - Wide/unmelted means the outermost column index is 'Metric' so\n",
        "\n",
        "    `MetricList((m1, m2)).compute_on(df)[m1.name] ≡ m1.compute_on(df)`"
      ]
    },
    {
      "cell_type": "code",
      "execution_count": null,
      "metadata": {
        "colab": {
          "height": 34
        },
        "executionInfo": {
          "elapsed": 351,
          "status": "ok",
          "timestamp": 1594365636630,
          "user": {
            "displayName": "",
            "photoUrl": "",
            "userId": ""
          },
          "user_tz": 420
        },
        "id": "BPqNffOz3QXO",
        "outputId": "bfb357db-2644-4245-9215-14a7a8504b5e"
      },
      "outputs": [
        {
          "data": {
            "text/plain": [
              "1099.9468240093606"
            ]
          },
          "execution_count": 37,
          "metadata": {
            "tags": []
          },
          "output_type": "execute_result"
        }
      ],
      "source": [
        "Sum('clicks').compute_on(df, return_dataframe=False)"
      ]
    },
    {
      "cell_type": "code",
      "execution_count": null,
      "metadata": {
        "colab": {
          "height": 153
        },
        "executionInfo": {
          "elapsed": 333,
          "status": "ok",
          "timestamp": 1594365637064,
          "user": {
            "displayName": "",
            "photoUrl": "",
            "userId": ""
          },
          "user_tz": 420
        },
        "id": "ECg_e0NE3Usb",
        "outputId": "3806fb1d-580e-4d99-d71a-3c723ab57aad"
      },
      "outputs": [
        {
          "data": {
            "text/plain": [
              "platform  country\n",
              "Desktop   US         182\n",
              "          non-US     164\n",
              "Mobile    US         154\n",
              "          non-US     168\n",
              "Tablet    US         177\n",
              "          non-US     155\n",
              "Name: count(clicks), dtype: int64"
            ]
          },
          "execution_count": 38,
          "metadata": {
            "tags": []
          },
          "output_type": "execute_result"
        }
      ],
      "source": [
        "Count('clicks').compute_on(df, ['platform', 'country'], return_dataframe=False)"
      ]
    },
    {
      "cell_type": "code",
      "execution_count": null,
      "metadata": {
        "colab": {
          "height": 111
        },
        "executionInfo": {
          "elapsed": 379,
          "status": "ok",
          "timestamp": 1594365637526,
          "user": {
            "displayName": "",
            "photoUrl": "",
            "userId": ""
          },
          "user_tz": 420
        },
        "id": "k1Wktj2S3ah1",
        "outputId": "05af8497-045a-4feb-e14f-e7bd35e0e215"
      },
      "outputs": [
        {
          "data": {
            "text/html": [
              "\u003cdiv\u003e\n",
              "\u003cstyle scoped\u003e\n",
              "    .dataframe tbody tr th:only-of-type {\n",
              "        vertical-align: middle;\n",
              "    }\n",
              "\n",
              "    .dataframe tbody tr th {\n",
              "        vertical-align: top;\n",
              "    }\n",
              "\n",
              "    .dataframe thead th {\n",
              "        text-align: right;\n",
              "    }\n",
              "\u003c/style\u003e\n",
              "\u003ctable border=\"1\" class=\"dataframe\"\u003e\n",
              "  \u003cthead\u003e\n",
              "    \u003ctr style=\"text-align: right;\"\u003e\n",
              "      \u003cth\u003e\u003c/th\u003e\n",
              "      \u003cth\u003eValue\u003c/th\u003e\n",
              "    \u003c/tr\u003e\n",
              "    \u003ctr\u003e\n",
              "      \u003cth\u003eMetric\u003c/th\u003e\n",
              "      \u003cth\u003e\u003c/th\u003e\n",
              "    \u003c/tr\u003e\n",
              "  \u003c/thead\u003e\n",
              "  \u003ctbody\u003e\n",
              "    \u003ctr\u003e\n",
              "      \u003cth\u003emean(clicks)\u003c/th\u003e\n",
              "      \u003ctd\u003e1.099947\u003c/td\u003e\n",
              "    \u003c/tr\u003e\n",
              "  \u003c/tbody\u003e\n",
              "\u003c/table\u003e\n",
              "\u003c/div\u003e"
            ],
            "text/plain": [
              "                 Value\n",
              "Metric                \n",
              "mean(clicks)  1.099947"
            ]
          },
          "execution_count": 39,
          "metadata": {
            "tags": []
          },
          "output_type": "execute_result"
        }
      ],
      "source": [
        "Mean('clicks').compute_on(df, melted=True)"
      ]
    },
    {
      "cell_type": "code",
      "execution_count": null,
      "metadata": {
        "colab": {
          "height": 142
        },
        "executionInfo": {
          "elapsed": 385,
          "status": "ok",
          "timestamp": 1594365637961,
          "user": {
            "displayName": "",
            "photoUrl": "",
            "userId": ""
          },
          "user_tz": 420
        },
        "id": "eYv2KDsQ4gRD",
        "outputId": "1408a743-ec4f-48ea-b5b3-22b727ee303d"
      },
      "outputs": [
        {
          "data": {
            "text/html": [
              "\u003cdiv\u003e\n",
              "\u003cstyle scoped\u003e\n",
              "    .dataframe tbody tr th:only-of-type {\n",
              "        vertical-align: middle;\n",
              "    }\n",
              "\n",
              "    .dataframe tbody tr th {\n",
              "        vertical-align: top;\n",
              "    }\n",
              "\n",
              "    .dataframe thead th {\n",
              "        text-align: right;\n",
              "    }\n",
              "\u003c/style\u003e\n",
              "\u003ctable border=\"1\" class=\"dataframe\"\u003e\n",
              "  \u003cthead\u003e\n",
              "    \u003ctr style=\"text-align: right;\"\u003e\n",
              "      \u003cth\u003e\u003c/th\u003e\n",
              "      \u003cth\u003esum(clicks)\u003c/th\u003e\n",
              "      \u003cth\u003ecount(clicks)\u003c/th\u003e\n",
              "    \u003c/tr\u003e\n",
              "    \u003ctr\u003e\n",
              "      \u003cth\u003ecountry\u003c/th\u003e\n",
              "      \u003cth\u003e\u003c/th\u003e\n",
              "      \u003cth\u003e\u003c/th\u003e\n",
              "    \u003c/tr\u003e\n",
              "  \u003c/thead\u003e\n",
              "  \u003ctbody\u003e\n",
              "    \u003ctr\u003e\n",
              "      \u003cth\u003eUS\u003c/th\u003e\n",
              "      \u003ctd\u003e751.791138\u003c/td\u003e\n",
              "      \u003ctd\u003e513\u003c/td\u003e\n",
              "    \u003c/tr\u003e\n",
              "    \u003ctr\u003e\n",
              "      \u003cth\u003enon-US\u003c/th\u003e\n",
              "      \u003ctd\u003e348.155686\u003c/td\u003e\n",
              "      \u003ctd\u003e487\u003c/td\u003e\n",
              "    \u003c/tr\u003e\n",
              "  \u003c/tbody\u003e\n",
              "\u003c/table\u003e\n",
              "\u003c/div\u003e"
            ],
            "text/plain": [
              "         sum(clicks)  count(clicks)\n",
              "country                            \n",
              "US        751.791138            513\n",
              "non-US    348.155686            487"
            ]
          },
          "execution_count": 40,
          "metadata": {
            "tags": []
          },
          "output_type": "execute_result"
        }
      ],
      "source": [
        "MetricList((Sum('clicks'), Count('clicks'))).compute_on(df, 'country')"
      ]
    },
    {
      "cell_type": "code",
      "execution_count": null,
      "metadata": {
        "colab": {
          "height": 204
        },
        "executionInfo": {
          "elapsed": 378,
          "status": "ok",
          "timestamp": 1594365638394,
          "user": {
            "displayName": "",
            "photoUrl": "",
            "userId": ""
          },
          "user_tz": 420
        },
        "id": "a87pRDem3hH8",
        "outputId": "c80441ac-d636-4814-d358-f7f4e4861a03"
      },
      "outputs": [
        {
          "data": {
            "text/html": [
              "\u003cdiv\u003e\n",
              "\u003cstyle scoped\u003e\n",
              "    .dataframe tbody tr th:only-of-type {\n",
              "        vertical-align: middle;\n",
              "    }\n",
              "\n",
              "    .dataframe tbody tr th {\n",
              "        vertical-align: top;\n",
              "    }\n",
              "\n",
              "    .dataframe thead th {\n",
              "        text-align: right;\n",
              "    }\n",
              "\u003c/style\u003e\n",
              "\u003ctable border=\"1\" class=\"dataframe\"\u003e\n",
              "  \u003cthead\u003e\n",
              "    \u003ctr style=\"text-align: right;\"\u003e\n",
              "      \u003cth\u003e\u003c/th\u003e\n",
              "      \u003cth\u003e\u003c/th\u003e\n",
              "      \u003cth\u003eValue\u003c/th\u003e\n",
              "    \u003c/tr\u003e\n",
              "    \u003ctr\u003e\n",
              "      \u003cth\u003eMetric\u003c/th\u003e\n",
              "      \u003cth\u003ecountry\u003c/th\u003e\n",
              "      \u003cth\u003e\u003c/th\u003e\n",
              "    \u003c/tr\u003e\n",
              "  \u003c/thead\u003e\n",
              "  \u003ctbody\u003e\n",
              "    \u003ctr\u003e\n",
              "      \u003cth rowspan=\"2\" valign=\"top\"\u003equantile(clicks, 0.2)\u003c/th\u003e\n",
              "      \u003cth\u003eUS\u003c/th\u003e\n",
              "      \u003ctd\u003e0.609408\u003c/td\u003e\n",
              "    \u003c/tr\u003e\n",
              "    \u003ctr\u003e\n",
              "      \u003cth\u003enon-US\u003c/th\u003e\n",
              "      \u003ctd\u003e0.276149\u003c/td\u003e\n",
              "    \u003c/tr\u003e\n",
              "    \u003ctr\u003e\n",
              "      \u003cth rowspan=\"2\" valign=\"top\"\u003equantile(clicks, 0.7)\u003c/th\u003e\n",
              "      \u003cth\u003eUS\u003c/th\u003e\n",
              "      \u003ctd\u003e1.939392\u003c/td\u003e\n",
              "    \u003c/tr\u003e\n",
              "    \u003ctr\u003e\n",
              "      \u003cth\u003enon-US\u003c/th\u003e\n",
              "      \u003ctd\u003e0.925534\u003c/td\u003e\n",
              "    \u003c/tr\u003e\n",
              "  \u003c/tbody\u003e\n",
              "\u003c/table\u003e\n",
              "\u003c/div\u003e"
            ],
            "text/plain": [
              "                                  Value\n",
              "Metric                country          \n",
              "quantile(clicks, 0.2) US       0.609408\n",
              "                      non-US   0.276149\n",
              "quantile(clicks, 0.7) US       1.939392\n",
              "                      non-US   0.925534"
            ]
          },
          "execution_count": 41,
          "metadata": {
            "tags": []
          },
          "output_type": "execute_result"
        }
      ],
      "source": [
        "Quantile('clicks', [0.2, 0.7]).compute_on(df, 'country', melted=True)"
      ]
    },
    {
      "cell_type": "code",
      "execution_count": null,
      "metadata": {
        "colab": {
          "height": 173
        },
        "executionInfo": {
          "elapsed": 452,
          "status": "ok",
          "timestamp": 1594365638903,
          "user": {
            "displayName": "",
            "photoUrl": "",
            "userId": ""
          },
          "user_tz": 420
        },
        "id": "WH48W49s9Sni",
        "outputId": "3c12a85e-2b24-404f-87ce-7676d838d25e"
      },
      "outputs": [
        {
          "data": {
            "text/html": [
              "\u003cdiv\u003e\n",
              "\u003cstyle scoped\u003e\n",
              "    .dataframe tbody tr th:only-of-type {\n",
              "        vertical-align: middle;\n",
              "    }\n",
              "\n",
              "    .dataframe tbody tr th {\n",
              "        vertical-align: top;\n",
              "    }\n",
              "\n",
              "    .dataframe thead tr th {\n",
              "        text-align: left;\n",
              "    }\n",
              "\n",
              "    .dataframe thead tr:last-of-type th {\n",
              "        text-align: right;\n",
              "    }\n",
              "\u003c/style\u003e\n",
              "\u003ctable border=\"1\" class=\"dataframe\"\u003e\n",
              "  \u003cthead\u003e\n",
              "    \u003ctr\u003e\n",
              "      \u003cth\u003eMetric\u003c/th\u003e\n",
              "      \u003cth colspan=\"2\" halign=\"left\"\u003esum(clicks)\u003c/th\u003e\n",
              "      \u003cth colspan=\"2\" halign=\"left\"\u003ecount(clicks)\u003c/th\u003e\n",
              "    \u003c/tr\u003e\n",
              "    \u003ctr\u003e\n",
              "      \u003cth\u003e\u003c/th\u003e\n",
              "      \u003cth\u003eValue\u003c/th\u003e\n",
              "      \u003cth\u003eJackknife SE\u003c/th\u003e\n",
              "      \u003cth\u003eValue\u003c/th\u003e\n",
              "      \u003cth\u003eJackknife SE\u003c/th\u003e\n",
              "    \u003c/tr\u003e\n",
              "    \u003ctr\u003e\n",
              "      \u003cth\u003ecountry\u003c/th\u003e\n",
              "      \u003cth\u003e\u003c/th\u003e\n",
              "      \u003cth\u003e\u003c/th\u003e\n",
              "      \u003cth\u003e\u003c/th\u003e\n",
              "      \u003cth\u003e\u003c/th\u003e\n",
              "    \u003c/tr\u003e\n",
              "  \u003c/thead\u003e\n",
              "  \u003ctbody\u003e\n",
              "    \u003ctr\u003e\n",
              "      \u003cth\u003eUS\u003c/th\u003e\n",
              "      \u003ctd\u003e751.791138\u003c/td\u003e\n",
              "      \u003ctd\u003e17.415592\u003c/td\u003e\n",
              "      \u003ctd\u003e513.0\u003c/td\u003e\n",
              "      \u003ctd\u003e11.906301\u003c/td\u003e\n",
              "    \u003c/tr\u003e\n",
              "    \u003ctr\u003e\n",
              "      \u003cth\u003enon-US\u003c/th\u003e\n",
              "      \u003ctd\u003e348.155686\u003c/td\u003e\n",
              "      \u003ctd\u003e7.489326\u003c/td\u003e\n",
              "      \u003ctd\u003e487.0\u003c/td\u003e\n",
              "      \u003ctd\u003e15.104966\u003c/td\u003e\n",
              "    \u003c/tr\u003e\n",
              "  \u003c/tbody\u003e\n",
              "\u003c/table\u003e\n",
              "\u003c/div\u003e"
            ],
            "text/plain": [
              "Metric  sum(clicks)              count(clicks)             \n",
              "              Value Jackknife SE         Value Jackknife SE\n",
              "country                                                    \n",
              "US       751.791138    17.415592         513.0    11.906301\n",
              "non-US   348.155686     7.489326         487.0    15.104966"
            ]
          },
          "execution_count": 42,
          "metadata": {
            "tags": []
          },
          "output_type": "execute_result"
        }
      ],
      "source": [
        "# Don't worry. We will talk more about the pipeline operator \"|\" later.\n",
        "(MetricList((Sum('clicks'), Count('clicks')))\n",
        " | Jackknife('cookie')\n",
        " | compute_on(df, 'country'))"
      ]
    },
    {
      "cell_type": "code",
      "execution_count": null,
      "metadata": {
        "colab": {
          "height": 204
        },
        "executionInfo": {
          "elapsed": 1907,
          "status": "ok",
          "timestamp": 1594365640862,
          "user": {
            "displayName": "",
            "photoUrl": "",
            "userId": ""
          },
          "user_tz": 420
        },
        "id": "EiNhXrmM9dIX",
        "outputId": "ae3a3654-12f2-4efd-af3b-5794ccdb5427"
      },
      "outputs": [
        {
          "data": {
            "text/html": [
              "\u003cdiv\u003e\n",
              "\u003cstyle scoped\u003e\n",
              "    .dataframe tbody tr th:only-of-type {\n",
              "        vertical-align: middle;\n",
              "    }\n",
              "\n",
              "    .dataframe tbody tr th {\n",
              "        vertical-align: top;\n",
              "    }\n",
              "\n",
              "    .dataframe thead th {\n",
              "        text-align: right;\n",
              "    }\n",
              "\u003c/style\u003e\n",
              "\u003ctable border=\"1\" class=\"dataframe\"\u003e\n",
              "  \u003cthead\u003e\n",
              "    \u003ctr style=\"text-align: right;\"\u003e\n",
              "      \u003cth\u003e\u003c/th\u003e\n",
              "      \u003cth\u003e\u003c/th\u003e\n",
              "      \u003cth\u003eValue\u003c/th\u003e\n",
              "      \u003cth\u003eBootstrap SE\u003c/th\u003e\n",
              "    \u003c/tr\u003e\n",
              "    \u003ctr\u003e\n",
              "      \u003cth\u003eMetric\u003c/th\u003e\n",
              "      \u003cth\u003ecountry\u003c/th\u003e\n",
              "      \u003cth\u003e\u003c/th\u003e\n",
              "      \u003cth\u003e\u003c/th\u003e\n",
              "    \u003c/tr\u003e\n",
              "  \u003c/thead\u003e\n",
              "  \u003ctbody\u003e\n",
              "    \u003ctr\u003e\n",
              "      \u003cth rowspan=\"2\" valign=\"top\"\u003esum(clicks)\u003c/th\u003e\n",
              "      \u003cth\u003eUS\u003c/th\u003e\n",
              "      \u003ctd\u003e751.791138\u003c/td\u003e\n",
              "      \u003ctd\u003e22.146768\u003c/td\u003e\n",
              "    \u003c/tr\u003e\n",
              "    \u003ctr\u003e\n",
              "      \u003cth\u003enon-US\u003c/th\u003e\n",
              "      \u003ctd\u003e348.155686\u003c/td\u003e\n",
              "      \u003ctd\u003e9.741319\u003c/td\u003e\n",
              "    \u003c/tr\u003e\n",
              "    \u003ctr\u003e\n",
              "      \u003cth rowspan=\"2\" valign=\"top\"\u003ecount(clicks)\u003c/th\u003e\n",
              "      \u003cth\u003eUS\u003c/th\u003e\n",
              "      \u003ctd\u003e513.000000\u003c/td\u003e\n",
              "      \u003ctd\u003e0.000000\u003c/td\u003e\n",
              "    \u003c/tr\u003e\n",
              "    \u003ctr\u003e\n",
              "      \u003cth\u003enon-US\u003c/th\u003e\n",
              "      \u003ctd\u003e487.000000\u003c/td\u003e\n",
              "      \u003ctd\u003e0.000000\u003c/td\u003e\n",
              "    \u003c/tr\u003e\n",
              "  \u003c/tbody\u003e\n",
              "\u003c/table\u003e\n",
              "\u003c/div\u003e"
            ],
            "text/plain": [
              "                            Value  Bootstrap SE\n",
              "Metric        country                          \n",
              "sum(clicks)   US       751.791138     22.146768\n",
              "              non-US   348.155686      9.741319\n",
              "count(clicks) US       513.000000      0.000000\n",
              "              non-US   487.000000      0.000000"
            ]
          },
          "execution_count": 43,
          "metadata": {
            "tags": []
          },
          "output_type": "execute_result"
        }
      ],
      "source": [
        "(MetricList((Sum('clicks'), Count('clicks')))\n",
        " | Bootstrap(n_replicates=100)\n",
        " | compute_on(df, 'country', melted=True))"
      ]
    },
    {
      "cell_type": "markdown",
      "metadata": {
        "id": "aeceO97t2-rc"
      },
      "source": [
        "# Operations\n",
        "\n",
        "An Operation is a special type of Metric that is built on top of another Metric (called a \"child\").  A Metric is anything that has the compute_on() method, so the child doesn't need to be a simple Metric like Sum. It could be a MetricList, a composite Metric, or even another Operation."
      ]
    },
    {
      "cell_type": "markdown",
      "metadata": {
        "id": "zVRs_VKe7Bqb"
      },
      "source": [
        "##Distribution\n",
        "Compute the child Metric on a DataFrame grouped by a column, then normalize the numbers to 1 within group."
      ]
    },
    {
      "cell_type": "code",
      "execution_count": null,
      "metadata": {
        "colab": {
          "height": 142
        },
        "executionInfo": {
          "elapsed": 685,
          "status": "ok",
          "timestamp": 1603228234351,
          "user": {
            "displayName": "",
            "photoUrl": "",
            "userId": ""
          },
          "user_tz": 420
        },
        "id": "qU27HLT60n03",
        "outputId": "93461f9c-e82d-456c-be06-2487c9d9dad8"
      },
      "outputs": [
        {
          "data": {
            "text/html": [
              "\u003cdiv\u003e\n",
              "\u003cstyle scoped\u003e\n",
              "    .dataframe tbody tr th:only-of-type {\n",
              "        vertical-align: middle;\n",
              "    }\n",
              "\n",
              "    .dataframe tbody tr th {\n",
              "        vertical-align: top;\n",
              "    }\n",
              "\n",
              "    .dataframe thead th {\n",
              "        text-align: right;\n",
              "    }\n",
              "\u003c/style\u003e\n",
              "\u003ctable border=\"1\" class=\"dataframe\"\u003e\n",
              "  \u003cthead\u003e\n",
              "    \u003ctr style=\"text-align: right;\"\u003e\n",
              "      \u003cth\u003e\u003c/th\u003e\n",
              "      \u003cth\u003eDistribution of sum(clicks)\u003c/th\u003e\n",
              "    \u003c/tr\u003e\n",
              "    \u003ctr\u003e\n",
              "      \u003cth\u003ecountry\u003c/th\u003e\n",
              "      \u003cth\u003e\u003c/th\u003e\n",
              "    \u003c/tr\u003e\n",
              "  \u003c/thead\u003e\n",
              "  \u003ctbody\u003e\n",
              "    \u003ctr\u003e\n",
              "      \u003cth\u003eUS\u003c/th\u003e\n",
              "      \u003ctd\u003e0.68348\u003c/td\u003e\n",
              "    \u003c/tr\u003e\n",
              "    \u003ctr\u003e\n",
              "      \u003cth\u003enon-US\u003c/th\u003e\n",
              "      \u003ctd\u003e0.31652\u003c/td\u003e\n",
              "    \u003c/tr\u003e\n",
              "  \u003c/tbody\u003e\n",
              "\u003c/table\u003e\n",
              "\u003c/div\u003e"
            ],
            "text/plain": [
              "         Distribution of sum(clicks)\n",
              "country                             \n",
              "US                           0.68348\n",
              "non-US                       0.31652"
            ]
          },
          "execution_count": 3,
          "metadata": {
            "tags": []
          },
          "output_type": "execute_result"
        }
      ],
      "source": [
        "Distribution('country', Sum('clicks')).compute_on(df)"
      ]
    },
    {
      "cell_type": "markdown",
      "metadata": {
        "id": "ecTg-LNF---8"
      },
      "source": [
        "It's equal to"
      ]
    },
    {
      "cell_type": "code",
      "execution_count": null,
      "metadata": {
        "colab": {
          "height": 142
        },
        "executionInfo": {
          "elapsed": 382,
          "status": "ok",
          "timestamp": 1594365641750,
          "user": {
            "displayName": "",
            "photoUrl": "",
            "userId": ""
          },
          "user_tz": 420
        },
        "id": "1-srLwAU9Zkk",
        "outputId": "189a6edf-a252-4a87-f7d2-8c64da834c41"
      },
      "outputs": [
        {
          "data": {
            "text/html": [
              "\u003cdiv\u003e\n",
              "\u003cstyle scoped\u003e\n",
              "    .dataframe tbody tr th:only-of-type {\n",
              "        vertical-align: middle;\n",
              "    }\n",
              "\n",
              "    .dataframe tbody tr th {\n",
              "        vertical-align: top;\n",
              "    }\n",
              "\n",
              "    .dataframe thead th {\n",
              "        text-align: right;\n",
              "    }\n",
              "\u003c/style\u003e\n",
              "\u003ctable border=\"1\" class=\"dataframe\"\u003e\n",
              "  \u003cthead\u003e\n",
              "    \u003ctr style=\"text-align: right;\"\u003e\n",
              "      \u003cth\u003e\u003c/th\u003e\n",
              "      \u003cth\u003esum(clicks)\u003c/th\u003e\n",
              "    \u003c/tr\u003e\n",
              "    \u003ctr\u003e\n",
              "      \u003cth\u003ecountry\u003c/th\u003e\n",
              "      \u003cth\u003e\u003c/th\u003e\n",
              "    \u003c/tr\u003e\n",
              "  \u003c/thead\u003e\n",
              "  \u003ctbody\u003e\n",
              "    \u003ctr\u003e\n",
              "      \u003cth\u003eUS\u003c/th\u003e\n",
              "      \u003ctd\u003e0.68348\u003c/td\u003e\n",
              "    \u003c/tr\u003e\n",
              "    \u003ctr\u003e\n",
              "      \u003cth\u003enon-US\u003c/th\u003e\n",
              "      \u003ctd\u003e0.31652\u003c/td\u003e\n",
              "    \u003c/tr\u003e\n",
              "  \u003c/tbody\u003e\n",
              "\u003c/table\u003e\n",
              "\u003c/div\u003e"
            ],
            "text/plain": [
              "         sum(clicks)\n",
              "country             \n",
              "US           0.68348\n",
              "non-US       0.31652"
            ]
          },
          "execution_count": 45,
          "metadata": {
            "tags": []
          },
          "output_type": "execute_result"
        }
      ],
      "source": [
        "(Sum('clicks').compute_on(df, 'country') /\n",
        " Sum('clicks').compute_on(df, return_dataframe=False))"
      ]
    },
    {
      "cell_type": "markdown",
      "metadata": {
        "id": "Ijmv6fpnyN_U"
      },
      "source": [
        "Distribution has an alias Normalize."
      ]
    },
    {
      "cell_type": "code",
      "execution_count": null,
      "metadata": {
        "colab": {
          "height": 142
        },
        "executionInfo": {
          "elapsed": 711,
          "status": "ok",
          "timestamp": 1603228243421,
          "user": {
            "displayName": "",
            "photoUrl": "",
            "userId": ""
          },
          "user_tz": 420
        },
        "id": "p7ZZXDJizEr1",
        "outputId": "e1adad30-1cf0-4748-db30-c572ef1a73f0"
      },
      "outputs": [
        {
          "data": {
            "text/html": [
              "\u003cdiv\u003e\n",
              "\u003cstyle scoped\u003e\n",
              "    .dataframe tbody tr th:only-of-type {\n",
              "        vertical-align: middle;\n",
              "    }\n",
              "\n",
              "    .dataframe tbody tr th {\n",
              "        vertical-align: top;\n",
              "    }\n",
              "\n",
              "    .dataframe thead th {\n",
              "        text-align: right;\n",
              "    }\n",
              "\u003c/style\u003e\n",
              "\u003ctable border=\"1\" class=\"dataframe\"\u003e\n",
              "  \u003cthead\u003e\n",
              "    \u003ctr style=\"text-align: right;\"\u003e\n",
              "      \u003cth\u003e\u003c/th\u003e\n",
              "      \u003cth\u003eDistribution of sum(clicks)\u003c/th\u003e\n",
              "    \u003c/tr\u003e\n",
              "    \u003ctr\u003e\n",
              "      \u003cth\u003ecountry\u003c/th\u003e\n",
              "      \u003cth\u003e\u003c/th\u003e\n",
              "    \u003c/tr\u003e\n",
              "  \u003c/thead\u003e\n",
              "  \u003ctbody\u003e\n",
              "    \u003ctr\u003e\n",
              "      \u003cth\u003eUS\u003c/th\u003e\n",
              "      \u003ctd\u003e0.68348\u003c/td\u003e\n",
              "    \u003c/tr\u003e\n",
              "    \u003ctr\u003e\n",
              "      \u003cth\u003enon-US\u003c/th\u003e\n",
              "      \u003ctd\u003e0.31652\u003c/td\u003e\n",
              "    \u003c/tr\u003e\n",
              "  \u003c/tbody\u003e\n",
              "\u003c/table\u003e\n",
              "\u003c/div\u003e"
            ],
            "text/plain": [
              "         Distribution of sum(clicks)\n",
              "country                             \n",
              "US                           0.68348\n",
              "non-US                       0.31652"
            ]
          },
          "execution_count": 4,
          "metadata": {
            "tags": []
          },
          "output_type": "execute_result"
        }
      ],
      "source": [
        "Normalize('country', Sum('clicks')).compute_on(df)"
      ]
    },
    {
      "cell_type": "markdown",
      "metadata": {
        "id": "QV9REkDR_G2h"
      },
      "source": [
        "##Cumulative Distribution\n",
        "Similar to Distribution except that it returns the cumulative sum after normalization, but unlike Distribution the order of the cumulating column matters. As the result, we always sort the column and there is an 'order' arg for you to customize the ordering."
      ]
    },
    {
      "cell_type": "code",
      "execution_count": null,
      "metadata": {
        "colab": {
          "height": 142
        },
        "executionInfo": {
          "elapsed": 404,
          "status": "ok",
          "timestamp": 1596620965224,
          "user": {
            "displayName": "Xunmo Yang",
            "photoUrl": "",
            "userId": "12474546967758012552"
          },
          "user_tz": 420
        },
        "id": "mNEvEQu--8Qn",
        "outputId": "40467f8c-64b3-4691-a95b-0d29be621c87"
      },
      "outputs": [
        {
          "data": {
            "text/html": [
              "\u003cdiv\u003e\n",
              "\u003cstyle scoped\u003e\n",
              "    .dataframe tbody tr th:only-of-type {\n",
              "        vertical-align: middle;\n",
              "    }\n",
              "\n",
              "    .dataframe tbody tr th {\n",
              "        vertical-align: top;\n",
              "    }\n",
              "\n",
              "    .dataframe thead th {\n",
              "        text-align: right;\n",
              "    }\n",
              "\u003c/style\u003e\n",
              "\u003ctable border=\"1\" class=\"dataframe\"\u003e\n",
              "  \u003cthead\u003e\n",
              "    \u003ctr style=\"text-align: right;\"\u003e\n",
              "      \u003cth\u003e\u003c/th\u003e\n",
              "      \u003cth\u003eCumulative Distribution of sum(clicks)\u003c/th\u003e\n",
              "      \u003cth\u003eCumulative Distribution of sum(impressions)\u003c/th\u003e\n",
              "    \u003c/tr\u003e\n",
              "    \u003ctr\u003e\n",
              "      \u003cth\u003ecountry\u003c/th\u003e\n",
              "      \u003cth\u003e\u003c/th\u003e\n",
              "      \u003cth\u003e\u003c/th\u003e\n",
              "    \u003c/tr\u003e\n",
              "  \u003c/thead\u003e\n",
              "  \u003ctbody\u003e\n",
              "    \u003ctr\u003e\n",
              "      \u003cth\u003eUS\u003c/th\u003e\n",
              "      \u003ctd\u003e0.68348\u003c/td\u003e\n",
              "      \u003ctd\u003e0.682247\u003c/td\u003e\n",
              "    \u003c/tr\u003e\n",
              "    \u003ctr\u003e\n",
              "      \u003cth\u003enon-US\u003c/th\u003e\n",
              "      \u003ctd\u003e1.00000\u003c/td\u003e\n",
              "      \u003ctd\u003e1.000000\u003c/td\u003e\n",
              "    \u003c/tr\u003e\n",
              "  \u003c/tbody\u003e\n",
              "\u003c/table\u003e\n",
              "\u003c/div\u003e"
            ],
            "text/plain": [
              "         Cumulative Distribution of sum(clicks)  Cumulative Distribution of sum(impressions)\n",
              "country                                                                               \n",
              "US                                   0.68348                                  0.682247\n",
              "non-US                               1.00000                                  1.000000"
            ]
          },
          "execution_count": 3,
          "metadata": {
            "tags": []
          },
          "output_type": "execute_result"
        }
      ],
      "source": [
        "CumulativeDistribution('country', MetricList(\n",
        "    (Sum('clicks'), Sum('impressions')))).compute_on(df)"
      ]
    },
    {
      "cell_type": "code",
      "execution_count": null,
      "metadata": {
        "colab": {
          "height": 266
        },
        "executionInfo": {
          "elapsed": 419,
          "status": "ok",
          "timestamp": 1596620997849,
          "user": {
            "displayName": "Xunmo Yang",
            "photoUrl": "",
            "userId": "12474546967758012552"
          },
          "user_tz": 420
        },
        "id": "sbg5eHCv_eqc",
        "outputId": "e468abbe-e204-47ec-d1c5-9a371851c8f6"
      },
      "outputs": [
        {
          "data": {
            "text/html": [
              "\u003cdiv\u003e\n",
              "\u003cstyle scoped\u003e\n",
              "    .dataframe tbody tr th:only-of-type {\n",
              "        vertical-align: middle;\n",
              "    }\n",
              "\n",
              "    .dataframe tbody tr th {\n",
              "        vertical-align: top;\n",
              "    }\n",
              "\n",
              "    .dataframe thead th {\n",
              "        text-align: right;\n",
              "    }\n",
              "\u003c/style\u003e\n",
              "\u003ctable border=\"1\" class=\"dataframe\"\u003e\n",
              "  \u003cthead\u003e\n",
              "    \u003ctr style=\"text-align: right;\"\u003e\n",
              "      \u003cth\u003e\u003c/th\u003e\n",
              "      \u003cth\u003e\u003c/th\u003e\n",
              "      \u003cth\u003eCumulative Distribution of sum(clicks)\u003c/th\u003e\n",
              "    \u003c/tr\u003e\n",
              "    \u003ctr\u003e\n",
              "      \u003cth\u003eplatform\u003c/th\u003e\n",
              "      \u003cth\u003ecountry\u003c/th\u003e\n",
              "      \u003cth\u003e\u003c/th\u003e\n",
              "    \u003c/tr\u003e\n",
              "  \u003c/thead\u003e\n",
              "  \u003ctbody\u003e\n",
              "    \u003ctr\u003e\n",
              "      \u003cth rowspan=\"2\" valign=\"top\"\u003eDesktop\u003c/th\u003e\n",
              "      \u003cth\u003enon-US\u003c/th\u003e\n",
              "      \u003ctd\u003e0.305419\u003c/td\u003e\n",
              "    \u003c/tr\u003e\n",
              "    \u003ctr\u003e\n",
              "      \u003cth\u003eUS\u003c/th\u003e\n",
              "      \u003ctd\u003e1.000000\u003c/td\u003e\n",
              "    \u003c/tr\u003e\n",
              "    \u003ctr\u003e\n",
              "      \u003cth rowspan=\"2\" valign=\"top\"\u003eMobile\u003c/th\u003e\n",
              "      \u003cth\u003enon-US\u003c/th\u003e\n",
              "      \u003ctd\u003e0.352301\u003c/td\u003e\n",
              "    \u003c/tr\u003e\n",
              "    \u003ctr\u003e\n",
              "      \u003cth\u003eUS\u003c/th\u003e\n",
              "      \u003ctd\u003e1.000000\u003c/td\u003e\n",
              "    \u003c/tr\u003e\n",
              "    \u003ctr\u003e\n",
              "      \u003cth rowspan=\"2\" valign=\"top\"\u003eTablet\u003c/th\u003e\n",
              "      \u003cth\u003enon-US\u003c/th\u003e\n",
              "      \u003ctd\u003e0.294878\u003c/td\u003e\n",
              "    \u003c/tr\u003e\n",
              "    \u003ctr\u003e\n",
              "      \u003cth\u003eUS\u003c/th\u003e\n",
              "      \u003ctd\u003e1.000000\u003c/td\u003e\n",
              "    \u003c/tr\u003e\n",
              "  \u003c/tbody\u003e\n",
              "\u003c/table\u003e\n",
              "\u003c/div\u003e"
            ],
            "text/plain": [
              "                  Cumulative Distribution of sum(clicks)\n",
              "platform country                                     \n",
              "Desktop  non-US                              0.305419\n",
              "         US                                  1.000000\n",
              "Mobile   non-US                              0.352301\n",
              "         US                                  1.000000\n",
              "Tablet   non-US                              0.294878\n",
              "         US                                  1.000000"
            ]
          },
          "execution_count": 4,
          "metadata": {
            "tags": []
          },
          "output_type": "execute_result"
        }
      ],
      "source": [
        "CumulativeDistribution(\n",
        "    'country', Sum('clicks'), order=('non-US', 'US')).compute_on(df, 'platform')"
      ]
    },
    {
      "cell_type": "code",
      "execution_count": null,
      "metadata": {
        "colab": {
          "height": 204
        },
        "executionInfo": {
          "elapsed": 538,
          "status": "ok",
          "timestamp": 1596621061031,
          "user": {
            "displayName": "Xunmo Yang",
            "photoUrl": "",
            "userId": "12474546967758012552"
          },
          "user_tz": 420
        },
        "id": "VvRhl_vQAABY",
        "outputId": "cc2edffc-4248-467a-daa8-47cf494b0c47"
      },
      "outputs": [
        {
          "data": {
            "text/html": [
              "\u003cdiv\u003e\n",
              "\u003cstyle scoped\u003e\n",
              "    .dataframe tbody tr th:only-of-type {\n",
              "        vertical-align: middle;\n",
              "    }\n",
              "\n",
              "    .dataframe tbody tr th {\n",
              "        vertical-align: top;\n",
              "    }\n",
              "\n",
              "    .dataframe thead th {\n",
              "        text-align: right;\n",
              "    }\n",
              "\u003c/style\u003e\n",
              "\u003ctable border=\"1\" class=\"dataframe\"\u003e\n",
              "  \u003cthead\u003e\n",
              "    \u003ctr style=\"text-align: right;\"\u003e\n",
              "      \u003cth\u003e\u003c/th\u003e\n",
              "      \u003cth\u003e\u003c/th\u003e\n",
              "      \u003cth\u003eValue\u003c/th\u003e\n",
              "    \u003c/tr\u003e\n",
              "    \u003ctr\u003e\n",
              "      \u003cth\u003eMetric\u003c/th\u003e\n",
              "      \u003cth\u003ecountry\u003c/th\u003e\n",
              "      \u003cth\u003e\u003c/th\u003e\n",
              "    \u003c/tr\u003e\n",
              "  \u003c/thead\u003e\n",
              "  \u003ctbody\u003e\n",
              "    \u003ctr\u003e\n",
              "      \u003cth rowspan=\"2\" valign=\"top\"\u003eCumulative Distribution of sum(clicks)\u003c/th\u003e\n",
              "      \u003cth\u003eUS\u003c/th\u003e\n",
              "      \u003ctd\u003e0.683480\u003c/td\u003e\n",
              "    \u003c/tr\u003e\n",
              "    \u003ctr\u003e\n",
              "      \u003cth\u003enon-US\u003c/th\u003e\n",
              "      \u003ctd\u003e1.000000\u003c/td\u003e\n",
              "    \u003c/tr\u003e\n",
              "    \u003ctr\u003e\n",
              "      \u003cth rowspan=\"2\" valign=\"top\"\u003eCumulative Distribution of sum(impressions)\u003c/th\u003e\n",
              "      \u003cth\u003eUS\u003c/th\u003e\n",
              "      \u003ctd\u003e0.682247\u003c/td\u003e\n",
              "    \u003c/tr\u003e\n",
              "    \u003ctr\u003e\n",
              "      \u003cth\u003enon-US\u003c/th\u003e\n",
              "      \u003ctd\u003e1.000000\u003c/td\u003e\n",
              "    \u003c/tr\u003e\n",
              "  \u003c/tbody\u003e\n",
              "\u003c/table\u003e\n",
              "\u003c/div\u003e"
            ],
            "text/plain": [
              "                                                     Value\n",
              "Metric                                   country          \n",
              "Cumulative Distribution of sum(clicks)      US       0.683480\n",
              "                                         non-US   1.000000\n",
              "Cumulative Distribution of sum(impressions) US       0.682247\n",
              "                                         non-US   1.000000"
            ]
          },
          "execution_count": 5,
          "metadata": {
            "tags": []
          },
          "output_type": "execute_result"
        }
      ],
      "source": [
        "CumulativeDistribution(\n",
        "    'country', MetricList((Sum('clicks'), Sum('impressions')))\n",
        ").compute_on(df, melted=True)"
      ]
    },
    {
      "cell_type": "markdown",
      "metadata": {
        "id": "5PDDFqXZAa_S"
      },
      "source": [
        "##PercentChange\n",
        "Computes the percent change to a certain group on the DataFrame returned by the child Metric. The returned value is the # of percent points."
      ]
    },
    {
      "cell_type": "code",
      "execution_count": null,
      "metadata": {
        "colab": {
          "height": 111
        },
        "executionInfo": {
          "elapsed": 404,
          "status": "ok",
          "timestamp": 1594365643465,
          "user": {
            "displayName": "",
            "photoUrl": "",
            "userId": ""
          },
          "user_tz": 420
        },
        "id": "cbmM9OW9AJ0c",
        "outputId": "decb86ec-9dd5-4711-8672-710436bdbafa"
      },
      "outputs": [
        {
          "data": {
            "text/html": [
              "\u003cdiv\u003e\n",
              "\u003cstyle scoped\u003e\n",
              "    .dataframe tbody tr th:only-of-type {\n",
              "        vertical-align: middle;\n",
              "    }\n",
              "\n",
              "    .dataframe tbody tr th {\n",
              "        vertical-align: top;\n",
              "    }\n",
              "\n",
              "    .dataframe thead th {\n",
              "        text-align: right;\n",
              "    }\n",
              "\u003c/style\u003e\n",
              "\u003ctable border=\"1\" class=\"dataframe\"\u003e\n",
              "  \u003cthead\u003e\n",
              "    \u003ctr style=\"text-align: right;\"\u003e\n",
              "      \u003cth\u003e\u003c/th\u003e\n",
              "      \u003cth\u003emean(clicks) Percent Change\u003c/th\u003e\n",
              "    \u003c/tr\u003e\n",
              "    \u003ctr\u003e\n",
              "      \u003cth\u003ecountry\u003c/th\u003e\n",
              "      \u003cth\u003e\u003c/th\u003e\n",
              "    \u003c/tr\u003e\n",
              "  \u003c/thead\u003e\n",
              "  \u003ctbody\u003e\n",
              "    \u003ctr\u003e\n",
              "      \u003cth\u003enon-US\u003c/th\u003e\n",
              "      \u003ctd\u003e-51.217428\u003c/td\u003e\n",
              "    \u003c/tr\u003e\n",
              "  \u003c/tbody\u003e\n",
              "\u003c/table\u003e\n",
              "\u003c/div\u003e"
            ],
            "text/plain": [
              "         mean(clicks) Percent Change\n",
              "country                             \n",
              "non-US                    -51.217428"
            ]
          },
          "execution_count": 49,
          "metadata": {
            "tags": []
          },
          "output_type": "execute_result"
        }
      ],
      "source": [
        "PercentChange('country', 'US', Mean('clicks')).compute_on(df)"
      ]
    },
    {
      "cell_type": "code",
      "execution_count": null,
      "metadata": {
        "colab": {
          "height": 51
        },
        "executionInfo": {
          "elapsed": 367,
          "status": "ok",
          "timestamp": 1594365643891,
          "user": {
            "displayName": "",
            "photoUrl": "",
            "userId": ""
          },
          "user_tz": 420
        },
        "id": "0o7pYZaPBTiB",
        "outputId": "c36e8073-eb33-49e4-d27f-90109c1d5d97"
      },
      "outputs": [
        {
          "data": {
            "text/plain": [
              "mean(clicks)   -51.217428\n",
              "dtype: float64"
            ]
          },
          "execution_count": 50,
          "metadata": {
            "tags": []
          },
          "output_type": "execute_result"
        }
      ],
      "source": [
        "mean = Mean('clicks').compute_on(df, 'country')\n",
        "(mean.loc['non-US'] / mean.loc['US'] - 1) * 100"
      ]
    },
    {
      "cell_type": "markdown",
      "metadata": {
        "id": "855lw27MB2Nf"
      },
      "source": [
        "You can include the base group in your result."
      ]
    },
    {
      "cell_type": "code",
      "execution_count": null,
      "metadata": {
        "colab": {
          "height": 266
        },
        "executionInfo": {
          "elapsed": 391,
          "status": "ok",
          "timestamp": 1594365644334,
          "user": {
            "displayName": "",
            "photoUrl": "",
            "userId": ""
          },
          "user_tz": 420
        },
        "id": "6YTYgQ7GBfUu",
        "outputId": "f9e77b75-6c7e-4c5e-e0f5-b81852c2ba8a"
      },
      "outputs": [
        {
          "data": {
            "text/html": [
              "\u003cdiv\u003e\n",
              "\u003cstyle scoped\u003e\n",
              "    .dataframe tbody tr th:only-of-type {\n",
              "        vertical-align: middle;\n",
              "    }\n",
              "\n",
              "    .dataframe tbody tr th {\n",
              "        vertical-align: top;\n",
              "    }\n",
              "\n",
              "    .dataframe thead th {\n",
              "        text-align: right;\n",
              "    }\n",
              "\u003c/style\u003e\n",
              "\u003ctable border=\"1\" class=\"dataframe\"\u003e\n",
              "  \u003cthead\u003e\n",
              "    \u003ctr style=\"text-align: right;\"\u003e\n",
              "      \u003cth\u003e\u003c/th\u003e\n",
              "      \u003cth\u003e\u003c/th\u003e\n",
              "      \u003cth\u003ecount(clicks) Percent Change\u003c/th\u003e\n",
              "      \u003cth\u003ecount(impressions) Percent Change\u003c/th\u003e\n",
              "    \u003c/tr\u003e\n",
              "    \u003ctr\u003e\n",
              "      \u003cth\u003eplatform\u003c/th\u003e\n",
              "      \u003cth\u003ecountry\u003c/th\u003e\n",
              "      \u003cth\u003e\u003c/th\u003e\n",
              "      \u003cth\u003e\u003c/th\u003e\n",
              "    \u003c/tr\u003e\n",
              "  \u003c/thead\u003e\n",
              "  \u003ctbody\u003e\n",
              "    \u003ctr\u003e\n",
              "      \u003cth rowspan=\"2\" valign=\"top\"\u003eDesktop\u003c/th\u003e\n",
              "      \u003cth\u003eUS\u003c/th\u003e\n",
              "      \u003ctd\u003e0.000000\u003c/td\u003e\n",
              "      \u003ctd\u003e0.000000\u003c/td\u003e\n",
              "    \u003c/tr\u003e\n",
              "    \u003ctr\u003e\n",
              "      \u003cth\u003enon-US\u003c/th\u003e\n",
              "      \u003ctd\u003e-9.890110\u003c/td\u003e\n",
              "      \u003ctd\u003e-9.890110\u003c/td\u003e\n",
              "    \u003c/tr\u003e\n",
              "    \u003ctr\u003e\n",
              "      \u003cth rowspan=\"2\" valign=\"top\"\u003eMobile\u003c/th\u003e\n",
              "      \u003cth\u003eUS\u003c/th\u003e\n",
              "      \u003ctd\u003e0.000000\u003c/td\u003e\n",
              "      \u003ctd\u003e0.000000\u003c/td\u003e\n",
              "    \u003c/tr\u003e\n",
              "    \u003ctr\u003e\n",
              "      \u003cth\u003enon-US\u003c/th\u003e\n",
              "      \u003ctd\u003e9.090909\u003c/td\u003e\n",
              "      \u003ctd\u003e9.090909\u003c/td\u003e\n",
              "    \u003c/tr\u003e\n",
              "    \u003ctr\u003e\n",
              "      \u003cth rowspan=\"2\" valign=\"top\"\u003eTablet\u003c/th\u003e\n",
              "      \u003cth\u003eUS\u003c/th\u003e\n",
              "      \u003ctd\u003e0.000000\u003c/td\u003e\n",
              "      \u003ctd\u003e0.000000\u003c/td\u003e\n",
              "    \u003c/tr\u003e\n",
              "    \u003ctr\u003e\n",
              "      \u003cth\u003enon-US\u003c/th\u003e\n",
              "      \u003ctd\u003e-12.429379\u003c/td\u003e\n",
              "      \u003ctd\u003e-12.429379\u003c/td\u003e\n",
              "    \u003c/tr\u003e\n",
              "  \u003c/tbody\u003e\n",
              "\u003c/table\u003e\n",
              "\u003c/div\u003e"
            ],
            "text/plain": [
              "                  count(clicks) Percent Change  count(impressions) Percent Change\n",
              "platform country                                                                 \n",
              "Desktop  US                           0.000000                           0.000000\n",
              "         non-US                      -9.890110                          -9.890110\n",
              "Mobile   US                           0.000000                           0.000000\n",
              "         non-US                       9.090909                           9.090909\n",
              "Tablet   US                           0.000000                           0.000000\n",
              "         non-US                     -12.429379                         -12.429379"
            ]
          },
          "execution_count": 51,
          "metadata": {
            "tags": []
          },
          "output_type": "execute_result"
        }
      ],
      "source": [
        "PercentChange(\n",
        "    'country',\n",
        "    'US',\n",
        "    MetricList((Count('clicks'), Count('impressions'))),\n",
        "    include_base=True).compute_on(df, 'platform')"
      ]
    },
    {
      "cell_type": "markdown",
      "metadata": {
        "id": "jPMAQUt6HsXt"
      },
      "source": [
        "You can also specify multiple columns as the condition columns, then your base value should be a tuple."
      ]
    },
    {
      "cell_type": "code",
      "execution_count": null,
      "metadata": {
        "colab": {
          "height": 266
        },
        "executionInfo": {
          "elapsed": 500,
          "status": "ok",
          "timestamp": 1601353784290,
          "user": {
            "displayName": "",
            "photoUrl": "",
            "userId": ""
          },
          "user_tz": 420
        },
        "id": "Fe8o-qoDHy-A",
        "outputId": "8deaf5ea-d64c-47ab-e19e-08ea388a79fc"
      },
      "outputs": [
        {
          "data": {
            "text/html": [
              "\u003cdiv\u003e\n",
              "\u003cstyle scoped\u003e\n",
              "    .dataframe tbody tr th:only-of-type {\n",
              "        vertical-align: middle;\n",
              "    }\n",
              "\n",
              "    .dataframe tbody tr th {\n",
              "        vertical-align: top;\n",
              "    }\n",
              "\n",
              "    .dataframe thead th {\n",
              "        text-align: right;\n",
              "    }\n",
              "\u003c/style\u003e\n",
              "\u003ctable border=\"1\" class=\"dataframe\"\u003e\n",
              "  \u003cthead\u003e\n",
              "    \u003ctr style=\"text-align: right;\"\u003e\n",
              "      \u003cth\u003e\u003c/th\u003e\n",
              "      \u003cth\u003e\u003c/th\u003e\n",
              "      \u003cth\u003ecount(clicks) Percent Change\u003c/th\u003e\n",
              "      \u003cth\u003ecount(impressions) Percent Change\u003c/th\u003e\n",
              "    \u003c/tr\u003e\n",
              "    \u003ctr\u003e\n",
              "      \u003cth\u003ecountry\u003c/th\u003e\n",
              "      \u003cth\u003eplatform\u003c/th\u003e\n",
              "      \u003cth\u003e\u003c/th\u003e\n",
              "      \u003cth\u003e\u003c/th\u003e\n",
              "    \u003c/tr\u003e\n",
              "  \u003c/thead\u003e\n",
              "  \u003ctbody\u003e\n",
              "    \u003ctr\u003e\n",
              "      \u003cth rowspan=\"3\" valign=\"top\"\u003eUS\u003c/th\u003e\n",
              "      \u003cth\u003eDesktop\u003c/th\u003e\n",
              "      \u003ctd\u003e0.000000\u003c/td\u003e\n",
              "      \u003ctd\u003e0.000000\u003c/td\u003e\n",
              "    \u003c/tr\u003e\n",
              "    \u003ctr\u003e\n",
              "      \u003cth\u003eMobile\u003c/th\u003e\n",
              "      \u003ctd\u003e-15.384615\u003c/td\u003e\n",
              "      \u003ctd\u003e-15.384615\u003c/td\u003e\n",
              "    \u003c/tr\u003e\n",
              "    \u003ctr\u003e\n",
              "      \u003cth\u003eTablet\u003c/th\u003e\n",
              "      \u003ctd\u003e-2.747253\u003c/td\u003e\n",
              "      \u003ctd\u003e-2.747253\u003c/td\u003e\n",
              "    \u003c/tr\u003e\n",
              "    \u003ctr\u003e\n",
              "      \u003cth rowspan=\"3\" valign=\"top\"\u003enon-US\u003c/th\u003e\n",
              "      \u003cth\u003eDesktop\u003c/th\u003e\n",
              "      \u003ctd\u003e-9.890110\u003c/td\u003e\n",
              "      \u003ctd\u003e-9.890110\u003c/td\u003e\n",
              "    \u003c/tr\u003e\n",
              "    \u003ctr\u003e\n",
              "      \u003cth\u003eMobile\u003c/th\u003e\n",
              "      \u003ctd\u003e-7.692308\u003c/td\u003e\n",
              "      \u003ctd\u003e-7.692308\u003c/td\u003e\n",
              "    \u003c/tr\u003e\n",
              "    \u003ctr\u003e\n",
              "      \u003cth\u003eTablet\u003c/th\u003e\n",
              "      \u003ctd\u003e-14.835165\u003c/td\u003e\n",
              "      \u003ctd\u003e-14.835165\u003c/td\u003e\n",
              "    \u003c/tr\u003e\n",
              "  \u003c/tbody\u003e\n",
              "\u003c/table\u003e\n",
              "\u003c/div\u003e"
            ],
            "text/plain": [
              "                  count(clicks) Percent Change  count(impressions) Percent Change\n",
              "country platform                                                                 \n",
              "US      Desktop                       0.000000                           0.000000\n",
              "        Mobile                      -15.384615                         -15.384615\n",
              "        Tablet                       -2.747253                          -2.747253\n",
              "non-US  Desktop                      -9.890110                          -9.890110\n",
              "        Mobile                       -7.692308                          -7.692308\n",
              "        Tablet                      -14.835165                         -14.835165"
            ]
          },
          "execution_count": 5,
          "metadata": {
            "tags": []
          },
          "output_type": "execute_result"
        }
      ],
      "source": [
        "PercentChange(\n",
        "    ['country', 'platform'],\n",
        "    ('US', 'Desktop'),\n",
        "    MetricList((Count('clicks'), Count('impressions'))),\n",
        "    include_base=True).compute_on(df)"
      ]
    },
    {
      "cell_type": "markdown",
      "metadata": {
        "id": "y6PJdEMOCMVV"
      },
      "source": [
        "##Absolute Change\n",
        "Very similar to PercentChange, but the absolute difference is returned."
      ]
    },
    {
      "cell_type": "code",
      "execution_count": null,
      "metadata": {
        "colab": {
          "height": 111
        },
        "executionInfo": {
          "elapsed": 372,
          "status": "ok",
          "timestamp": 1594365644758,
          "user": {
            "displayName": "",
            "photoUrl": "",
            "userId": ""
          },
          "user_tz": 420
        },
        "id": "jl3tnA7iCDdC",
        "outputId": "a31985be-b3c1-49ba-b9a0-e8d52296b42e"
      },
      "outputs": [
        {
          "data": {
            "text/html": [
              "\u003cdiv\u003e\n",
              "\u003cstyle scoped\u003e\n",
              "    .dataframe tbody tr th:only-of-type {\n",
              "        vertical-align: middle;\n",
              "    }\n",
              "\n",
              "    .dataframe tbody tr th {\n",
              "        vertical-align: top;\n",
              "    }\n",
              "\n",
              "    .dataframe thead th {\n",
              "        text-align: right;\n",
              "    }\n",
              "\u003c/style\u003e\n",
              "\u003ctable border=\"1\" class=\"dataframe\"\u003e\n",
              "  \u003cthead\u003e\n",
              "    \u003ctr style=\"text-align: right;\"\u003e\n",
              "      \u003cth\u003e\u003c/th\u003e\n",
              "      \u003cth\u003emean(clicks) Absolute Change\u003c/th\u003e\n",
              "    \u003c/tr\u003e\n",
              "    \u003ctr\u003e\n",
              "      \u003cth\u003ecountry\u003c/th\u003e\n",
              "      \u003cth\u003e\u003c/th\u003e\n",
              "    \u003c/tr\u003e\n",
              "  \u003c/thead\u003e\n",
              "  \u003ctbody\u003e\n",
              "    \u003ctr\u003e\n",
              "      \u003cth\u003enon-US\u003c/th\u003e\n",
              "      \u003ctd\u003e-0.750581\u003c/td\u003e\n",
              "    \u003c/tr\u003e\n",
              "  \u003c/tbody\u003e\n",
              "\u003c/table\u003e\n",
              "\u003c/div\u003e"
            ],
            "text/plain": [
              "         mean(clicks) Absolute Change\n",
              "country                              \n",
              "non-US                      -0.750581"
            ]
          },
          "execution_count": 52,
          "metadata": {
            "tags": []
          },
          "output_type": "execute_result"
        }
      ],
      "source": [
        "AbsoluteChange('country', 'US', Mean('clicks')).compute_on(df)"
      ]
    },
    {
      "cell_type": "markdown",
      "metadata": {
        "id": "w_gMScULCglZ"
      },
      "source": [
        "You can also include the base group in your result."
      ]
    },
    {
      "cell_type": "code",
      "execution_count": null,
      "metadata": {
        "colab": {
          "height": 266
        },
        "executionInfo": {
          "elapsed": 373,
          "status": "ok",
          "timestamp": 1594365645175,
          "user": {
            "displayName": "",
            "photoUrl": "",
            "userId": ""
          },
          "user_tz": 420
        },
        "id": "mHuDueBQCglb",
        "outputId": "92769455-bf2a-44a5-e55e-99a1f7333997"
      },
      "outputs": [
        {
          "data": {
            "text/html": [
              "\u003cdiv\u003e\n",
              "\u003cstyle scoped\u003e\n",
              "    .dataframe tbody tr th:only-of-type {\n",
              "        vertical-align: middle;\n",
              "    }\n",
              "\n",
              "    .dataframe tbody tr th {\n",
              "        vertical-align: top;\n",
              "    }\n",
              "\n",
              "    .dataframe thead th {\n",
              "        text-align: right;\n",
              "    }\n",
              "\u003c/style\u003e\n",
              "\u003ctable border=\"1\" class=\"dataframe\"\u003e\n",
              "  \u003cthead\u003e\n",
              "    \u003ctr style=\"text-align: right;\"\u003e\n",
              "      \u003cth\u003e\u003c/th\u003e\n",
              "      \u003cth\u003e\u003c/th\u003e\n",
              "      \u003cth\u003e\u003c/th\u003e\n",
              "      \u003cth\u003eValue\u003c/th\u003e\n",
              "    \u003c/tr\u003e\n",
              "    \u003ctr\u003e\n",
              "      \u003cth\u003eMetric\u003c/th\u003e\n",
              "      \u003cth\u003eplatform\u003c/th\u003e\n",
              "      \u003cth\u003ecountry\u003c/th\u003e\n",
              "      \u003cth\u003e\u003c/th\u003e\n",
              "    \u003c/tr\u003e\n",
              "  \u003c/thead\u003e\n",
              "  \u003ctbody\u003e\n",
              "    \u003ctr\u003e\n",
              "      \u003cth rowspan=\"6\" valign=\"top\"\u003ecount(clicks) Absolute Change\u003c/th\u003e\n",
              "      \u003cth rowspan=\"2\" valign=\"top\"\u003eDesktop\u003c/th\u003e\n",
              "      \u003cth\u003eUS\u003c/th\u003e\n",
              "      \u003ctd\u003e0\u003c/td\u003e\n",
              "    \u003c/tr\u003e\n",
              "    \u003ctr\u003e\n",
              "      \u003cth\u003enon-US\u003c/th\u003e\n",
              "      \u003ctd\u003e-18\u003c/td\u003e\n",
              "    \u003c/tr\u003e\n",
              "    \u003ctr\u003e\n",
              "      \u003cth rowspan=\"2\" valign=\"top\"\u003eMobile\u003c/th\u003e\n",
              "      \u003cth\u003eUS\u003c/th\u003e\n",
              "      \u003ctd\u003e0\u003c/td\u003e\n",
              "    \u003c/tr\u003e\n",
              "    \u003ctr\u003e\n",
              "      \u003cth\u003enon-US\u003c/th\u003e\n",
              "      \u003ctd\u003e14\u003c/td\u003e\n",
              "    \u003c/tr\u003e\n",
              "    \u003ctr\u003e\n",
              "      \u003cth rowspan=\"2\" valign=\"top\"\u003eTablet\u003c/th\u003e\n",
              "      \u003cth\u003eUS\u003c/th\u003e\n",
              "      \u003ctd\u003e0\u003c/td\u003e\n",
              "    \u003c/tr\u003e\n",
              "    \u003ctr\u003e\n",
              "      \u003cth\u003enon-US\u003c/th\u003e\n",
              "      \u003ctd\u003e-22\u003c/td\u003e\n",
              "    \u003c/tr\u003e\n",
              "  \u003c/tbody\u003e\n",
              "\u003c/table\u003e\n",
              "\u003c/div\u003e"
            ],
            "text/plain": [
              "                                                Value\n",
              "Metric                        platform country       \n",
              "count(clicks) Absolute Change Desktop  US           0\n",
              "                                       non-US     -18\n",
              "                              Mobile   US           0\n",
              "                                       non-US      14\n",
              "                              Tablet   US           0\n",
              "                                       non-US     -22"
            ]
          },
          "execution_count": 53,
          "metadata": {
            "tags": []
          },
          "output_type": "execute_result"
        }
      ],
      "source": [
        "AbsoluteChange(\n",
        "    'country', 'US', Count('clicks'), include_base=True).compute_on(\n",
        "        df, 'platform', melted=True)"
      ]
    },
    {
      "cell_type": "markdown",
      "metadata": {
        "id": "ProNeuPcCpvt"
      },
      "source": [
        "##Cochran-Mantel-Haenszel statistics\n",
        "Please refer to the Wikepedia [page](https://en.wikipedia.org/wiki/Cochran%E2%80%93Mantel%E2%80%93Haenszel_statistics) for its definition. Besides the condition column and baseline key that PercentChange and AbsoluteChange take, CMH also needs a column to  stratify. The child Metric must be a ratio of two single-column Metrics or CMH doesn't make sense. So instead of passing\n",
        "    \n",
        "    AbsoluteChange(MetricList([a, b])) / AbsoluteChange(MetricList([c, d])),\n",
        "please use\n",
        "    \n",
        "    MetricList([AbsoluteChange(a) / AbsoluteChange(c),\n",
        "              AbsoluteChange(b) / AbsoluteChange(d)])."
      ]
    },
    {
      "cell_type": "code",
      "execution_count": null,
      "metadata": {
        "colab": {
          "height": 111
        },
        "executionInfo": {
          "elapsed": 364,
          "status": "ok",
          "timestamp": 1594365645596,
          "user": {
            "displayName": "",
            "photoUrl": "",
            "userId": ""
          },
          "user_tz": 420
        },
        "id": "rz_U1FrfCV66",
        "outputId": "f4a5379b-1cad-40c0-a7b4-1b88c448db38"
      },
      "outputs": [
        {
          "data": {
            "text/html": [
              "\u003cdiv\u003e\n",
              "\u003cstyle scoped\u003e\n",
              "    .dataframe tbody tr th:only-of-type {\n",
              "        vertical-align: middle;\n",
              "    }\n",
              "\n",
              "    .dataframe tbody tr th {\n",
              "        vertical-align: top;\n",
              "    }\n",
              "\n",
              "    .dataframe thead th {\n",
              "        text-align: right;\n",
              "    }\n",
              "\u003c/style\u003e\n",
              "\u003ctable border=\"1\" class=\"dataframe\"\u003e\n",
              "  \u003cthead\u003e\n",
              "    \u003ctr style=\"text-align: right;\"\u003e\n",
              "      \u003cth\u003e\u003c/th\u003e\n",
              "      \u003cth\u003esum(clicks) / sum(impressions) MH Ratio\u003c/th\u003e\n",
              "    \u003c/tr\u003e\n",
              "    \u003ctr\u003e\n",
              "      \u003cth\u003ecountry\u003c/th\u003e\n",
              "      \u003cth\u003e\u003c/th\u003e\n",
              "    \u003c/tr\u003e\n",
              "  \u003c/thead\u003e\n",
              "  \u003ctbody\u003e\n",
              "    \u003ctr\u003e\n",
              "      \u003cth\u003enon-US\u003c/th\u003e\n",
              "      \u003ctd\u003e-27.206216\u003c/td\u003e\n",
              "    \u003c/tr\u003e\n",
              "  \u003c/tbody\u003e\n",
              "\u003c/table\u003e\n",
              "\u003c/div\u003e"
            ],
            "text/plain": [
              "         sum(clicks) / sum(impressions) MH Ratio\n",
              "country                                         \n",
              "non-US                                -27.206216"
            ]
          },
          "execution_count": 54,
          "metadata": {
            "tags": []
          },
          "output_type": "execute_result"
        }
      ],
      "source": [
        "ctr = Ratio('clicks', 'impressions')\n",
        "MH('country', 'US', 'platform', ctr).compute_on(df)  # stratified by platform"
      ]
    },
    {
      "cell_type": "markdown",
      "metadata": {
        "id": "uvQrrW7NY0Vj"
      },
      "source": [
        "## Standard Errors"
      ]
    },
    {
      "cell_type": "markdown",
      "metadata": {
        "id": "vH3Id5U9JOqZ"
      },
      "source": [
        "###Jackknife\n",
        "Unlike all Metrics we have seen so far, Jackknife returns a multiple-column DataFrame because by default we return point estimate and standard error."
      ]
    },
    {
      "cell_type": "code",
      "execution_count": null,
      "metadata": {
        "colab": {
          "height": 111
        },
        "executionInfo": {
          "elapsed": 442,
          "status": "ok",
          "timestamp": 1594365646085,
          "user": {
            "displayName": "",
            "photoUrl": "",
            "userId": ""
          },
          "user_tz": 420
        },
        "id": "2ND79IibD6Pg",
        "outputId": "c56f0562-9572-44e5-d525-86e84da32044"
      },
      "outputs": [
        {
          "data": {
            "text/html": [
              "\u003cdiv\u003e\n",
              "\u003cstyle scoped\u003e\n",
              "    .dataframe tbody tr th:only-of-type {\n",
              "        vertical-align: middle;\n",
              "    }\n",
              "\n",
              "    .dataframe tbody tr th {\n",
              "        vertical-align: top;\n",
              "    }\n",
              "\n",
              "    .dataframe thead tr th {\n",
              "        text-align: left;\n",
              "    }\n",
              "\u003c/style\u003e\n",
              "\u003ctable border=\"1\" class=\"dataframe\"\u003e\n",
              "  \u003cthead\u003e\n",
              "    \u003ctr\u003e\n",
              "      \u003cth\u003eMetric\u003c/th\u003e\n",
              "      \u003cth colspan=\"2\" halign=\"left\"\u003esum(clicks)\u003c/th\u003e\n",
              "      \u003cth colspan=\"2\" halign=\"left\"\u003esum(impressions)\u003c/th\u003e\n",
              "    \u003c/tr\u003e\n",
              "    \u003ctr\u003e\n",
              "      \u003cth\u003e\u003c/th\u003e\n",
              "      \u003cth\u003eValue\u003c/th\u003e\n",
              "      \u003cth\u003eJackknife SE\u003c/th\u003e\n",
              "      \u003cth\u003eValue\u003c/th\u003e\n",
              "      \u003cth\u003eJackknife SE\u003c/th\u003e\n",
              "    \u003c/tr\u003e\n",
              "  \u003c/thead\u003e\n",
              "  \u003ctbody\u003e\n",
              "    \u003ctr\u003e\n",
              "      \u003cth\u003e0\u003c/th\u003e\n",
              "      \u003ctd\u003e1099.946824\u003c/td\u003e\n",
              "      \u003ctd\u003e21.984759\u003c/td\u003e\n",
              "      \u003ctd\u003e22143.0\u003c/td\u003e\n",
              "      \u003ctd\u003e766.551342\u003c/td\u003e\n",
              "    \u003c/tr\u003e\n",
              "  \u003c/tbody\u003e\n",
              "\u003c/table\u003e\n",
              "\u003c/div\u003e"
            ],
            "text/plain": [
              "Metric  sum(clicks)              sum(impressions)             \n",
              "              Value Jackknife SE            Value Jackknife SE\n",
              "0       1099.946824    21.984759          22143.0   766.551342"
            ]
          },
          "execution_count": 55,
          "metadata": {
            "tags": []
          },
          "output_type": "execute_result"
        }
      ],
      "source": [
        "Jackknife('cookie', MetricList((Sum('clicks'), Sum('impressions')))).compute_on(df)"
      ]
    },
    {
      "cell_type": "code",
      "execution_count": null,
      "metadata": {
        "colab": {
          "height": 204
        },
        "executionInfo": {
          "elapsed": 520,
          "status": "ok",
          "timestamp": 1594366655230,
          "user": {
            "displayName": "",
            "photoUrl": "",
            "userId": ""
          },
          "user_tz": 420
        },
        "id": "837hcADhOYFY",
        "outputId": "ae3926ec-70d2-47eb-b2f1-bcd7889535dd"
      },
      "outputs": [
        {
          "data": {
            "text/html": [
              "\u003cdiv\u003e\n",
              "\u003cstyle scoped\u003e\n",
              "    .dataframe tbody tr th:only-of-type {\n",
              "        vertical-align: middle;\n",
              "    }\n",
              "\n",
              "    .dataframe tbody tr th {\n",
              "        vertical-align: top;\n",
              "    }\n",
              "\n",
              "    .dataframe thead th {\n",
              "        text-align: right;\n",
              "    }\n",
              "\u003c/style\u003e\n",
              "\u003ctable border=\"1\" class=\"dataframe\"\u003e\n",
              "  \u003cthead\u003e\n",
              "    \u003ctr style=\"text-align: right;\"\u003e\n",
              "      \u003cth\u003e\u003c/th\u003e\n",
              "      \u003cth\u003e\u003c/th\u003e\n",
              "      \u003cth\u003eValue\u003c/th\u003e\n",
              "      \u003cth\u003eJackknife SE\u003c/th\u003e\n",
              "    \u003c/tr\u003e\n",
              "    \u003ctr\u003e\n",
              "      \u003cth\u003eMetric\u003c/th\u003e\n",
              "      \u003cth\u003ecountry\u003c/th\u003e\n",
              "      \u003cth\u003e\u003c/th\u003e\n",
              "      \u003cth\u003e\u003c/th\u003e\n",
              "    \u003c/tr\u003e\n",
              "  \u003c/thead\u003e\n",
              "  \u003ctbody\u003e\n",
              "    \u003ctr\u003e\n",
              "      \u003cth rowspan=\"2\" valign=\"top\"\u003esum(clicks)\u003c/th\u003e\n",
              "      \u003cth\u003eUS\u003c/th\u003e\n",
              "      \u003ctd\u003e751.791138\u003c/td\u003e\n",
              "      \u003ctd\u003e17.415592\u003c/td\u003e\n",
              "    \u003c/tr\u003e\n",
              "    \u003ctr\u003e\n",
              "      \u003cth\u003enon-US\u003c/th\u003e\n",
              "      \u003ctd\u003e348.155686\u003c/td\u003e\n",
              "      \u003ctd\u003e7.489326\u003c/td\u003e\n",
              "    \u003c/tr\u003e\n",
              "    \u003ctr\u003e\n",
              "      \u003cth rowspan=\"2\" valign=\"top\"\u003esum(impressions)\u003c/th\u003e\n",
              "      \u003cth\u003eUS\u003c/th\u003e\n",
              "      \u003ctd\u003e15107.000000\u003c/td\u003e\n",
              "      \u003ctd\u003e639.214017\u003c/td\u003e\n",
              "    \u003c/tr\u003e\n",
              "    \u003ctr\u003e\n",
              "      \u003cth\u003enon-US\u003c/th\u003e\n",
              "      \u003ctd\u003e7036.000000\u003c/td\u003e\n",
              "      \u003ctd\u003e243.124330\u003c/td\u003e\n",
              "    \u003c/tr\u003e\n",
              "  \u003c/tbody\u003e\n",
              "\u003c/table\u003e\n",
              "\u003c/div\u003e"
            ],
            "text/plain": [
              "                                 Value  Jackknife SE\n",
              "Metric           country                            \n",
              "sum(clicks)      US         751.791138     17.415592\n",
              "                 non-US     348.155686      7.489326\n",
              "sum(impressions) US       15107.000000    639.214017\n",
              "                 non-US    7036.000000    243.124330"
            ]
          },
          "execution_count": 124,
          "metadata": {
            "tags": []
          },
          "output_type": "execute_result"
        }
      ],
      "source": [
        "metrics = MetricList((Sum('clicks'), Sum('impressions')))\n",
        "Jackknife('cookie', metrics).compute_on(df, 'country', True)"
      ]
    },
    {
      "cell_type": "markdown",
      "metadata": {
        "id": "eE3e5FAgRPf2"
      },
      "source": [
        "You can also specify a confidence level, the we'll return the confidence interval. The returned DataFrame also comes with a display() method for visualization which will highlight significant changes. To customize the display(), please take a look at confidence_interval_display_demo.ipynb."
      ]
    },
    {
      "cell_type": "code",
      "execution_count": null,
      "metadata": {
        "colab": {
          "height": 111
        },
        "executionInfo": {
          "elapsed": 510,
          "status": "ok",
          "timestamp": 1594366671346,
          "user": {
            "displayName": "",
            "photoUrl": "",
            "userId": ""
          },
          "user_tz": 420
        },
        "id": "yA8-xkyXOfH8",
        "outputId": "045b37a1-9894-4272-e94a-f6331af139dc"
      },
      "outputs": [
        {
          "data": {
            "text/html": [
              "\u003cdiv\u003e\n",
              "\u003cstyle scoped\u003e\n",
              "    .dataframe tbody tr th:only-of-type {\n",
              "        vertical-align: middle;\n",
              "    }\n",
              "\n",
              "    .dataframe tbody tr th {\n",
              "        vertical-align: top;\n",
              "    }\n",
              "\n",
              "    .dataframe thead tr th {\n",
              "        text-align: left;\n",
              "    }\n",
              "\u003c/style\u003e\n",
              "\u003ctable border=\"1\" class=\"dataframe\"\u003e\n",
              "  \u003cthead\u003e\n",
              "    \u003ctr\u003e\n",
              "      \u003cth\u003eMetric\u003c/th\u003e\n",
              "      \u003cth colspan=\"3\" halign=\"left\"\u003esum(clicks)\u003c/th\u003e\n",
              "      \u003cth colspan=\"3\" halign=\"left\"\u003esum(impressions)\u003c/th\u003e\n",
              "    \u003c/tr\u003e\n",
              "    \u003ctr\u003e\n",
              "      \u003cth\u003e\u003c/th\u003e\n",
              "      \u003cth\u003eValue\u003c/th\u003e\n",
              "      \u003cth\u003eJackknife CI-lower\u003c/th\u003e\n",
              "      \u003cth\u003eJackknife CI-upper\u003c/th\u003e\n",
              "      \u003cth\u003eValue\u003c/th\u003e\n",
              "      \u003cth\u003eJackknife CI-lower\u003c/th\u003e\n",
              "      \u003cth\u003eJackknife CI-upper\u003c/th\u003e\n",
              "    \u003c/tr\u003e\n",
              "  \u003c/thead\u003e\n",
              "  \u003ctbody\u003e\n",
              "    \u003ctr\u003e\n",
              "      \u003cth\u003e0\u003c/th\u003e\n",
              "      \u003ctd\u003e1099.946824\u003c/td\u003e\n",
              "      \u003ctd\u003e1053.078686\u003c/td\u003e\n",
              "      \u003ctd\u003e1146.814962\u003c/td\u003e\n",
              "      \u003ctd\u003e22143.0\u003c/td\u003e\n",
              "      \u003ctd\u003e20508.829989\u003c/td\u003e\n",
              "      \u003ctd\u003e23777.170011\u003c/td\u003e\n",
              "    \u003c/tr\u003e\n",
              "  \u003c/tbody\u003e\n",
              "\u003c/table\u003e\n",
              "\u003c/div\u003e"
            ],
            "text/plain": [
              "Metric  sum(clicks)                     ...   sum(impressions)                   \n",
              "              Value Jackknife CI-lower  ... Jackknife CI-lower Jackknife CI-upper\n",
              "0       1099.946824        1053.078686  ...       20508.829989       23777.170011\n",
              "\n",
              "[1 rows x 6 columns]"
            ]
          },
          "execution_count": 125,
          "metadata": {
            "tags": []
          },
          "output_type": "execute_result"
        }
      ],
      "source": [
        "Jackknife('cookie', metrics, 0.9).compute_on(df)"
      ]
    },
    {
      "cell_type": "code",
      "execution_count": null,
      "metadata": {
        "colab": {
          "height": 349
        },
        "executionInfo": {
          "elapsed": 699,
          "status": "ok",
          "timestamp": 1603245233872,
          "user": {
            "displayName": "",
            "photoUrl": "",
            "userId": ""
          },
          "user_tz": 420
        },
        "id": "53NI01DoqyDe",
        "outputId": "2141ad51-672e-4bef-800f-7e1b703ea394"
      },
      "outputs": [
        {
          "data": {
            "text/html": [
              "\u003cstyle\u003e\n",
              "  /* Make the table scrollable */\n",
              "  #meterstick-container {\n",
              "    max-height: 700px;\n",
              "    overflow-y: auto;\n",
              "  }\n",
              "\n",
              "  #meterstick td {\n",
              "    border-color: lightgrey;\n",
              "    border-style: solid;\n",
              "    border-width: thin;\n",
              "    text-align: center;\n",
              "    padding: 0;\n",
              "  }\n",
              "\n",
              "  /* When scrolling, the header sticks and keeps its white background */\n",
              "  #meterstick th {\n",
              "    background: white;\n",
              "    border-color: lightgrey;\n",
              "    border-bottom-color: black;\n",
              "    border-style: solid;\n",
              "    border-width: thin;\n",
              "    border-top-width: 0;\n",
              "    position: sticky;\n",
              "    top: 0;\n",
              "  }\n",
              "\n",
              "  /* Wrap the long column name. */\n",
              "  th {\n",
              "    max-width: 120px;\n",
              "    white-space: normal !important;\n",
              "    word-wrap: break-word;\n",
              "  }\n",
              "\n",
              "  .ci-display-cell {\n",
              "    height: 100%;\n",
              "    padding: 5px;\n",
              "  }\n",
              "\n",
              "  /* Formats Dimension column if there is one. */\n",
              "  .ci-display-dimension {\n",
              "    color: green;\n",
              "    padding: 2px;\n",
              "  }\n",
              "\n",
              "  /* Renders the experiment id in blue. */\n",
              "  .ci-display-experiment-id {\n",
              "    color: #15c;\n",
              "  }\n",
              "\n",
              "  /* Break line in a flex display. */\n",
              "  .ci-display-flex-line-break {\n",
              "    width: 100%;\n",
              "  }\n",
              "\n",
              "  /* Renders the cells with positive confidence interval to green. */\n",
              "  .ci-display-good-change {\n",
              "    background-color: rgb(221,255,187);\n",
              "    color: green;\n",
              "  }\n",
              "\n",
              "  /* Renders the cells with negative confidence interval to red. */\n",
              "  .ci-display-bad-change {\n",
              "    background-color: rgb(255,221,187);\n",
              "    color: red;\n",
              "  }\n",
              "\n",
              "  .ci-display-ratio {\n",
              "    font-size: 120%; /* Renders the ratio value in larger font. */\n",
              "  }\n",
              "\n",
              "  .ci-display-ci-range {\n",
              "    white-space: nowrap;  /* Don't break line in the middle of CI range. */\n",
              "  }\n",
              "\u003c/style\u003e\u003cdiv id=\"meterstick-container\"\u003e\u003ctable border=\"1\" class=\"dataframe\" id=\"meterstick\"\u003e\n",
              "  \u003cthead\u003e\n",
              "    \u003ctr style=\"text-align: center;\"\u003e\n",
              "      \u003cth\u003eDimensions\u003c/th\u003e\n",
              "      \u003cth\u003ectr\u003c/th\u003e\n",
              "      \u003cth\u003esum(clicks)\u003c/th\u003e\n",
              "    \u003c/tr\u003e\n",
              "  \u003c/thead\u003e\n",
              "  \u003ctbody\u003e\n",
              "    \u003ctr\u003e\n",
              "      \u003ctd\u003e\u003cdiv\u003e\u003cdiv\u003e\u003cspan class=\"ci-display-experiment-id\"\u003eUS\u003c/span\u003e\u003cdiv class=\"ci-display-flex-line-break\"\u003e\u003c/div\u003e\u003cspan class=\"ci-display-dimension\"\u003eDesktop\u003c/span\u003e\u003c/div\u003e\u003c/div\u003e\u003c/td\u003e\n",
              "      \u003ctd\u003e\u003cdiv class=\"ci-display-cell\"\u003e0.0250\u003c/div\u003e\u003c/td\u003e\n",
              "      \u003ctd\u003e\u003cdiv class=\"ci-display-cell\"\u003e256.8647\u003c/div\u003e\u003c/td\u003e\n",
              "    \u003c/tr\u003e\n",
              "    \u003ctr\u003e\n",
              "      \u003ctd\u003e\u003cdiv\u003e\u003cdiv\u003e\u003cspan class=\"ci-display-experiment-id\"\u003enon-US\u003c/span\u003e\u003cdiv class=\"ci-display-flex-line-break\"\u003e\u003c/div\u003e\u003cspan class=\"ci-display-dimension\"\u003eDesktop\u003c/span\u003e\u003c/div\u003e\u003c/div\u003e\u003c/td\u003e\n",
              "      \u003ctd\u003e\u003cdiv class=\"ci-display-good-change ci-display-cell\"\u003e\u003cdiv\u003e0.0477\u003cdiv class=\"ci-display-flex-line-break\"\u003e\u003c/div\u003e\u003cspan class=\"ci-display-ratio\"\u003e90.44%\u003c/span\u003e\u003cdiv class=\"ci-display-flex-line-break\"\u003e\u003c/div\u003e\u003cspan class=\"ci-display-ci-range\"\u003e[65.99, 114.89] %\u003c/span\u003e\u003c/div\u003e\u003c/div\u003e\u003c/td\u003e\n",
              "      \u003ctd\u003e\u003cdiv class=\"ci-display-bad-change ci-display-cell\"\u003e\u003cdiv\u003e112.9478\u003cdiv class=\"ci-display-flex-line-break\"\u003e\u003c/div\u003e\u003cspan class=\"ci-display-ratio\"\u003e-56.03%\u003c/span\u003e\u003cdiv class=\"ci-display-flex-line-break\"\u003e\u003c/div\u003e\u003cspan class=\"ci-display-ci-range\"\u003e[-66.78, -45.28] %\u003c/span\u003e\u003c/div\u003e\u003c/div\u003e\u003c/td\u003e\n",
              "    \u003c/tr\u003e\n",
              "    \u003ctr\u003e\n",
              "      \u003ctd\u003e\u003cdiv\u003e\u003cdiv\u003e\u003cspan class=\"ci-display-experiment-id\"\u003eUS\u003c/span\u003e\u003cdiv class=\"ci-display-flex-line-break\"\u003e\u003c/div\u003e\u003cspan class=\"ci-display-dimension\"\u003eMobile\u003c/span\u003e\u003c/div\u003e\u003c/div\u003e\u003c/td\u003e\n",
              "      \u003ctd\u003e\u003cdiv class=\"ci-display-cell\"\u003e0.0994\u003c/div\u003e\u003c/td\u003e\n",
              "      \u003ctd\u003e\u003cdiv class=\"ci-display-cell\"\u003e224.5419\u003c/div\u003e\u003c/td\u003e\n",
              "    \u003c/tr\u003e\n",
              "    \u003ctr\u003e\n",
              "      \u003ctd\u003e\u003cdiv\u003e\u003cdiv\u003e\u003cspan class=\"ci-display-experiment-id\"\u003enon-US\u003c/span\u003e\u003cdiv class=\"ci-display-flex-line-break\"\u003e\u003c/div\u003e\u003cspan class=\"ci-display-dimension\"\u003eMobile\u003c/span\u003e\u003c/div\u003e\u003c/div\u003e\u003c/td\u003e\n",
              "      \u003ctd\u003e\u003cdiv class=\"ci-display-bad-change ci-display-cell\"\u003e\u003cdiv\u003e0.0513\u003cdiv class=\"ci-display-flex-line-break\"\u003e\u003c/div\u003e\u003cspan class=\"ci-display-ratio\"\u003e-48.37%\u003c/span\u003e\u003cdiv class=\"ci-display-flex-line-break\"\u003e\u003c/div\u003e\u003cspan class=\"ci-display-ci-range\"\u003e[-54.73, -42.02] %\u003c/span\u003e\u003c/div\u003e\u003c/div\u003e\u003c/td\u003e\n",
              "      \u003ctd\u003e\u003cdiv class=\"ci-display-bad-change ci-display-cell\"\u003e\u003cdiv\u003e122.1347\u003cdiv class=\"ci-display-flex-line-break\"\u003e\u003c/div\u003e\u003cspan class=\"ci-display-ratio\"\u003e-45.61%\u003c/span\u003e\u003cdiv class=\"ci-display-flex-line-break\"\u003e\u003c/div\u003e\u003cspan class=\"ci-display-ci-range\"\u003e[-57.18, -34.04] %\u003c/span\u003e\u003c/div\u003e\u003c/div\u003e\u003c/td\u003e\n",
              "    \u003c/tr\u003e\n",
              "    \u003ctr\u003e\n",
              "      \u003ctd\u003e\u003cdiv\u003e\u003cdiv\u003e\u003cspan class=\"ci-display-experiment-id\"\u003eUS\u003c/span\u003e\u003cdiv class=\"ci-display-flex-line-break\"\u003e\u003c/div\u003e\u003cspan class=\"ci-display-dimension\"\u003eTablet\u003c/span\u003e\u003c/div\u003e\u003c/div\u003e\u003c/td\u003e\n",
              "      \u003ctd\u003e\u003cdiv class=\"ci-display-cell\"\u003e0.1045\u003c/div\u003e\u003c/td\u003e\n",
              "      \u003ctd\u003e\u003cdiv class=\"ci-display-cell\"\u003e270.3845\u003c/div\u003e\u003c/td\u003e\n",
              "    \u003c/tr\u003e\n",
              "    \u003ctr\u003e\n",
              "      \u003ctd\u003e\u003cdiv\u003e\u003cdiv\u003e\u003cspan class=\"ci-display-experiment-id\"\u003enon-US\u003c/span\u003e\u003cdiv class=\"ci-display-flex-line-break\"\u003e\u003c/div\u003e\u003cspan class=\"ci-display-dimension\"\u003eTablet\u003c/span\u003e\u003c/div\u003e\u003c/div\u003e\u003c/td\u003e\n",
              "      \u003ctd\u003e\u003cdiv class=\"ci-display-bad-change ci-display-cell\"\u003e\u003cdiv\u003e0.0495\u003cdiv class=\"ci-display-flex-line-break\"\u003e\u003c/div\u003e\u003cspan class=\"ci-display-ratio\"\u003e-52.67%\u003c/span\u003e\u003cdiv class=\"ci-display-flex-line-break\"\u003e\u003c/div\u003e\u003cspan class=\"ci-display-ci-range\"\u003e[-55.69, -49.66] %\u003c/span\u003e\u003c/div\u003e\u003c/div\u003e\u003c/td\u003e\n",
              "      \u003ctd\u003e\u003cdiv class=\"ci-display-bad-change ci-display-cell\"\u003e\u003cdiv\u003e113.0732\u003cdiv class=\"ci-display-flex-line-break\"\u003e\u003c/div\u003e\u003cspan class=\"ci-display-ratio\"\u003e-58.18%\u003c/span\u003e\u003cdiv class=\"ci-display-flex-line-break\"\u003e\u003c/div\u003e\u003cspan class=\"ci-display-ci-range\"\u003e[-66.53, -49.83] %\u003c/span\u003e\u003c/div\u003e\u003c/div\u003e\u003c/td\u003e\n",
              "    \u003c/tr\u003e\n",
              "  \u003c/tbody\u003e\n",
              "\u003c/table\u003e\u003c/div\u003e"
            ],
            "text/plain": [
              "\u003cIPython.core.display.HTML at 0x7f898e336048\u003e"
            ]
          },
          "metadata": {
            "tags": []
          },
          "output_type": "display_data"
        }
      ],
      "source": [
        "#@test {\"skip\": true}\n",
        "res = (\n",
        "    MetricList((Ratio('clicks', 'impressions', 'ctr'), Sum('clicks')))\n",
        "    | PercentChange('country', 'US')\n",
        "    | Jackknife('cookie', confidence=0.9)\n",
        "    | compute_on(df, 'platform'))\n",
        "res.display()"
      ]
    },
    {
      "cell_type": "markdown",
      "metadata": {
        "id": "QzG196CeUxQP"
      },
      "source": [
        "###Bootstrap\n",
        "The output is similar to Jackknife. The different args are\n",
        "  - unit: If None, we bootstrap on rows. Otherwise we do a [block bootstrap](https://en.wikipedia.org/wiki/Bootstrapping_(statistics)#Block_bootstrap). The unique values in unit column will be used as the resampling buckets.\n",
        "  - n_replicates: The number of resamples. Default to 10000, which is recommended in Tim Hesterberg's [What Teachers Should Know About the Bootstrap](https://amstat.tandfonline.com/doi/full/10.1080/00031305.2015.1089789). Here we use a smaller number for faster demonstration."
      ]
    },
    {
      "cell_type": "code",
      "execution_count": null,
      "metadata": {
        "colab": {
          "height": 111
        },
        "executionInfo": {
          "elapsed": 1141,
          "status": "ok",
          "timestamp": 1595024950827,
          "user": {
            "displayName": "",
            "photoUrl": "",
            "userId": ""
          },
          "user_tz": 420
        },
        "id": "9zdiyrk-SoGl",
        "outputId": "34bf82c2-983d-42fa-f4df-bd921195b5ce"
      },
      "outputs": [
        {
          "data": {
            "text/html": [
              "\u003cdiv\u003e\n",
              "\u003cstyle scoped\u003e\n",
              "    .dataframe tbody tr th:only-of-type {\n",
              "        vertical-align: middle;\n",
              "    }\n",
              "\n",
              "    .dataframe tbody tr th {\n",
              "        vertical-align: top;\n",
              "    }\n",
              "\n",
              "    .dataframe thead tr th {\n",
              "        text-align: left;\n",
              "    }\n",
              "\u003c/style\u003e\n",
              "\u003ctable border=\"1\" class=\"dataframe\"\u003e\n",
              "  \u003cthead\u003e\n",
              "    \u003ctr\u003e\n",
              "      \u003cth\u003eMetric\u003c/th\u003e\n",
              "      \u003cth colspan=\"2\" halign=\"left\"\u003esum(clicks)\u003c/th\u003e\n",
              "    \u003c/tr\u003e\n",
              "    \u003ctr\u003e\n",
              "      \u003cth\u003e\u003c/th\u003e\n",
              "      \u003cth\u003eValue\u003c/th\u003e\n",
              "      \u003cth\u003eBootstrap SE\u003c/th\u003e\n",
              "    \u003c/tr\u003e\n",
              "  \u003c/thead\u003e\n",
              "  \u003ctbody\u003e\n",
              "    \u003ctr\u003e\n",
              "      \u003cth\u003e0\u003c/th\u003e\n",
              "      \u003ctd\u003e1099.946824\u003c/td\u003e\n",
              "      \u003ctd\u003e25.179947\u003c/td\u003e\n",
              "    \u003c/tr\u003e\n",
              "  \u003c/tbody\u003e\n",
              "\u003c/table\u003e\n",
              "\u003c/div\u003e"
            ],
            "text/plain": [
              "Metric  sum(clicks)             \n",
              "              Value Bootstrap SE\n",
              "0       1099.946824    25.179947"
            ]
          },
          "execution_count": 12,
          "metadata": {
            "tags": []
          },
          "output_type": "execute_result"
        }
      ],
      "source": [
        "np.random.seed(42)\n",
        "Bootstrap(None, Sum('clicks'), 100).compute_on(df)"
      ]
    },
    {
      "cell_type": "code",
      "execution_count": null,
      "metadata": {
        "colab": {
          "height": 173
        },
        "executionInfo": {
          "elapsed": 2537,
          "status": "ok",
          "timestamp": 1595024957016,
          "user": {
            "displayName": "",
            "photoUrl": "",
            "userId": ""
          },
          "user_tz": 420
        },
        "id": "jUoTT2dNV-m9",
        "outputId": "464018ac-5a9e-4e75-d6c0-7f10ba579b97"
      },
      "outputs": [
        {
          "data": {
            "text/html": [
              "\u003cdiv\u003e\n",
              "\u003cstyle scoped\u003e\n",
              "    .dataframe tbody tr th:only-of-type {\n",
              "        vertical-align: middle;\n",
              "    }\n",
              "\n",
              "    .dataframe tbody tr th {\n",
              "        vertical-align: top;\n",
              "    }\n",
              "\n",
              "    .dataframe thead tr th {\n",
              "        text-align: left;\n",
              "    }\n",
              "\n",
              "    .dataframe thead tr:last-of-type th {\n",
              "        text-align: right;\n",
              "    }\n",
              "\u003c/style\u003e\n",
              "\u003ctable border=\"1\" class=\"dataframe\"\u003e\n",
              "  \u003cthead\u003e\n",
              "    \u003ctr\u003e\n",
              "      \u003cth\u003eMetric\u003c/th\u003e\n",
              "      \u003cth colspan=\"2\" halign=\"left\"\u003esum(clicks)\u003c/th\u003e\n",
              "    \u003c/tr\u003e\n",
              "    \u003ctr\u003e\n",
              "      \u003cth\u003e\u003c/th\u003e\n",
              "      \u003cth\u003eValue\u003c/th\u003e\n",
              "      \u003cth\u003eBootstrap SE\u003c/th\u003e\n",
              "    \u003c/tr\u003e\n",
              "    \u003ctr\u003e\n",
              "      \u003cth\u003ecountry\u003c/th\u003e\n",
              "      \u003cth\u003e\u003c/th\u003e\n",
              "      \u003cth\u003e\u003c/th\u003e\n",
              "    \u003c/tr\u003e\n",
              "  \u003c/thead\u003e\n",
              "  \u003ctbody\u003e\n",
              "    \u003ctr\u003e\n",
              "      \u003cth\u003eUS\u003c/th\u003e\n",
              "      \u003ctd\u003e751.791138\u003c/td\u003e\n",
              "      \u003ctd\u003e20.654248\u003c/td\u003e\n",
              "    \u003c/tr\u003e\n",
              "    \u003ctr\u003e\n",
              "      \u003cth\u003enon-US\u003c/th\u003e\n",
              "      \u003ctd\u003e348.155686\u003c/td\u003e\n",
              "      \u003ctd\u003e9.125855\u003c/td\u003e\n",
              "    \u003c/tr\u003e\n",
              "  \u003c/tbody\u003e\n",
              "\u003c/table\u003e\n",
              "\u003c/div\u003e"
            ],
            "text/plain": [
              "Metric  sum(clicks)             \n",
              "              Value Bootstrap SE\n",
              "country                         \n",
              "US       751.791138    20.654248\n",
              "non-US   348.155686     9.125855"
            ]
          },
          "execution_count": 13,
          "metadata": {
            "tags": []
          },
          "output_type": "execute_result"
        }
      ],
      "source": [
        "np.random.seed(42)\n",
        "Bootstrap('cookie', Sum('clicks'), 100).compute_on(df, 'country')"
      ]
    },
    {
      "cell_type": "code",
      "execution_count": null,
      "metadata": {
        "colab": {
          "height": 173
        },
        "executionInfo": {
          "elapsed": 2034,
          "status": "ok",
          "timestamp": 1594365718636,
          "user": {
            "displayName": "",
            "photoUrl": "",
            "userId": ""
          },
          "user_tz": 420
        },
        "id": "Bm5c-nM1WZ1M",
        "outputId": "21c29fe3-6428-4dcd-e332-4fea902392b3"
      },
      "outputs": [
        {
          "data": {
            "text/html": [
              "\u003cdiv\u003e\n",
              "\u003cstyle scoped\u003e\n",
              "    .dataframe tbody tr th:only-of-type {\n",
              "        vertical-align: middle;\n",
              "    }\n",
              "\n",
              "    .dataframe tbody tr th {\n",
              "        vertical-align: top;\n",
              "    }\n",
              "\n",
              "    .dataframe thead tr th {\n",
              "        text-align: left;\n",
              "    }\n",
              "\n",
              "    .dataframe thead tr:last-of-type th {\n",
              "        text-align: right;\n",
              "    }\n",
              "\u003c/style\u003e\n",
              "\u003ctable border=\"1\" class=\"dataframe\"\u003e\n",
              "  \u003cthead\u003e\n",
              "    \u003ctr\u003e\n",
              "      \u003cth\u003eMetric\u003c/th\u003e\n",
              "      \u003cth colspan=\"3\" halign=\"left\"\u003esum(clicks)\u003c/th\u003e\n",
              "    \u003c/tr\u003e\n",
              "    \u003ctr\u003e\n",
              "      \u003cth\u003e\u003c/th\u003e\n",
              "      \u003cth\u003eValue\u003c/th\u003e\n",
              "      \u003cth\u003eBootstrap CI-lower\u003c/th\u003e\n",
              "      \u003cth\u003eBootstrap CI-upper\u003c/th\u003e\n",
              "    \u003c/tr\u003e\n",
              "    \u003ctr\u003e\n",
              "      \u003cth\u003ecountry\u003c/th\u003e\n",
              "      \u003cth\u003e\u003c/th\u003e\n",
              "      \u003cth\u003e\u003c/th\u003e\n",
              "      \u003cth\u003e\u003c/th\u003e\n",
              "    \u003c/tr\u003e\n",
              "  \u003c/thead\u003e\n",
              "  \u003ctbody\u003e\n",
              "    \u003ctr\u003e\n",
              "      \u003cth\u003eUS\u003c/th\u003e\n",
              "      \u003ctd\u003e751.791138\u003c/td\u003e\n",
              "      \u003ctd\u003e710.80863\u003c/td\u003e\n",
              "      \u003ctd\u003e792.773646\u003c/td\u003e\n",
              "    \u003c/tr\u003e\n",
              "    \u003ctr\u003e\n",
              "      \u003cth\u003enon-US\u003c/th\u003e\n",
              "      \u003ctd\u003e348.155686\u003c/td\u003e\n",
              "      \u003ctd\u003e330.04801\u003c/td\u003e\n",
              "      \u003ctd\u003e366.263362\u003c/td\u003e\n",
              "    \u003c/tr\u003e\n",
              "  \u003c/tbody\u003e\n",
              "\u003c/table\u003e\n",
              "\u003c/div\u003e"
            ],
            "text/plain": [
              "Metric  sum(clicks)                                      \n",
              "              Value Bootstrap CI-lower Bootstrap CI-upper\n",
              "country                                                  \n",
              "US       751.791138         710.80863         792.773646\n",
              "non-US   348.155686         330.04801         366.263362"
            ]
          },
          "execution_count": 61,
          "metadata": {
            "tags": []
          },
          "output_type": "execute_result"
        }
      ],
      "source": [
        "np.random.seed(42)\n",
        "Bootstrap('cookie', Sum('clicks'), 100, 0.95).compute_on(df, 'country')"
      ]
    },
    {
      "cell_type": "code",
      "execution_count": null,
      "metadata": {
        "colab": {
          "height": 349
        },
        "executionInfo": {
          "elapsed": 5167,
          "status": "ok",
          "timestamp": 1603245244409,
          "user": {
            "displayName": "",
            "photoUrl": "",
            "userId": ""
          },
          "user_tz": 420
        },
        "id": "uKBRJlBBqskw",
        "outputId": "6b850c3e-be8b-4a27-89fc-1040813e5cf0"
      },
      "outputs": [
        {
          "data": {
            "text/html": [
              "\u003cstyle\u003e\n",
              "  /* Make the table scrollable */\n",
              "  #meterstick-container {\n",
              "    max-height: 700px;\n",
              "    overflow-y: auto;\n",
              "  }\n",
              "\n",
              "  #meterstick td {\n",
              "    border-color: lightgrey;\n",
              "    border-style: solid;\n",
              "    border-width: thin;\n",
              "    text-align: center;\n",
              "    padding: 0;\n",
              "  }\n",
              "\n",
              "  /* When scrolling, the header sticks and keeps its white background */\n",
              "  #meterstick th {\n",
              "    background: white;\n",
              "    border-color: lightgrey;\n",
              "    border-bottom-color: black;\n",
              "    border-style: solid;\n",
              "    border-width: thin;\n",
              "    border-top-width: 0;\n",
              "    position: sticky;\n",
              "    top: 0;\n",
              "  }\n",
              "\n",
              "  /* Wrap the long column name. */\n",
              "  th {\n",
              "    max-width: 120px;\n",
              "    white-space: normal !important;\n",
              "    word-wrap: break-word;\n",
              "  }\n",
              "\n",
              "  .ci-display-cell {\n",
              "    height: 100%;\n",
              "    padding: 5px;\n",
              "  }\n",
              "\n",
              "  /* Formats Dimension column if there is one. */\n",
              "  .ci-display-dimension {\n",
              "    color: green;\n",
              "    padding: 2px;\n",
              "  }\n",
              "\n",
              "  /* Renders the experiment id in blue. */\n",
              "  .ci-display-experiment-id {\n",
              "    color: #15c;\n",
              "  }\n",
              "\n",
              "  /* Break line in a flex display. */\n",
              "  .ci-display-flex-line-break {\n",
              "    width: 100%;\n",
              "  }\n",
              "\n",
              "  /* Renders the cells with positive confidence interval to green. */\n",
              "  .ci-display-good-change {\n",
              "    background-color: rgb(221,255,187);\n",
              "    color: green;\n",
              "  }\n",
              "\n",
              "  /* Renders the cells with negative confidence interval to red. */\n",
              "  .ci-display-bad-change {\n",
              "    background-color: rgb(255,221,187);\n",
              "    color: red;\n",
              "  }\n",
              "\n",
              "  .ci-display-ratio {\n",
              "    font-size: 120%; /* Renders the ratio value in larger font. */\n",
              "  }\n",
              "\n",
              "  .ci-display-ci-range {\n",
              "    white-space: nowrap;  /* Don't break line in the middle of CI range. */\n",
              "  }\n",
              "\u003c/style\u003e\u003cdiv id=\"meterstick-container\"\u003e\u003ctable border=\"1\" class=\"dataframe\" id=\"meterstick\"\u003e\n",
              "  \u003cthead\u003e\n",
              "    \u003ctr style=\"text-align: center;\"\u003e\n",
              "      \u003cth\u003eDimensions\u003c/th\u003e\n",
              "      \u003cth\u003ectr\u003c/th\u003e\n",
              "      \u003cth\u003esum(impressions)\u003c/th\u003e\n",
              "    \u003c/tr\u003e\n",
              "  \u003c/thead\u003e\n",
              "  \u003ctbody\u003e\n",
              "    \u003ctr\u003e\n",
              "      \u003ctd\u003e\u003cdiv\u003e\u003cdiv\u003e\u003cspan class=\"ci-display-experiment-id\"\u003eUS\u003c/span\u003e\u003cdiv class=\"ci-display-flex-line-break\"\u003e\u003c/div\u003e\u003cspan class=\"ci-display-dimension\"\u003eDesktop\u003c/span\u003e\u003c/div\u003e\u003c/div\u003e\u003c/td\u003e\n",
              "      \u003ctd\u003e\u003cdiv class=\"ci-display-cell\"\u003e0.0250\u003c/div\u003e\u003c/td\u003e\n",
              "      \u003ctd\u003e\u003cdiv class=\"ci-display-cell\"\u003e10260.0000\u003c/div\u003e\u003c/td\u003e\n",
              "    \u003c/tr\u003e\n",
              "    \u003ctr\u003e\n",
              "      \u003ctd\u003e\u003cdiv\u003e\u003cdiv\u003e\u003cspan class=\"ci-display-experiment-id\"\u003enon-US\u003c/span\u003e\u003cdiv class=\"ci-display-flex-line-break\"\u003e\u003c/div\u003e\u003cspan class=\"ci-display-dimension\"\u003eDesktop\u003c/span\u003e\u003c/div\u003e\u003c/div\u003e\u003c/td\u003e\n",
              "      \u003ctd\u003e\u003cdiv class=\"ci-display-good-change ci-display-cell\"\u003e\u003cdiv\u003e0.0477\u003cdiv class=\"ci-display-flex-line-break\"\u003e\u003c/div\u003e\u003cspan class=\"ci-display-ratio\"\u003e0.0226\u003c/span\u003e\u003cdiv class=\"ci-display-flex-line-break\"\u003e\u003c/div\u003e\u003cspan class=\"ci-display-ci-range\"\u003e[0.0186, 0.0267]\u003c/span\u003e\u003c/div\u003e\u003c/div\u003e\u003c/td\u003e\n",
              "      \u003ctd\u003e\u003cdiv class=\"ci-display-bad-change ci-display-cell\"\u003e\u003cdiv\u003e2369.0000\u003cdiv class=\"ci-display-flex-line-break\"\u003e\u003c/div\u003e\u003cspan class=\"ci-display-ratio\"\u003e-7891.0000\u003c/span\u003e\u003cdiv class=\"ci-display-flex-line-break\"\u003e\u003c/div\u003e\u003cspan class=\"ci-display-ci-range\"\u003e[-9085.7312, -6696.2688]\u003c/span\u003e\u003c/div\u003e\u003c/div\u003e\u003c/td\u003e\n",
              "    \u003c/tr\u003e\n",
              "    \u003ctr\u003e\n",
              "      \u003ctd\u003e\u003cdiv\u003e\u003cdiv\u003e\u003cspan class=\"ci-display-experiment-id\"\u003eUS\u003c/span\u003e\u003cdiv class=\"ci-display-flex-line-break\"\u003e\u003c/div\u003e\u003cspan class=\"ci-display-dimension\"\u003eMobile\u003c/span\u003e\u003c/div\u003e\u003c/div\u003e\u003c/td\u003e\n",
              "      \u003ctd\u003e\u003cdiv class=\"ci-display-cell\"\u003e0.0994\u003c/div\u003e\u003c/td\u003e\n",
              "      \u003ctd\u003e\u003cdiv class=\"ci-display-cell\"\u003e2260.0000\u003c/div\u003e\u003c/td\u003e\n",
              "    \u003c/tr\u003e\n",
              "    \u003ctr\u003e\n",
              "      \u003ctd\u003e\u003cdiv\u003e\u003cdiv\u003e\u003cspan class=\"ci-display-experiment-id\"\u003enon-US\u003c/span\u003e\u003cdiv class=\"ci-display-flex-line-break\"\u003e\u003c/div\u003e\u003cspan class=\"ci-display-dimension\"\u003eMobile\u003c/span\u003e\u003c/div\u003e\u003c/div\u003e\u003c/td\u003e\n",
              "      \u003ctd\u003e\u003cdiv class=\"ci-display-bad-change ci-display-cell\"\u003e\u003cdiv\u003e0.0513\u003cdiv class=\"ci-display-flex-line-break\"\u003e\u003c/div\u003e\u003cspan class=\"ci-display-ratio\"\u003e-0.0481\u003c/span\u003e\u003cdiv class=\"ci-display-flex-line-break\"\u003e\u003c/div\u003e\u003cspan class=\"ci-display-ci-range\"\u003e[-0.0587, -0.0374]\u003c/span\u003e\u003c/div\u003e\u003c/div\u003e\u003c/td\u003e\n",
              "      \u003ctd\u003e\u003cdiv class=\"ci-display-cell\"\u003e\u003cdiv\u003e2381.0000\u003cdiv class=\"ci-display-flex-line-break\"\u003e\u003c/div\u003e\u003cspan class=\"ci-display-ratio\"\u003e121.0000\u003c/span\u003e\u003cdiv class=\"ci-display-flex-line-break\"\u003e\u003c/div\u003e\u003cspan class=\"ci-display-ci-range\"\u003e[-340.2922, 582.2922]\u003c/span\u003e\u003c/div\u003e\u003c/div\u003e\u003c/td\u003e\n",
              "    \u003c/tr\u003e\n",
              "    \u003ctr\u003e\n",
              "      \u003ctd\u003e\u003cdiv\u003e\u003cdiv\u003e\u003cspan class=\"ci-display-experiment-id\"\u003eUS\u003c/span\u003e\u003cdiv class=\"ci-display-flex-line-break\"\u003e\u003c/div\u003e\u003cspan class=\"ci-display-dimension\"\u003eTablet\u003c/span\u003e\u003c/div\u003e\u003c/div\u003e\u003c/td\u003e\n",
              "      \u003ctd\u003e\u003cdiv class=\"ci-display-cell\"\u003e0.1045\u003c/div\u003e\u003c/td\u003e\n",
              "      \u003ctd\u003e\u003cdiv class=\"ci-display-cell\"\u003e2587.0000\u003c/div\u003e\u003c/td\u003e\n",
              "    \u003c/tr\u003e\n",
              "    \u003ctr\u003e\n",
              "      \u003ctd\u003e\u003cdiv\u003e\u003cdiv\u003e\u003cspan class=\"ci-display-experiment-id\"\u003enon-US\u003c/span\u003e\u003cdiv class=\"ci-display-flex-line-break\"\u003e\u003c/div\u003e\u003cspan class=\"ci-display-dimension\"\u003eTablet\u003c/span\u003e\u003c/div\u003e\u003c/div\u003e\u003c/td\u003e\n",
              "      \u003ctd\u003e\u003cdiv class=\"ci-display-bad-change ci-display-cell\"\u003e\u003cdiv\u003e0.0495\u003cdiv class=\"ci-display-flex-line-break\"\u003e\u003c/div\u003e\u003cspan class=\"ci-display-ratio\"\u003e-0.0551\u003c/span\u003e\u003cdiv class=\"ci-display-flex-line-break\"\u003e\u003c/div\u003e\u003cspan class=\"ci-display-ci-range\"\u003e[-0.0628, -0.0473]\u003c/span\u003e\u003c/div\u003e\u003c/div\u003e\u003c/td\u003e\n",
              "      \u003ctd\u003e\u003cdiv class=\"ci-display-cell\"\u003e\u003cdiv\u003e2286.0000\u003cdiv class=\"ci-display-flex-line-break\"\u003e\u003c/div\u003e\u003cspan class=\"ci-display-ratio\"\u003e-301.0000\u003c/span\u003e\u003cdiv class=\"ci-display-flex-line-break\"\u003e\u003c/div\u003e\u003cspan class=\"ci-display-ci-range\"\u003e[-770.0108, 168.0108]\u003c/span\u003e\u003c/div\u003e\u003c/div\u003e\u003c/td\u003e\n",
              "    \u003c/tr\u003e\n",
              "  \u003c/tbody\u003e\n",
              "\u003c/table\u003e\u003c/div\u003e"
            ],
            "text/plain": [
              "\u003cIPython.core.display.HTML at 0x7f8a0e9947b8\u003e"
            ]
          },
          "metadata": {
            "tags": []
          },
          "output_type": "display_data"
        }
      ],
      "source": [
        "#@test {\"skip\": true}\n",
        "np.random.seed(42)\n",
        "res = (\n",
        "    MetricList((Ratio('clicks', 'impressions', 'ctr'), Sum('impressions')))\n",
        "    | AbsoluteChange('country', 'US')\n",
        "    | Bootstrap(None, n_replicates=100, confidence=0.9)\n",
        "    | compute_on(df, 'platform'))\n",
        "res.display()"
      ]
    },
    {
      "cell_type": "markdown",
      "metadata": {
        "id": "H-bQTkuaYHNb"
      },
      "source": [
        "#Pipeline\n",
        "You have already seen this. Instead of\n",
        "\n",
        "    Jackknife(PercentChange(MetricList(...))).compute_on(df)\n",
        "you can write\n",
        "\n",
        "    MetricList(...) | PercentChange() | Jackknife() | compute_on(df)\n",
        "\n",
        "which is more intuitive. We overwrite the \"|\" operator on Metric and the \\_\\_call\\_\\_() of Operation so a Metric can be pipelined to an Operation. As Operation is a special kind of Metric, so it can bu further pipelined to another Operation. At last, compute_on() takes a Metric from the pipeline and is equavalent to calling metric.compute_on()."
      ]
    },
    {
      "cell_type": "markdown",
      "metadata": {
        "id": "d-OgV6EFCv-7"
      },
      "source": [
        "#Filter\n",
        "\n",
        "There is a \"where\" arg for Metric. It'll be passed to df.query() at the beginning of compute_on(df). By default the filter is not reflected in the name of Metric so same Metrics with different filters would have same column names in the returned DataFrames. It makes combining them easy."
      ]
    },
    {
      "cell_type": "code",
      "execution_count": null,
      "metadata": {
        "colab": {
          "height": 80
        },
        "executionInfo": {
          "elapsed": 421,
          "status": "ok",
          "timestamp": 1594365726294,
          "user": {
            "displayName": "",
            "photoUrl": "",
            "userId": ""
          },
          "user_tz": 420
        },
        "id": "mY1Fi24TDVqG",
        "outputId": "2abe5bc0-be81-4868-ce09-ccded55a5e67"
      },
      "outputs": [
        {
          "data": {
            "text/html": [
              "\u003cdiv\u003e\n",
              "\u003cstyle scoped\u003e\n",
              "    .dataframe tbody tr th:only-of-type {\n",
              "        vertical-align: middle;\n",
              "    }\n",
              "\n",
              "    .dataframe tbody tr th {\n",
              "        vertical-align: top;\n",
              "    }\n",
              "\n",
              "    .dataframe thead th {\n",
              "        text-align: right;\n",
              "    }\n",
              "\u003c/style\u003e\n",
              "\u003ctable border=\"1\" class=\"dataframe\"\u003e\n",
              "  \u003cthead\u003e\n",
              "    \u003ctr style=\"text-align: right;\"\u003e\n",
              "      \u003cth\u003e\u003c/th\u003e\n",
              "      \u003cth\u003esum(clicks) - sum(clicks)\u003c/th\u003e\n",
              "    \u003c/tr\u003e\n",
              "  \u003c/thead\u003e\n",
              "  \u003ctbody\u003e\n",
              "    \u003ctr\u003e\n",
              "      \u003cth\u003e0\u003c/th\u003e\n",
              "      \u003ctd\u003e-403.635452\u003c/td\u003e\n",
              "    \u003c/tr\u003e\n",
              "  \u003c/tbody\u003e\n",
              "\u003c/table\u003e\n",
              "\u003c/div\u003e"
            ],
            "text/plain": [
              "   sum(clicks) - sum(clicks)\n",
              "0                -403.635452"
            ]
          },
          "execution_count": 63,
          "metadata": {
            "tags": []
          },
          "output_type": "execute_result"
        }
      ],
      "source": [
        "clicks_us = Sum('clicks', where='country == \"US\"')\n",
        "clicks_not_us = Sum('clicks', where='country != \"US\"')\n",
        "(clicks_not_us - clicks_us).compute_on(df)"
      ]
    },
    {
      "cell_type": "markdown",
      "metadata": {
        "id": "gqeuyU8HE8Ei"
      },
      "source": [
        "It's equivalent to"
      ]
    },
    {
      "cell_type": "code",
      "execution_count": null,
      "metadata": {
        "colab": {
          "height": 111
        },
        "executionInfo": {
          "elapsed": 1167,
          "status": "ok",
          "timestamp": 1594365727507,
          "user": {
            "displayName": "",
            "photoUrl": "",
            "userId": ""
          },
          "user_tz": 420
        },
        "id": "hJfOsMVyEr8r",
        "outputId": "1456f744-7b95-4b37-e655-86a1c8cf6fdf"
      },
      "outputs": [
        {
          "data": {
            "text/html": [
              "\u003cdiv\u003e\n",
              "\u003cstyle scoped\u003e\n",
              "    .dataframe tbody tr th:only-of-type {\n",
              "        vertical-align: middle;\n",
              "    }\n",
              "\n",
              "    .dataframe tbody tr th {\n",
              "        vertical-align: top;\n",
              "    }\n",
              "\n",
              "    .dataframe thead th {\n",
              "        text-align: right;\n",
              "    }\n",
              "\u003c/style\u003e\n",
              "\u003ctable border=\"1\" class=\"dataframe\"\u003e\n",
              "  \u003cthead\u003e\n",
              "    \u003ctr style=\"text-align: right;\"\u003e\n",
              "      \u003cth\u003e\u003c/th\u003e\n",
              "      \u003cth\u003esum(clicks) Absolute Change\u003c/th\u003e\n",
              "    \u003c/tr\u003e\n",
              "    \u003ctr\u003e\n",
              "      \u003cth\u003ecountry\u003c/th\u003e\n",
              "      \u003cth\u003e\u003c/th\u003e\n",
              "    \u003c/tr\u003e\n",
              "  \u003c/thead\u003e\n",
              "  \u003ctbody\u003e\n",
              "    \u003ctr\u003e\n",
              "      \u003cth\u003enon-US\u003c/th\u003e\n",
              "      \u003ctd\u003e-403.635452\u003c/td\u003e\n",
              "    \u003c/tr\u003e\n",
              "  \u003c/tbody\u003e\n",
              "\u003c/table\u003e\n",
              "\u003c/div\u003e"
            ],
            "text/plain": [
              "         sum(clicks) Absolute Change\n",
              "country                             \n",
              "non-US                   -403.635452"
            ]
          },
          "execution_count": 64,
          "metadata": {
            "tags": []
          },
          "output_type": "execute_result"
        }
      ],
      "source": [
        "Sum('clicks') | AbsoluteChange('country', 'US') | compute_on(df)"
      ]
    },
    {
      "cell_type": "markdown",
      "metadata": {
        "id": "T_HRZXdYrcf-"
      },
      "source": [
        "#SQL\n",
        "\n",
        "You can easily get SQL query for all built-in Metrics and Operations, except for weighted Quantile/CV/Correlation/Cov, by calling\n",
        "\n",
        "\u003e to_sql(sql_table, split_by).\n",
        "\n",
        "You can also directly execute the query by calling\n",
        "\u003e compute_on_sql(sql_table, split_by, execute, melted),\n",
        "\n",
        "where `execute` is a function that can execute SQL queries. The return is very similar to compute_on().\n",
        "\n",
        "The dialect it uses is the [standard SQL](https://cloud.google.com/bigquery/docs/reference/standard-sql) in Google Cloud's BigQuery.\n"
      ]
    },
    {
      "cell_type": "code",
      "execution_count": null,
      "metadata": {
        "executionInfo": {
          "elapsed": 380,
          "status": "ok",
          "timestamp": 1608033025528,
          "user": {
            "displayName": "",
            "photoUrl": "",
            "userId": ""
          },
          "user_tz": 480
        },
        "id": "i9wHC71rred8",
        "outputId": "cea68e98-192e-44f2-bb5f-fd20886f5f35"
      },
      "outputs": [
        {
          "data": {
            "text/plain": [
              "SELECT\n",
              "  grp,\n",
              "  SUM(IF(Y \u003e 0, X, NULL)) AS `sum(X)`,\n",
              "  SUM(X) AS `sum(X)_1`\n",
              "FROM T\n",
              "GROUP BY grp"
            ]
          },
          "execution_count": 3,
          "metadata": {
            "tags": []
          },
          "output_type": "execute_result"
        }
      ],
      "source": [
        "MetricList((Sum('X', where='Y \u003e 0'), Sum('X'))).to_sql('T', 'grp')"
      ]
    },
    {
      "cell_type": "code",
      "execution_count": null,
      "metadata": {
        "colab": {
          "height": 173
        },
        "executionInfo": {
          "elapsed": 477,
          "status": "ok",
          "timestamp": 1607761548536,
          "user": {
            "displayName": "",
            "photoUrl": "",
            "userId": ""
          },
          "user_tz": 480
        },
        "id": "LjAANaq0Zx4d",
        "outputId": "9d674807-ebf3-4f76-e48c-b0fc7cce3b54"
      },
      "outputs": [
        {
          "data": {
            "text/html": [
              "\u003cdiv\u003e\n",
              "\u003cstyle scoped\u003e\n",
              "    .dataframe tbody tr th:only-of-type {\n",
              "        vertical-align: middle;\n",
              "    }\n",
              "\n",
              "    .dataframe tbody tr th {\n",
              "        vertical-align: top;\n",
              "    }\n",
              "\n",
              "    .dataframe thead th {\n",
              "        text-align: right;\n",
              "    }\n",
              "\u003c/style\u003e\n",
              "\u003ctable border=\"1\" class=\"dataframe\"\u003e\n",
              "  \u003cthead\u003e\n",
              "    \u003ctr style=\"text-align: right;\"\u003e\n",
              "      \u003cth\u003e\u003c/th\u003e\n",
              "      \u003cth\u003e\u003c/th\u003e\n",
              "      \u003cth\u003esum(clicks) Absolute Change\u003c/th\u003e\n",
              "      \u003cth\u003emean(impressions) Absolute Change\u003c/th\u003e\n",
              "    \u003c/tr\u003e\n",
              "    \u003ctr\u003e\n",
              "      \u003cth\u003eplatform\u003c/th\u003e\n",
              "      \u003cth\u003ecountry\u003c/th\u003e\n",
              "      \u003cth\u003e\u003c/th\u003e\n",
              "      \u003cth\u003e\u003c/th\u003e\n",
              "    \u003c/tr\u003e\n",
              "  \u003c/thead\u003e\n",
              "  \u003ctbody\u003e\n",
              "    \u003ctr\u003e\n",
              "      \u003cth\u003eDesktop\u003c/th\u003e\n",
              "      \u003cth\u003enon-US\u003c/th\u003e\n",
              "      \u003ctd\u003e-143.916922\u003c/td\u003e\n",
              "      \u003ctd\u003e-41.928504\u003c/td\u003e\n",
              "    \u003c/tr\u003e\n",
              "    \u003ctr\u003e\n",
              "      \u003cth\u003eMobile\u003c/th\u003e\n",
              "      \u003cth\u003enon-US\u003c/th\u003e\n",
              "      \u003ctd\u003e-102.407265\u003c/td\u003e\n",
              "      \u003ctd\u003e-0.502706\u003c/td\u003e\n",
              "    \u003c/tr\u003e\n",
              "    \u003ctr\u003e\n",
              "      \u003cth\u003eTablet\u003c/th\u003e\n",
              "      \u003cth\u003enon-US\u003c/th\u003e\n",
              "      \u003ctd\u003e-157.311265\u003c/td\u003e\n",
              "      \u003ctd\u003e0.132568\u003c/td\u003e\n",
              "    \u003c/tr\u003e\n",
              "  \u003c/tbody\u003e\n",
              "\u003c/table\u003e\n",
              "\u003c/div\u003e"
            ],
            "text/plain": [
              "                  sum(clicks) Absolute Change  mean(impressions) Absolute Change\n",
              "platform country                                                                \n",
              "Desktop  non-US                   -143.916922                         -41.928504\n",
              "Mobile   non-US                   -102.407265                          -0.502706\n",
              "Tablet   non-US                   -157.311265                           0.132568"
            ]
          },
          "execution_count": 5,
          "metadata": {
            "tags": []
          },
          "output_type": "execute_result"
        }
      ],
      "source": [
        "m = MetricList((Sum('clicks'), Mean('impressions')))\n",
        "m = AbsoluteChange('country', 'US', m)\n",
        "m.compute_on(df, 'platform')"
      ]
    },
    {
      "cell_type": "code",
      "execution_count": null,
      "metadata": {
        "colab": {
          "height": 173
        },
        "executionInfo": {
          "elapsed": 410,
          "status": "ok",
          "timestamp": 1607761538409,
          "user": {
            "displayName": "",
            "photoUrl": "",
            "userId": ""
          },
          "user_tz": 480
        },
        "id": "hkayduNpC4UC",
        "outputId": "2511d051-b84a-4017-ccc9-dc0b52a51c18"
      },
      "outputs": [
        {
          "data": {
            "text/html": [
              "\u003cdiv\u003e\n",
              "\u003cstyle scoped\u003e\n",
              "    .dataframe tbody tr th:only-of-type {\n",
              "        vertical-align: middle;\n",
              "    }\n",
              "\n",
              "    .dataframe tbody tr th {\n",
              "        vertical-align: top;\n",
              "    }\n",
              "\n",
              "    .dataframe thead th {\n",
              "        text-align: right;\n",
              "    }\n",
              "\u003c/style\u003e\n",
              "\u003ctable border=\"1\" class=\"dataframe\"\u003e\n",
              "  \u003cthead\u003e\n",
              "    \u003ctr style=\"text-align: right;\"\u003e\n",
              "      \u003cth\u003e\u003c/th\u003e\n",
              "      \u003cth\u003e\u003c/th\u003e\n",
              "      \u003cth\u003esum(clicks) Absolute Change\u003c/th\u003e\n",
              "      \u003cth\u003emean(impressions) Absolute Change\u003c/th\u003e\n",
              "    \u003c/tr\u003e\n",
              "    \u003ctr\u003e\n",
              "      \u003cth\u003eplatform\u003c/th\u003e\n",
              "      \u003cth\u003ecountry\u003c/th\u003e\n",
              "      \u003cth\u003e\u003c/th\u003e\n",
              "      \u003cth\u003e\u003c/th\u003e\n",
              "    \u003c/tr\u003e\n",
              "  \u003c/thead\u003e\n",
              "  \u003ctbody\u003e\n",
              "    \u003ctr\u003e\n",
              "      \u003cth\u003eDesktop\u003c/th\u003e\n",
              "      \u003cth\u003enon-US\u003c/th\u003e\n",
              "      \u003ctd\u003e-143.916922\u003c/td\u003e\n",
              "      \u003ctd\u003e-41.928504\u003c/td\u003e\n",
              "    \u003c/tr\u003e\n",
              "    \u003ctr\u003e\n",
              "      \u003cth\u003eMobile\u003c/th\u003e\n",
              "      \u003cth\u003enon-US\u003c/th\u003e\n",
              "      \u003ctd\u003e-102.407265\u003c/td\u003e\n",
              "      \u003ctd\u003e-0.502706\u003c/td\u003e\n",
              "    \u003c/tr\u003e\n",
              "    \u003ctr\u003e\n",
              "      \u003cth\u003eTablet\u003c/th\u003e\n",
              "      \u003cth\u003enon-US\u003c/th\u003e\n",
              "      \u003ctd\u003e-157.311265\u003c/td\u003e\n",
              "      \u003ctd\u003e0.132568\u003c/td\u003e\n",
              "    \u003c/tr\u003e\n",
              "  \u003c/tbody\u003e\n",
              "\u003c/table\u003e\n",
              "\u003c/div\u003e"
            ],
            "text/plain": [
              "                  sum(clicks) Absolute Change  mean(impressions) Absolute Change\n",
              "platform country                                                                \n",
              "Desktop  non-US                   -143.916922                         -41.928504\n",
              "Mobile   non-US                   -102.407265                          -0.502706\n",
              "Tablet   non-US                   -157.311265                           0.132568"
            ]
          },
          "execution_count": 4,
          "metadata": {
            "tags": []
          },
          "output_type": "execute_result"
        }
      ],
      "source": [
        "from sqlalchemy import create_engine\n",
        "\n",
        "engine = create_engine('sqlite://', echo=False)\n",
        "df.to_sql('T', con=engine)\n",
        "# Meterstick uses a different SQL dialect from SQLAlchemy, so this doesn't\n",
        "# always work.\n",
        "m.compute_on_sql('T', 'platform', execute=lambda sql: pd.read_sql(sql, engine))"
      ]
    },
    {
      "cell_type": "markdown",
      "metadata": {
        "id": "AQjJAr3YcQB2"
      },
      "source": [
        "#Custom Metric\n",
        "We provide many Metrics out of box but we understand there are cases you need more, so we make it easy for you to write you own Metrics.\n",
        "First you need to understand the dataflow of a DataFrame when it's passed to compute_on(). The dataflow looks like this.\n",
        "\n",
        "\t\t    \u003c-------------------------------------------compute_on(handles caching)----------------------------------------------\u003e\n",
        "\t\t    \u003c-------------------------------------compute_through-----------------------------------\u003e                            |\n",
        "\t\t    |                                              \u003c------compute_slices------\u003e             |                            |\n",
        "\t\t    |                                              |-\u003e slice1 -\u003e compute |    |             |                            |\n",
        "\t\tdf -\u003e df.query(where) -\u003e precompute -\u003e split_data -|-\u003e slice2 -\u003e compute | -\u003e pd.concat  -\u003e postcompute -\u003e manipulate -\u003e final_compute\n",
        "\t\t                                                   |-\u003e ...\t\t\t   |\n",
        "\n",
        "In summary, compute() operates on a slice of data and hence only takes one arg, df. While precompute(), postcompute(), compute_slices(), compute_through() and final_compute() operate on the whole DataFrame so they take the df that has been processed by the dataflow till them and the split_by passed to compute_on(). final_compute() also has access to the original df passed to compute_on() for you to make additional manipulation. manipulate() does common data manipulation like melting and cleaning. Besides wrapping all the computations above, compute_on() also caches the result from compute_through(). Please refer to the section of Caching for more details.\n",
        "\n",
        "Depending on your case, you can overwrite all the methods, but we suggest you NOT to overwrite compute_on() because it might mess up the caching mechanism, nor manipulate(), because it might not work well with other Metrics' data manipulation. Here are some rules to help you decide.\n",
        "1. If your Metric has no vectorization over slices, overwrite compute() which only takes one arg, df. To overwrite, you can either create a new class inheriting from Metric or just pass a lambda function into Metric.\n",
        "2. If you have vectorization logic over slices, overwrite compute_slices().\n",
        "3. As compute() operates on a slice of data, it doesn't have access to the columns to split_by and the index value of the slice. If you need them, overwrite compute_with_split_by(self, df, split_by, slice_name), which is just a wrapper of compute(), but has access to split_by and the value of current slice, slice_name.\n",
        "4. The data passed into manipulate() should be a number, a pd.Series, or a wide/unmelted pd.DataFrame.\n",
        "5. split_data() returns (sub_dataframe, corresponding slice value). You might want to overwrite it for non-vectorized Operations. See section Linear Regression for examples.\n",
        "\n",
        "Also there are some requirements.\n",
        "1. Your Metric shouldn't change the input DataFrame inplace or it might not work with other Metrics.\n",
        "2. Your Metric shouldn't rely on the index of the input DataFrame if you want it to work with Jackknife. The reason is Jackknife might reset the index.\n"
      ]
    },
    {
      "cell_type": "markdown",
      "metadata": {
        "id": "a_imRCi1gYa6"
      },
      "source": [
        "## No Vectorization"
      ]
    },
    {
      "cell_type": "code",
      "execution_count": null,
      "metadata": {
        "colab": {
          "height": 142
        },
        "executionInfo": {
          "elapsed": 521,
          "status": "ok",
          "timestamp": 1595025555146,
          "user": {
            "displayName": "",
            "photoUrl": "",
            "userId": ""
          },
          "user_tz": 420
        },
        "id": "uAgrTxLDfh3z",
        "outputId": "d7c34236-7960-45bc-f853-0911e45aed12"
      },
      "outputs": [
        {
          "data": {
            "text/html": [
              "\u003cdiv\u003e\n",
              "\u003cstyle scoped\u003e\n",
              "    .dataframe tbody tr th:only-of-type {\n",
              "        vertical-align: middle;\n",
              "    }\n",
              "\n",
              "    .dataframe tbody tr th {\n",
              "        vertical-align: top;\n",
              "    }\n",
              "\n",
              "    .dataframe thead th {\n",
              "        text-align: right;\n",
              "    }\n",
              "\u003c/style\u003e\n",
              "\u003ctable border=\"1\" class=\"dataframe\"\u003e\n",
              "  \u003cthead\u003e\n",
              "    \u003ctr style=\"text-align: right;\"\u003e\n",
              "      \u003cth\u003e\u003c/th\u003e\n",
              "      \u003cth\u003ecustom sum(clicks)\u003c/th\u003e\n",
              "    \u003c/tr\u003e\n",
              "    \u003ctr\u003e\n",
              "      \u003cth\u003ecountry\u003c/th\u003e\n",
              "      \u003cth\u003e\u003c/th\u003e\n",
              "    \u003c/tr\u003e\n",
              "  \u003c/thead\u003e\n",
              "  \u003ctbody\u003e\n",
              "    \u003ctr\u003e\n",
              "      \u003cth\u003eUS\u003c/th\u003e\n",
              "      \u003ctd\u003e751.791138\u003c/td\u003e\n",
              "    \u003c/tr\u003e\n",
              "    \u003ctr\u003e\n",
              "      \u003cth\u003enon-US\u003c/th\u003e\n",
              "      \u003ctd\u003e348.155686\u003c/td\u003e\n",
              "    \u003c/tr\u003e\n",
              "  \u003c/tbody\u003e\n",
              "\u003c/table\u003e\n",
              "\u003c/div\u003e"
            ],
            "text/plain": [
              "         custom sum(clicks)\n",
              "country                    \n",
              "US               751.791138\n",
              "non-US           348.155686"
            ]
          },
          "execution_count": 15,
          "metadata": {
            "tags": []
          },
          "output_type": "execute_result"
        }
      ],
      "source": [
        "class CustomSum(Metric):\n",
        "  def __init__(self, var):\n",
        "    name = 'custom sum(%s)' % var\n",
        "    super(CustomSum, self).__init__(name)\n",
        "    self.var = var\n",
        "\n",
        "  def compute(self, df):\n",
        "    return df[self.var].sum()\n",
        "\n",
        "CustomSum('clicks').compute_on(df, 'country')"
      ]
    },
    {
      "cell_type": "code",
      "execution_count": null,
      "metadata": {
        "colab": {
          "height": 142
        },
        "executionInfo": {
          "elapsed": 361,
          "status": "ok",
          "timestamp": 1594365728719,
          "user": {
            "displayName": "",
            "photoUrl": "",
            "userId": ""
          },
          "user_tz": 420
        },
        "id": "XgYXgTOTgPwo",
        "outputId": "82b69916-096d-4ba1-89f2-52bc3767804f"
      },
      "outputs": [
        {
          "data": {
            "text/html": [
              "\u003cdiv\u003e\n",
              "\u003cstyle scoped\u003e\n",
              "    .dataframe tbody tr th:only-of-type {\n",
              "        vertical-align: middle;\n",
              "    }\n",
              "\n",
              "    .dataframe tbody tr th {\n",
              "        vertical-align: top;\n",
              "    }\n",
              "\n",
              "    .dataframe thead th {\n",
              "        text-align: right;\n",
              "    }\n",
              "\u003c/style\u003e\n",
              "\u003ctable border=\"1\" class=\"dataframe\"\u003e\n",
              "  \u003cthead\u003e\n",
              "    \u003ctr style=\"text-align: right;\"\u003e\n",
              "      \u003cth\u003e\u003c/th\u003e\n",
              "      \u003cth\u003esum(clicks)\u003c/th\u003e\n",
              "    \u003c/tr\u003e\n",
              "    \u003ctr\u003e\n",
              "      \u003cth\u003ecountry\u003c/th\u003e\n",
              "      \u003cth\u003e\u003c/th\u003e\n",
              "    \u003c/tr\u003e\n",
              "  \u003c/thead\u003e\n",
              "  \u003ctbody\u003e\n",
              "    \u003ctr\u003e\n",
              "      \u003cth\u003eUS\u003c/th\u003e\n",
              "      \u003ctd\u003e751.791138\u003c/td\u003e\n",
              "    \u003c/tr\u003e\n",
              "    \u003ctr\u003e\n",
              "      \u003cth\u003enon-US\u003c/th\u003e\n",
              "      \u003ctd\u003e348.155686\u003c/td\u003e\n",
              "    \u003c/tr\u003e\n",
              "  \u003c/tbody\u003e\n",
              "\u003c/table\u003e\n",
              "\u003c/div\u003e"
            ],
            "text/plain": [
              "         sum(clicks)\n",
              "country             \n",
              "US        751.791138\n",
              "non-US    348.155686"
            ]
          },
          "execution_count": 66,
          "metadata": {
            "tags": []
          },
          "output_type": "execute_result"
        }
      ],
      "source": [
        "Sum('clicks').compute_on(df, 'country')"
      ]
    },
    {
      "cell_type": "markdown",
      "metadata": {
        "id": "-hvgLLKbglrP"
      },
      "source": [
        "CustomSum doesn't have vectorization. It loops through the DataFrame and sum on every slice. As the result, it's slower than vectorized summation."
      ]
    },
    {
      "cell_type": "code",
      "execution_count": null,
      "metadata": {
        "colab": {
          "height": 34
        },
        "executionInfo": {
          "elapsed": 2958,
          "status": "ok",
          "timestamp": 1595025560571,
          "user": {
            "displayName": "",
            "photoUrl": "",
            "userId": ""
          },
          "user_tz": 420
        },
        "id": "6MVo9EtTgg0e",
        "outputId": "017b05a1-882a-49a3-9d43-3fe2768b1f75"
      },
      "outputs": [
        {
          "name": "stdout",
          "output_type": "stream",
          "text": [
            "100 loops, best of 3: 5.18 ms per loop\n"
          ]
        }
      ],
      "source": [
        "#@test {\"skip\": true}\n",
        "%%timeit\n",
        "CustomSum('clicks').compute_on(df, 'country')"
      ]
    },
    {
      "cell_type": "code",
      "execution_count": null,
      "metadata": {
        "colab": {
          "height": 34
        },
        "executionInfo": {
          "elapsed": 1341,
          "status": "ok",
          "timestamp": 1595025567402,
          "user": {
            "displayName": "",
            "photoUrl": "",
            "userId": ""
          },
          "user_tz": 420
        },
        "id": "cLrEAl2Tgi_W",
        "outputId": "44f05eec-f3c8-42f5-ac74-24c23506ca02"
      },
      "outputs": [
        {
          "name": "stdout",
          "output_type": "stream",
          "text": [
            "100 loops, best of 3: 2.13 ms per loop\n"
          ]
        }
      ],
      "source": [
        "#@test {\"skip\": true}\n",
        "%%timeit\n",
        "Sum('clicks').compute_on(df, 'country')"
      ]
    },
    {
      "cell_type": "code",
      "execution_count": null,
      "metadata": {
        "colab": {
          "height": 34
        },
        "executionInfo": {
          "elapsed": 1065,
          "status": "ok",
          "timestamp": 1595025569063,
          "user": {
            "displayName": "",
            "photoUrl": "",
            "userId": ""
          },
          "user_tz": 420
        },
        "id": "qdhczptcg6VO",
        "outputId": "f091e1e0-71c7-4a03-ad96-ddb9a2e01f65"
      },
      "outputs": [
        {
          "name": "stdout",
          "output_type": "stream",
          "text": [
            "100 loops, best of 3: 1.45 ms per loop\n"
          ]
        }
      ],
      "source": [
        "#@test {\"skip\": true}\n",
        "%%timeit\n",
        "df.groupby('country')['clicks'].sum()"
      ]
    },
    {
      "cell_type": "markdown",
      "metadata": {
        "id": "5tUfc996hNBm"
      },
      "source": [
        "## With Vectorization\n",
        "\n",
        "We can do better. Let's implement a Sum with vectorization."
      ]
    },
    {
      "cell_type": "code",
      "execution_count": null,
      "metadata": {
        "colab": {
          "height": 142
        },
        "executionInfo": {
          "elapsed": 538,
          "status": "ok",
          "timestamp": 1594366815541,
          "user": {
            "displayName": "",
            "photoUrl": "",
            "userId": ""
          },
          "user_tz": 420
        },
        "id": "1ny3uHTuhXAJ",
        "outputId": "14cb7c24-140f-4ed0-d7cb-7bce888b0493"
      },
      "outputs": [
        {
          "data": {
            "text/html": [
              "\u003cdiv\u003e\n",
              "\u003cstyle scoped\u003e\n",
              "    .dataframe tbody tr th:only-of-type {\n",
              "        vertical-align: middle;\n",
              "    }\n",
              "\n",
              "    .dataframe tbody tr th {\n",
              "        vertical-align: top;\n",
              "    }\n",
              "\n",
              "    .dataframe thead th {\n",
              "        text-align: right;\n",
              "    }\n",
              "\u003c/style\u003e\n",
              "\u003ctable border=\"1\" class=\"dataframe\"\u003e\n",
              "  \u003cthead\u003e\n",
              "    \u003ctr style=\"text-align: right;\"\u003e\n",
              "      \u003cth\u003e\u003c/th\u003e\n",
              "      \u003cth\u003evectorized sum(clicks)\u003c/th\u003e\n",
              "    \u003c/tr\u003e\n",
              "    \u003ctr\u003e\n",
              "      \u003cth\u003ecountry\u003c/th\u003e\n",
              "      \u003cth\u003e\u003c/th\u003e\n",
              "    \u003c/tr\u003e\n",
              "  \u003c/thead\u003e\n",
              "  \u003ctbody\u003e\n",
              "    \u003ctr\u003e\n",
              "      \u003cth\u003eUS\u003c/th\u003e\n",
              "      \u003ctd\u003e751.791138\u003c/td\u003e\n",
              "    \u003c/tr\u003e\n",
              "    \u003ctr\u003e\n",
              "      \u003cth\u003enon-US\u003c/th\u003e\n",
              "      \u003ctd\u003e348.155686\u003c/td\u003e\n",
              "    \u003c/tr\u003e\n",
              "  \u003c/tbody\u003e\n",
              "\u003c/table\u003e\n",
              "\u003c/div\u003e"
            ],
            "text/plain": [
              "         vectorized sum(clicks)\n",
              "country                        \n",
              "US                   751.791138\n",
              "non-US               348.155686"
            ]
          },
          "execution_count": 128,
          "metadata": {
            "tags": []
          },
          "output_type": "execute_result"
        }
      ],
      "source": [
        "class VectorizedSum(Metric):\n",
        "  def __init__(self, var):\n",
        "    name = 'vectorized sum(%s)' % var\n",
        "    super(VectorizedSum, self).__init__(name = name)\n",
        "    self.var = var\n",
        "\n",
        "  def compute_slices(self, df, split_by):\n",
        "    if split_by:\n",
        "      return df.groupby(split_by)[self.var].sum()\n",
        "    return df[self.var].sum()\n",
        "\n",
        "VectorizedSum('clicks').compute_on(df, 'country')"
      ]
    },
    {
      "cell_type": "code",
      "execution_count": null,
      "metadata": {
        "colab": {
          "height": 34
        },
        "executionInfo": {
          "elapsed": 7884,
          "status": "ok",
          "timestamp": 1594365752825,
          "user": {
            "displayName": "",
            "photoUrl": "",
            "userId": ""
          },
          "user_tz": 420
        },
        "id": "VekZlay-hoZ6",
        "outputId": "235f9aca-2e47-4dfa-ecde-bd57f7fc0b38"
      },
      "outputs": [
        {
          "name": "stdout",
          "output_type": "stream",
          "text": [
            "1000 loops, best of 3: 1.77 ms per loop\n"
          ]
        }
      ],
      "source": [
        "#@test {\"skip\": true}\n",
        "%%timeit\n",
        "VectorizedSum('clicks').compute_on(df, 'country')"
      ]
    },
    {
      "cell_type": "markdown",
      "metadata": {
        "id": "FtRTh1lLiA2W"
      },
      "source": [
        "## Precompute, postcompute and final_compute\n",
        "\n",
        "They are useful when you need to preprocess and postprocess the data."
      ]
    },
    {
      "cell_type": "code",
      "execution_count": null,
      "metadata": {
        "colab": {
          "height": 264
        },
        "executionInfo": {
          "elapsed": 370,
          "status": "ok",
          "timestamp": 1594366947511,
          "user": {
            "displayName": "",
            "photoUrl": "",
            "userId": ""
          },
          "user_tz": 420
        },
        "id": "OrcVt-gviQv5",
        "outputId": "f8af947a-a643-45ec-b153-edb4b6bbec35"
      },
      "outputs": [
        {
          "name": "stdout",
          "output_type": "stream",
          "text": [
            "Inside postcompute():\n",
            "Input data:  country\n",
            "US    751.791138\n",
            "Name: clicks, dtype: float64\n",
            "Input split_by:  ['country']\n",
            "\n",
            "\n",
            "Inside final_compute():\n",
            "Country \"non-US\" is missing!\n"
          ]
        },
        {
          "data": {
            "text/html": [
              "\u003cdiv\u003e\n",
              "\u003cstyle scoped\u003e\n",
              "    .dataframe tbody tr th:only-of-type {\n",
              "        vertical-align: middle;\n",
              "    }\n",
              "\n",
              "    .dataframe tbody tr th {\n",
              "        vertical-align: top;\n",
              "    }\n",
              "\n",
              "    .dataframe thead th {\n",
              "        text-align: right;\n",
              "    }\n",
              "\u003c/style\u003e\n",
              "\u003ctable border=\"1\" class=\"dataframe\"\u003e\n",
              "  \u003cthead\u003e\n",
              "    \u003ctr style=\"text-align: right;\"\u003e\n",
              "      \u003cth\u003e\u003c/th\u003e\n",
              "      \u003cth\u003esum(clicks)\u003c/th\u003e\n",
              "    \u003c/tr\u003e\n",
              "    \u003ctr\u003e\n",
              "      \u003cth\u003ecountry\u003c/th\u003e\n",
              "      \u003cth\u003e\u003c/th\u003e\n",
              "    \u003c/tr\u003e\n",
              "  \u003c/thead\u003e\n",
              "  \u003ctbody\u003e\n",
              "    \u003ctr\u003e\n",
              "      \u003cth\u003eUS\u003c/th\u003e\n",
              "      \u003ctd\u003e751.791138\u003c/td\u003e\n",
              "    \u003c/tr\u003e\n",
              "  \u003c/tbody\u003e\n",
              "\u003c/table\u003e\n",
              "\u003c/div\u003e"
            ],
            "text/plain": [
              "         sum(clicks)\n",
              "country             \n",
              "US        751.791138"
            ]
          },
          "execution_count": 130,
          "metadata": {
            "tags": []
          },
          "output_type": "execute_result"
        }
      ],
      "source": [
        "class USOnlySum(Sum):\n",
        "\n",
        "  def precompute(self, df, split_by):\n",
        "    return df[df.country == 'US']\n",
        "\n",
        "  def postcompute(self, data, split_by):\n",
        "    print('Inside postcompute():')\n",
        "    print('Input data: ', data)\n",
        "    print('Input split_by: ', split_by)\n",
        "    print('\\n')\n",
        "    return data\n",
        "\n",
        "  def final_compute(self, res, melted, return_dataframe, split_by, df):\n",
        "    # res is the result processed by the dataflow till now. df is the original\n",
        "    # DataFrme passed to compute_on().\n",
        "    print('Inside final_compute():')\n",
        "    for country in df.country.unique():\n",
        "      if country not in res.index:\n",
        "        print('Country \"%s\" is missing!' % country)\n",
        "    return res\n",
        "\n",
        "\n",
        "USOnlySum('clicks').compute_on(df, 'country')"
      ]
    },
    {
      "cell_type": "markdown",
      "metadata": {
        "id": "xjT67nhPlMng"
      },
      "source": [
        "## Overwrite using Lambda Functions\n",
        "For one-off Metrics, you can also overwrite precompute, compute, postcompute, compute_slices and final_compute by passing them to Metric() as lambda functions."
      ]
    },
    {
      "cell_type": "code",
      "execution_count": null,
      "metadata": {
        "colab": {
          "height": 142
        },
        "executionInfo": {
          "elapsed": 386,
          "status": "ok",
          "timestamp": 1594365753753,
          "user": {
            "displayName": "",
            "photoUrl": "",
            "userId": ""
          },
          "user_tz": 420
        },
        "id": "_tSKLf0RlUe2",
        "outputId": "52bdace2-3a62-4ffe-ec59-1e7462ae03d0"
      },
      "outputs": [
        {
          "data": {
            "text/html": [
              "\u003cdiv\u003e\n",
              "\u003cstyle scoped\u003e\n",
              "    .dataframe tbody tr th:only-of-type {\n",
              "        vertical-align: middle;\n",
              "    }\n",
              "\n",
              "    .dataframe tbody tr th {\n",
              "        vertical-align: top;\n",
              "    }\n",
              "\n",
              "    .dataframe thead th {\n",
              "        text-align: right;\n",
              "    }\n",
              "\u003c/style\u003e\n",
              "\u003ctable border=\"1\" class=\"dataframe\"\u003e\n",
              "  \u003cthead\u003e\n",
              "    \u003ctr style=\"text-align: right;\"\u003e\n",
              "      \u003cth\u003e\u003c/th\u003e\n",
              "      \u003cth\u003esum\u003c/th\u003e\n",
              "    \u003c/tr\u003e\n",
              "    \u003ctr\u003e\n",
              "      \u003cth\u003ecountry\u003c/th\u003e\n",
              "      \u003cth\u003e\u003c/th\u003e\n",
              "    \u003c/tr\u003e\n",
              "  \u003c/thead\u003e\n",
              "  \u003ctbody\u003e\n",
              "    \u003ctr\u003e\n",
              "      \u003cth\u003eUS\u003c/th\u003e\n",
              "      \u003ctd\u003e751.791138\u003c/td\u003e\n",
              "    \u003c/tr\u003e\n",
              "    \u003ctr\u003e\n",
              "      \u003cth\u003enon-US\u003c/th\u003e\n",
              "      \u003ctd\u003e348.155686\u003c/td\u003e\n",
              "    \u003c/tr\u003e\n",
              "  \u003c/tbody\u003e\n",
              "\u003c/table\u003e\n",
              "\u003c/div\u003e"
            ],
            "text/plain": [
              "                sum\n",
              "country            \n",
              "US       751.791138\n",
              "non-US   348.155686"
            ]
          },
          "execution_count": 73,
          "metadata": {
            "tags": []
          },
          "output_type": "execute_result"
        }
      ],
      "source": [
        "Metric('sum', compute=lambda x: x['clicks'].sum()).compute_on(df, 'country')"
      ]
    },
    {
      "cell_type": "markdown",
      "metadata": {
        "id": "8TJkDyF6o2aW"
      },
      "source": [
        "##Custom Operation\n",
        "Writing a custom Operation is a bit more complex. Take a look at the Caching section below as well. Typically an Operation first computes its children Metrics with expanded split_by. Here are some rules to keep in mind.\n",
        "1. Always use compute_on and compute_child to compute the children Metrics. They handle caching so your Operation can interact with other Metrics correctly.\n",
        "2. If the Operation extends the split_by when computing children Metrics, you need to register the extra columns added in the \\_\\_init__().\n",
        "3. The extra columns should come after the original split_by.\n",
        "4. If you really cannot obey #2 or #3, you need to overwrite Operation.flush_children(), or it won't work with Jackknife and Bootstrap.\n",
        "5. Try to vectorize the Operation as much as possible. At least you can compute the children Metrics in a vectorized way by calling compute_child(). It makes the caching of the children Metrics more available.\n",
        "6. Jackknife takes shortcuts when computing leave-one-out (LOO) estimates for Sum, Mean and Count, so if you want your Operation to work with Jackknife fast, delegate computations to Sum, Mean and Count as much as possible. See section Linear Regression for a comparison.\n",
        "7. For the same reason, you computation logic should avoid using input df other than in compute_on() and compute_child(). When cutting corners, Jackknife emits None as the input df for LOO estimation. The compute_on() and compute_child() functions know to read from cache but other functions may not know what to do. If your Operation uses df outside the compute_on() and compute_child() functions, you have either to\n",
        "      * ensure that your computation doesn't break when df is None.\n",
        "      * set attribute 'precomputable_in_jk' to False (which will force the jackknife to be computed the manual way, which is slower).\n",
        "\n",
        "Let's see Distribution for an example."
      ]
    },
    {
      "cell_type": "code",
      "execution_count": null,
      "metadata": {
        "id": "QWsivJZMpvgO"
      },
      "outputs": [],
      "source": [
        "class Distribution(Operation):\n",
        "  \"\"\"Computes the normalized values of a Metric over column(s).\n",
        "\n",
        "  Attributes:\n",
        "    extra_index: A list of column(s) to normalize over.\n",
        "    children: A tuple of a Metric whose result we normalize on. And all other\n",
        "      attributes inherited from Operation.\n",
        "  \"\"\"\n",
        "\n",
        "  def __init__(self,\n",
        "               over: Union[Text, List[Text]],\n",
        "               child: Optional[Metric] = None,\n",
        "               **kwargs):\n",
        "    self.over = over\n",
        "    # The 3rd argument is the extra column that will be added to split_by. It'll\n",
        "    # be converted to a list then assigned to self.extra_index.\n",
        "    super(Distribution, self).__init__(child, 'Distribution of {}', over,\n",
        "                                       **kwargs)\n",
        "\n",
        "  def compute_slices(self, df, split_by=None):\n",
        "    # extra_index is after the split_by.\n",
        "    lvls = split_by + self.extra_index if split_by else self.extra_index\n",
        "    res = self.compute_child(df, lvls)\n",
        "    total = res.groupby(level=split_by).sum() if split_by else res.sum()\n",
        "    return res / total"
      ]
    },
    {
      "cell_type": "markdown",
      "metadata": {
        "id": "5adfiJUjxIfa"
      },
      "source": [
        "## SQL Generation\n",
        "\n",
        "If you want the custom Metric to generate SQL query, you need to implement to_sql() or get_sql_and_with_clause(). The latter is more common and recommended. Please refer to built-in Metrics to see how it should be implemented. Here we show two examples, one for Metric and the other for Operation."
      ]
    },
    {
      "cell_type": "code",
      "execution_count": null,
      "metadata": {
        "id": "Neiqbr-wxlej"
      },
      "outputs": [],
      "source": [
        "class SumWithSQL(SimpleMetric):\n",
        "\n",
        "  def __init__(self,\n",
        "               var: Text,\n",
        "               name: Optional[Text] = None,\n",
        "               where: Optional[Text] = None,\n",
        "               **kwargs):\n",
        "    super(SumWithSQL, self).__init__(var, name, 'sum({})', where, **kwargs)\n",
        "    self._sum = Sum(var, name, where, **kwargs)\n",
        "\n",
        "  def compute_slices(self, df, split_by):\n",
        "    return self._sum.compute_slices(df, split_by)\n",
        "\n",
        "  # All the SQL-related classes, like Datasource, Filters, Columns, and so on,\n",
        "  # are defined in sql.py.\n",
        "  def get_sql_and_with_clause(self, table: Datasource, split_by: Columns,\n",
        "                              global_filter: Filters, indexes: Columns,\n",
        "                              local_filter: Filters, with_data: Datasources):\n",
        "    del indexes  # unused\n",
        "    # Always starts with this line unless you know what you are doing.\n",
        "    local_filter = Filters([self.where, local_filter]).remove(global_filter)\n",
        "    columns = Column(self.var, 'SUM({})', self.name, local_filter)\n",
        "    # Returns a Sql instance and the WITH clause it needs.\n",
        "    return Sql(columns, table, global_filter, split_by), with_data"
      ]
    },
    {
      "cell_type": "code",
      "execution_count": null,
      "metadata": {
        "colab": {
          "height": 173
        },
        "executionInfo": {
          "elapsed": 1364,
          "status": "ok",
          "timestamp": 1628296647413,
          "user": {
            "displayName": "Xunmo Yang",
            "photoUrl": "https://lh3.googleusercontent.com/a/default-user=s64",
            "userId": "12474546967758012552"
          },
          "user_tz": 420
        },
        "id": "rEFXXMFtCgh5",
        "outputId": "e9184c8e-7356-44ef-cc79-cbee0aa469d0"
      },
      "outputs": [
        {
          "data": {
            "text/html": [
              "\u003cdiv\u003e\n",
              "\u003cstyle scoped\u003e\n",
              "    .dataframe tbody tr th:only-of-type {\n",
              "        vertical-align: middle;\n",
              "    }\n",
              "\n",
              "    .dataframe tbody tr th {\n",
              "        vertical-align: top;\n",
              "    }\n",
              "\n",
              "    .dataframe thead th {\n",
              "        text-align: right;\n",
              "    }\n",
              "\u003c/style\u003e\n",
              "\u003ctable border=\"1\" class=\"dataframe\"\u003e\n",
              "  \u003cthead\u003e\n",
              "    \u003ctr style=\"text-align: right;\"\u003e\n",
              "      \u003cth\u003e\u003c/th\u003e\n",
              "      \u003cth\u003esum(clicks) - custom_sum\u003c/th\u003e\n",
              "    \u003c/tr\u003e\n",
              "    \u003ctr\u003e\n",
              "      \u003cth\u003eplatform\u003c/th\u003e\n",
              "      \u003cth\u003e\u003c/th\u003e\n",
              "    \u003c/tr\u003e\n",
              "  \u003c/thead\u003e\n",
              "  \u003ctbody\u003e\n",
              "    \u003ctr\u003e\n",
              "      \u003cth\u003eDesktop\u003c/th\u003e\n",
              "      \u003ctd\u003e0.0\u003c/td\u003e\n",
              "    \u003c/tr\u003e\n",
              "    \u003ctr\u003e\n",
              "      \u003cth\u003eMobile\u003c/th\u003e\n",
              "      \u003ctd\u003e0.0\u003c/td\u003e\n",
              "    \u003c/tr\u003e\n",
              "    \u003ctr\u003e\n",
              "      \u003cth\u003eTablet\u003c/th\u003e\n",
              "      \u003ctd\u003e0.0\u003c/td\u003e\n",
              "    \u003c/tr\u003e\n",
              "  \u003c/tbody\u003e\n",
              "\u003c/table\u003e\n",
              "\u003c/div\u003e"
            ],
            "text/plain": [
              "          sum(clicks) - custom_sum\n",
              "platform                          \n",
              "Desktop                        0.0\n",
              "Mobile                         0.0\n",
              "Tablet                         0.0"
            ]
          },
          "execution_count": 31,
          "metadata": {
            "tags": []
          },
          "output_type": "execute_result"
        }
      ],
      "source": [
        "m = Sum('clicks') - SumWithSQL('clicks', 'custom_sum')\n",
        "m.compute_on_sql('T', 'platform', execute=lambda sql: pd.read_sql(sql, engine))"
      ]
    },
    {
      "cell_type": "markdown",
      "metadata": {
        "id": "rzUpMSEr8n4z"
      },
      "source": [
        "For an Operation, you ususally call the child metrics' get_sql_and_with_clause() to get the subquery you need."
      ]
    },
    {
      "cell_type": "code",
      "execution_count": null,
      "metadata": {
        "executionInfo": {
          "elapsed": 545,
          "status": "ok",
          "timestamp": 1615428210116,
          "user": {
            "displayName": "",
            "photoUrl": "",
            "userId": ""
          },
          "user_tz": 480
        },
        "id": "k8p1y7UG8mg1",
        "outputId": "c955b932-fd47-4e5e-fc9e-a992ef5ace4c"
      },
      "outputs": [
        {
          "data": {
            "text/plain": [
              "WITH\n",
              "DistributionRaw AS (SELECT\n",
              "  country,\n",
              "  SUM(clicks) AS `sum(clicks)`\n",
              "FROM T\n",
              "GROUP BY country)\n",
              "SELECT DISTINCT\n",
              "  country,\n",
              "  SAFE_DIVIDE(`sum(clicks)`, SUM(`sum(clicks)`) OVER ()) AS `Distribution of sum(clicks)`\n",
              "FROM DistributionRaw"
            ]
          },
          "execution_count": 16,
          "metadata": {
            "tags": []
          },
          "output_type": "execute_result"
        }
      ],
      "source": [
        "class DistributionWithSQL(Operation):\n",
        "\n",
        "  def __init__(self,\n",
        "               over: Union[Text, List[Text]],\n",
        "               child: Optional[Metric] = None,\n",
        "               **kwargs):\n",
        "    super(DistributionWithSQL, self).__init__(child, 'Distribution of {}', over,\n",
        "                                              **kwargs)\n",
        "\n",
        "  def compute_slices(self, df, split_by=None):\n",
        "    lvls = split_by + self.extra_index if split_by else self.extra_index\n",
        "    res = self.compute_child(df, lvls)\n",
        "    total = res.groupby(level=split_by).sum() if split_by else res.sum()\n",
        "    return res / total\n",
        "\n",
        "  def get_sql_and_with_clause(self,\n",
        "                              table: Datasource,\n",
        "                              split_by: Columns,\n",
        "                              global_filter: Filters,\n",
        "                              indexes: Columns,\n",
        "                              local_filter: Filters,\n",
        "                              with_data: Datasources):\n",
        "    \"\"\"Gets the SQL query and WITH clause.\n",
        "\n",
        "    The query is constructed by\n",
        "    1. Get the query for the child metric.\n",
        "    2. Keep all indexing/groupby columns unchanged.\n",
        "    3. For all value columns, get\n",
        "      value / SUM(value) OVER (PARTITION BY split_by).\n",
        "\n",
        "    Args:\n",
        "      table: The table we want to query from.\n",
        "      split_by: The columns that we use to split the data.\n",
        "      global_filter: The Filters that can be applied to the whole Metric tree.\n",
        "      indexes: The columns that we shouldn't apply any arithmetic operation.\n",
        "      local_filter: The Filters that have been accumulated so far.\n",
        "      with_data: A global variable that contains all the WITH clauses we need.\n",
        "\n",
        "    Returns:\n",
        "      The SQL instance for metric, without the WITH clause component.\n",
        "      The global with_data which holds all datasources we need in the WITH\n",
        "        clause.\n",
        "    \"\"\"\n",
        "    # Always starts with this line unless you know what you are doing.\n",
        "    local_filter = Filters([self.where, local_filter]).remove(global_filter)\n",
        "    # The intermediate tables needed by child metrics will be added to with_data\n",
        "    # in-place.\n",
        "    child_sql, with_data = self.children[0].get_sql_and_with_clause(\n",
        "        table, indexes, global_filter, indexes, local_filter, with_data)\n",
        "    child_table = sql.Datasource(child_sql, 'DistributionRaw')\n",
        "    # Always use the alias returned by with_data.add(), because if the with_data\n",
        "    # already holds a different table that also has 'DistributionRaw' as its\n",
        "    # alias, we'll use a different alias for the child_table, which is returned\n",
        "    # by with_data.add().\n",
        "    child_table_alias = with_data.add(child_table)\n",
        "    groupby = sql.Columns(indexes.aliases, distinct=True)\n",
        "    columns = sql.Columns()\n",
        "    for c in child_sql.columns:\n",
        "      if c.alias in groupby:\n",
        "        continue\n",
        "      col = sql.Column(c.alias) / sql.Column(\n",
        "          c.alias, 'SUM({})', partition=split_by.aliases)\n",
        "      col.set_alias('Distribution of %s' % c.alias_raw)\n",
        "      columns.add(col)\n",
        "    return sql.Sql(groupby.add(columns), child_table_alias), with_data\n",
        "\n",
        "\n",
        "m = DistributionWithSQL('country', Sum('clicks'))\n",
        "m.to_sql('T')"
      ]
    },
    {
      "cell_type": "markdown",
      "metadata": {
        "id": "aaaU_93icO6e"
      },
      "source": [
        "# Caching\n",
        "\n",
        "tl;dr: Reuse Metrics as much as possible and compute them together.\n",
        "\n",
        "Computation can be slow so it'd nice if we pass in the same DataFrame multiple\n",
        "times the computation is actually only done once. The difficulty is that\n",
        "DataFrame is mutable so it's hard to decide whether we really saw this DataFrame\n",
        "before. However, in one round of compute_on(), the DataFrame shouldn't change\n",
        "(our Metrics never change the original DataFrame and your custom Metrics\n",
        "shouldn't either), so we can cache the result, namely, a Metric appearing in\n",
        "multiple places will only be computed once. This all happens automatically so\n",
        "you don't need to worry about it. If you really cannot compute all your Metrics\n",
        "in one round, there is a \"cache_key\" arg in compute_on(). What it does is\n",
        "\n",
        "1.  if the key is in cache, just read the cache;\n",
        "2.  if not, compute and save the result to cache under the key.\n",
        "\n",
        "Note:\n",
        "1. All we check is cache_key, nothing more, so it's your responsibility to\n",
        "make sure same key really corresponds to the same input DataFrame AND split_by.\n",
        "2. The caching and retrieving happen in all levels of Metrics, so\n",
        "\n",
        "  `PercentChange(..., Sum('x')).compute_on(df, cache_key='foo')`\n",
        "\n",
        "  not only cache the percent change to PercentChange's cache, but also cache\n",
        "\n",
        "  `Sum('x').compute_through(df)`\n",
        "\n",
        "  to Sum('x')'s cache. Note it's the output of compute_through() is cached so we\n",
        "do't need to re-compute just because you change \"melted\" from True to False.\n",
        "3. Anything that can be a key of a dict can be used as cache_key, except '_RESERVED' and tuples like ('_RESERVED', ...).\n",
        "\n",
        "First, let's illustrate that when we don't reuse Metrics, everything gets\n",
        "computed once as expected."
      ]
    },
    {
      "cell_type": "code",
      "execution_count": null,
      "metadata": {
        "colab": {
          "height": 131
        },
        "executionInfo": {
          "elapsed": 393,
          "status": "ok",
          "timestamp": 1600044635745,
          "user": {
            "displayName": "",
            "photoUrl": "",
            "userId": ""
          },
          "user_tz": 420
        },
        "id": "Y5EXq9oacJUm",
        "outputId": "13b9216b-e029-4356-b465-b0dbde2624b9"
      },
      "outputs": [
        {
          "name": "stdout",
          "output_type": "stream",
          "text": [
            "Computing sum of clicks...\n",
            "Computing sum(clicks)...\n",
            "Computing sum(impressions)...\n"
          ]
        },
        {
          "data": {
            "text/html": [
              "\u003cdiv\u003e\n",
              "\u003cstyle scoped\u003e\n",
              "    .dataframe tbody tr th:only-of-type {\n",
              "        vertical-align: middle;\n",
              "    }\n",
              "\n",
              "    .dataframe tbody tr th {\n",
              "        vertical-align: top;\n",
              "    }\n",
              "\n",
              "    .dataframe thead th {\n",
              "        text-align: right;\n",
              "    }\n",
              "\u003c/style\u003e\n",
              "\u003ctable border=\"1\" class=\"dataframe\"\u003e\n",
              "  \u003cthead\u003e\n",
              "    \u003ctr style=\"text-align: right;\"\u003e\n",
              "      \u003cth\u003e\u003c/th\u003e\n",
              "      \u003cth\u003esum of clicks\u003c/th\u003e\n",
              "      \u003cth\u003esum(clicks) / sum(impressions)\u003c/th\u003e\n",
              "    \u003c/tr\u003e\n",
              "  \u003c/thead\u003e\n",
              "  \u003ctbody\u003e\n",
              "    \u003ctr\u003e\n",
              "      \u003cth\u003e0\u003c/th\u003e\n",
              "      \u003ctd\u003e1099.946824\u003c/td\u003e\n",
              "      \u003ctd\u003e0.049675\u003c/td\u003e\n",
              "    \u003c/tr\u003e\n",
              "  \u003c/tbody\u003e\n",
              "\u003c/table\u003e\n",
              "\u003c/div\u003e"
            ],
            "text/plain": [
              "   sum of clicks  sum(clicks) / sum(impressions)\n",
              "0    1099.946824                        0.049675"
            ]
          },
          "execution_count": 17,
          "metadata": {
            "tags": []
          },
          "output_type": "execute_result"
        }
      ],
      "source": [
        "class SumWithTrace(Sum):\n",
        "  def compute_through(self, data, split_by):\n",
        "    print('Computing %s...' % self.name)\n",
        "    return super(SumWithTrace, self).compute_through(data, split_by)\n",
        "\n",
        "sum_clicks = SumWithTrace('clicks', 'sum of clicks')\n",
        "ctr = SumWithTrace('clicks') / SumWithTrace('impressions')\n",
        "MetricList((sum_clicks, ctr)).compute_on(df)"
      ]
    },
    {
      "cell_type": "markdown",
      "metadata": {
        "id": "fMYFs2ZwvwCx"
      },
      "source": [
        "Now let's see what heppens if we reuse sum_clicks."
      ]
    },
    {
      "cell_type": "code",
      "execution_count": null,
      "metadata": {
        "colab": {
          "height": 114
        },
        "executionInfo": {
          "elapsed": 380,
          "status": "ok",
          "timestamp": 1600044639096,
          "user": {
            "displayName": "",
            "photoUrl": "",
            "userId": ""
          },
          "user_tz": 420
        },
        "id": "EiBXMLQbu-Eg",
        "outputId": "de516266-32f7-4767-a26e-358e3e435801"
      },
      "outputs": [
        {
          "name": "stdout",
          "output_type": "stream",
          "text": [
            "Computing sum of clicks...\n",
            "Computing sum(impressions)...\n"
          ]
        },
        {
          "data": {
            "text/html": [
              "\u003cdiv\u003e\n",
              "\u003cstyle scoped\u003e\n",
              "    .dataframe tbody tr th:only-of-type {\n",
              "        vertical-align: middle;\n",
              "    }\n",
              "\n",
              "    .dataframe tbody tr th {\n",
              "        vertical-align: top;\n",
              "    }\n",
              "\n",
              "    .dataframe thead th {\n",
              "        text-align: right;\n",
              "    }\n",
              "\u003c/style\u003e\n",
              "\u003ctable border=\"1\" class=\"dataframe\"\u003e\n",
              "  \u003cthead\u003e\n",
              "    \u003ctr style=\"text-align: right;\"\u003e\n",
              "      \u003cth\u003e\u003c/th\u003e\n",
              "      \u003cth\u003esum of clicks\u003c/th\u003e\n",
              "      \u003cth\u003esum of clicks / sum(impressions)\u003c/th\u003e\n",
              "    \u003c/tr\u003e\n",
              "  \u003c/thead\u003e\n",
              "  \u003ctbody\u003e\n",
              "    \u003ctr\u003e\n",
              "      \u003cth\u003e0\u003c/th\u003e\n",
              "      \u003ctd\u003e1099.946824\u003c/td\u003e\n",
              "      \u003ctd\u003e0.049675\u003c/td\u003e\n",
              "    \u003c/tr\u003e\n",
              "  \u003c/tbody\u003e\n",
              "\u003c/table\u003e\n",
              "\u003c/div\u003e"
            ],
            "text/plain": [
              "   sum of clicks  sum of clicks / sum(impressions)\n",
              "0    1099.946824                          0.049675"
            ]
          },
          "execution_count": 18,
          "metadata": {
            "tags": []
          },
          "output_type": "execute_result"
        }
      ],
      "source": [
        "sum_clicks = SumWithTrace('clicks', 'sum of clicks')\n",
        "ctr = sum_clicks / SumWithTrace('impressions')\n",
        "MetricList((sum_clicks, ctr)).compute_on(df)"
      ]
    },
    {
      "cell_type": "markdown",
      "metadata": {
        "id": "7kXxnS41wOwj"
      },
      "source": [
        "Then sum_clicks only gets computed once. For Metics that are not quite compatible, you can still put them in a MeticList and set return_dataframe to False to maximize the caching."
      ]
    },
    {
      "cell_type": "code",
      "execution_count": null,
      "metadata": {
        "colab": {
          "height": 145
        },
        "executionInfo": {
          "elapsed": 781,
          "status": "ok",
          "timestamp": 1600044820809,
          "user": {
            "displayName": "",
            "photoUrl": "",
            "userId": ""
          },
          "user_tz": 420
        },
        "id": "VesfUvBoF00L",
        "outputId": "d930aac3-06bf-4d52-e0f2-67cd996cef4c"
      },
      "outputs": [
        {
          "name": "stdout",
          "output_type": "stream",
          "text": [
            "Computing sum of clicks...\n",
            "1099.9468240093606\n"
          ]
        },
        {
          "data": {
            "text/html": [
              "\u003cdiv\u003e\n",
              "\u003cstyle scoped\u003e\n",
              "    .dataframe tbody tr th:only-of-type {\n",
              "        vertical-align: middle;\n",
              "    }\n",
              "\n",
              "    .dataframe tbody tr th {\n",
              "        vertical-align: top;\n",
              "    }\n",
              "\n",
              "    .dataframe thead tr th {\n",
              "        text-align: left;\n",
              "    }\n",
              "\u003c/style\u003e\n",
              "\u003ctable border=\"1\" class=\"dataframe\"\u003e\n",
              "  \u003cthead\u003e\n",
              "    \u003ctr\u003e\n",
              "      \u003cth\u003eMetric\u003c/th\u003e\n",
              "      \u003cth colspan=\"2\" halign=\"left\"\u003esum of clicks\u003c/th\u003e\n",
              "    \u003c/tr\u003e\n",
              "    \u003ctr\u003e\n",
              "      \u003cth\u003e\u003c/th\u003e\n",
              "      \u003cth\u003eValue\u003c/th\u003e\n",
              "      \u003cth\u003eJackknife SE\u003c/th\u003e\n",
              "    \u003c/tr\u003e\n",
              "  \u003c/thead\u003e\n",
              "  \u003ctbody\u003e\n",
              "    \u003ctr\u003e\n",
              "      \u003cth\u003e0\u003c/th\u003e\n",
              "      \u003ctd\u003e1099.946824\u003c/td\u003e\n",
              "      \u003ctd\u003e21.984759\u003c/td\u003e\n",
              "    \u003c/tr\u003e\n",
              "  \u003c/tbody\u003e\n",
              "\u003c/table\u003e\n",
              "\u003c/div\u003e"
            ],
            "text/plain": [
              "Metric sum of clicks             \n",
              "               Value Jackknife SE\n",
              "0        1099.946824    21.984759"
            ]
          },
          "execution_count": 23,
          "metadata": {
            "tags": []
          },
          "output_type": "execute_result"
        }
      ],
      "source": [
        "sum_clicks = SumWithTrace('clicks', 'sum of clicks')\n",
        "jk, s = MetricList(\n",
        "    [Jackknife('cookie', sum_clicks), sum_clicks],\n",
        "    children_return_dataframe=False).compute_on(\n",
        "        df, return_dataframe=False)\n",
        "print(s)\n",
        "jk"
      ]
    },
    {
      "cell_type": "markdown",
      "metadata": {
        "id": "pvcgzS3EGYj8"
      },
      "source": [
        "If you really cannot compute Metrics together, you can use a cache_key."
      ]
    },
    {
      "cell_type": "code",
      "execution_count": null,
      "metadata": {
        "colab": {
          "height": 176
        },
        "executionInfo": {
          "elapsed": 589,
          "status": "ok",
          "timestamp": 1596160622607,
          "user": {
            "displayName": "Xunmo Yang",
            "photoUrl": "",
            "userId": "12474546967758012552"
          },
          "user_tz": 420
        },
        "id": "jywqs9-PvXXP",
        "outputId": "e99a88c2-3b00-4148-d41c-bbd5b0f40e87"
      },
      "outputs": [
        {
          "name": "stdout",
          "output_type": "stream",
          "text": [
            "Computing sum of clicks...\n",
            "Computing sum(impressions)...\n"
          ]
        },
        {
          "data": {
            "text/html": [
              "\u003cdiv\u003e\n",
              "\u003cstyle scoped\u003e\n",
              "    .dataframe tbody tr th:only-of-type {\n",
              "        vertical-align: middle;\n",
              "    }\n",
              "\n",
              "    .dataframe tbody tr th {\n",
              "        vertical-align: top;\n",
              "    }\n",
              "\n",
              "    .dataframe thead th {\n",
              "        text-align: right;\n",
              "    }\n",
              "\u003c/style\u003e\n",
              "\u003ctable border=\"1\" class=\"dataframe\"\u003e\n",
              "  \u003cthead\u003e\n",
              "    \u003ctr style=\"text-align: right;\"\u003e\n",
              "      \u003cth\u003e\u003c/th\u003e\n",
              "      \u003cth\u003esum of clicks / sum(impressions)\u003c/th\u003e\n",
              "    \u003c/tr\u003e\n",
              "    \u003ctr\u003e\n",
              "      \u003cth\u003ecountry\u003c/th\u003e\n",
              "      \u003cth\u003e\u003c/th\u003e\n",
              "    \u003c/tr\u003e\n",
              "  \u003c/thead\u003e\n",
              "  \u003ctbody\u003e\n",
              "    \u003ctr\u003e\n",
              "      \u003cth\u003eUS\u003c/th\u003e\n",
              "      \u003ctd\u003e0.049764\u003c/td\u003e\n",
              "    \u003c/tr\u003e\n",
              "    \u003ctr\u003e\n",
              "      \u003cth\u003enon-US\u003c/th\u003e\n",
              "      \u003ctd\u003e0.049482\u003c/td\u003e\n",
              "    \u003c/tr\u003e\n",
              "  \u003c/tbody\u003e\n",
              "\u003c/table\u003e\n",
              "\u003c/div\u003e"
            ],
            "text/plain": [
              "         sum of clicks / sum(impressions)\n",
              "country                                  \n",
              "US                               0.049764\n",
              "non-US                           0.049482"
            ]
          },
          "execution_count": 80,
          "metadata": {
            "tags": []
          },
          "output_type": "execute_result"
        }
      ],
      "source": [
        "sum_clicks = SumWithTrace('clicks', 'sum of clicks')\n",
        "ctr = sum_clicks / SumWithTrace('impressions')\n",
        "sum_clicks.compute_on(df, 'country', cache_key='foo')\n",
        "ctr.compute_on(df, 'country', cache_key='foo')"
      ]
    },
    {
      "cell_type": "markdown",
      "metadata": {
        "id": "dEwtDv2ayFzW"
      },
      "source": [
        "The resulte are cached in ctr, a composite Metric, as well as its children, the Sum Metrics."
      ]
    },
    {
      "cell_type": "code",
      "execution_count": null,
      "metadata": {
        "colab": {
          "height": 148
        },
        "executionInfo": {
          "elapsed": 499,
          "status": "ok",
          "timestamp": 1594367514617,
          "user": {
            "displayName": "",
            "photoUrl": "",
            "userId": ""
          },
          "user_tz": 420
        },
        "id": "SjXfLwQ2wgU1",
        "outputId": "d68f15c2-39dc-4b2b-df64-3718bca6ffba"
      },
      "outputs": [
        {
          "name": "stdout",
          "output_type": "stream",
          "text": [
            "Computing sum of clicks...\n",
            "Computing sum(impressions)...\n",
            "sum_clicks cached:  1099.9468240093606\n",
            "ctr cached:  0.0496746973765687\n"
          ]
        },
        {
          "data": {
            "text/html": [
              "\u003cdiv\u003e\n",
              "\u003cstyle scoped\u003e\n",
              "    .dataframe tbody tr th:only-of-type {\n",
              "        vertical-align: middle;\n",
              "    }\n",
              "\n",
              "    .dataframe tbody tr th {\n",
              "        vertical-align: top;\n",
              "    }\n",
              "\n",
              "    .dataframe thead th {\n",
              "        text-align: right;\n",
              "    }\n",
              "\u003c/style\u003e\n",
              "\u003ctable border=\"1\" class=\"dataframe\"\u003e\n",
              "  \u003cthead\u003e\n",
              "    \u003ctr style=\"text-align: right;\"\u003e\n",
              "      \u003cth\u003e\u003c/th\u003e\n",
              "      \u003cth\u003esum of clicks / sum(impressions)\u003c/th\u003e\n",
              "    \u003c/tr\u003e\n",
              "  \u003c/thead\u003e\n",
              "  \u003ctbody\u003e\n",
              "    \u003ctr\u003e\n",
              "      \u003cth\u003e0\u003c/th\u003e\n",
              "      \u003ctd\u003e0.049675\u003c/td\u003e\n",
              "    \u003c/tr\u003e\n",
              "  \u003c/tbody\u003e\n",
              "\u003c/table\u003e\n",
              "\u003c/div\u003e"
            ],
            "text/plain": [
              "   sum of clicks / sum(impressions)\n",
              "0                          0.049675"
            ]
          },
          "execution_count": 136,
          "metadata": {
            "tags": []
          },
          "output_type": "execute_result"
        }
      ],
      "source": [
        "sum_clicks = SumWithTrace('clicks', 'sum of clicks')\n",
        "ctr = sum_clicks / SumWithTrace('impressions')\n",
        "MetricList((sum_clicks, ctr)).compute_on(df, cache_key='foo')\n",
        "print('sum_clicks cached: ', sum_clicks.get_cached('foo'))\n",
        "print('ctr cached: ', ctr.get_cached('foo'))\n",
        "ctr.compute_on(None, cache_key='foo')"
      ]
    },
    {
      "cell_type": "markdown",
      "metadata": {
        "id": "7xpo6Taoybcj"
      },
      "source": [
        "You can flush the cache by calling flush_cache(key, split_by=None, recursive=True, prune=True), where \"recursive\" means if you want to flush the cache of the children Metrics as well, and \"prune\" means if the key is not found in current Metric, do you still want to flush the children Metrics or stop early. It's useful when a high level Metric appears in several places then during the flushing we will hit it multiple times. We can save time by stop early."
      ]
    },
    {
      "cell_type": "code",
      "execution_count": null,
      "metadata": {
        "colab": {
          "height": 51
        },
        "executionInfo": {
          "elapsed": 414,
          "status": "ok",
          "timestamp": 1594367740852,
          "user": {
            "displayName": "",
            "photoUrl": "",
            "userId": ""
          },
          "user_tz": 420
        },
        "id": "sXC0q_DEyVqR",
        "outputId": "23f6dfb6-1a5a-49b6-a1fa-166fec85f9c8"
      },
      "outputs": [
        {
          "name": "stdout",
          "output_type": "stream",
          "text": [
            "Computing sum of clicks...\n",
            "Computing sum(impressions)...\n"
          ]
        }
      ],
      "source": [
        "sum_clicks = SumWithTrace('clicks', 'sum of clicks')\n",
        "ctr = sum_clicks / SumWithTrace('impressions')\n",
        "MetricList((sum_clicks, ctr)).compute_on(df, cache_key='foo')\n",
        "ctr.flush_cache('foo', recursive=False)"
      ]
    },
    {
      "cell_type": "code",
      "execution_count": null,
      "metadata": {
        "colab": {
          "height": 80
        },
        "executionInfo": {
          "elapsed": 469,
          "status": "ok",
          "timestamp": 1594367707179,
          "user": {
            "displayName": "",
            "photoUrl": "",
            "userId": ""
          },
          "user_tz": 420
        },
        "id": "ArsM6q90uH8d",
        "outputId": "e96bfcb2-2226-4c1b-8154-70b271f16f93"
      },
      "outputs": [
        {
          "data": {
            "text/html": [
              "\u003cdiv\u003e\n",
              "\u003cstyle scoped\u003e\n",
              "    .dataframe tbody tr th:only-of-type {\n",
              "        vertical-align: middle;\n",
              "    }\n",
              "\n",
              "    .dataframe tbody tr th {\n",
              "        vertical-align: top;\n",
              "    }\n",
              "\n",
              "    .dataframe thead th {\n",
              "        text-align: right;\n",
              "    }\n",
              "\u003c/style\u003e\n",
              "\u003ctable border=\"1\" class=\"dataframe\"\u003e\n",
              "  \u003cthead\u003e\n",
              "    \u003ctr style=\"text-align: right;\"\u003e\n",
              "      \u003cth\u003e\u003c/th\u003e\n",
              "      \u003cth\u003esum of clicks\u003c/th\u003e\n",
              "    \u003c/tr\u003e\n",
              "  \u003c/thead\u003e\n",
              "  \u003ctbody\u003e\n",
              "    \u003ctr\u003e\n",
              "      \u003cth\u003e0\u003c/th\u003e\n",
              "      \u003ctd\u003e1099.946824\u003c/td\u003e\n",
              "    \u003c/tr\u003e\n",
              "  \u003c/tbody\u003e\n",
              "\u003c/table\u003e\n",
              "\u003c/div\u003e"
            ],
            "text/plain": [
              "   sum of clicks\n",
              "0    1099.946824"
            ]
          },
          "execution_count": 138,
          "metadata": {
            "tags": []
          },
          "output_type": "execute_result"
        }
      ],
      "source": [
        "sum_clicks.compute_on(None, cache_key='foo')  # sum is not flushed."
      ]
    },
    {
      "cell_type": "code",
      "execution_count": null,
      "metadata": {
        "colab": {
          "height": 34
        },
        "executionInfo": {
          "elapsed": 334,
          "status": "ok",
          "timestamp": 1594365757078,
          "user": {
            "displayName": "",
            "photoUrl": "",
            "userId": ""
          },
          "user_tz": 420
        },
        "id": "NTHaPN4uz2Tk",
        "outputId": "5524f682-423d-4c91-f02a-c6781f5fd016"
      },
      "outputs": [
        {
          "data": {
            "text/plain": [
              "False"
            ]
          },
          "execution_count": 80,
          "metadata": {
            "tags": []
          },
          "output_type": "execute_result"
        }
      ],
      "source": [
        "ctr.in_cache('foo')"
      ]
    },
    {
      "cell_type": "markdown",
      "metadata": {
        "id": "fgsrP8_21cPX"
      },
      "source": [
        "Though ctr's cache has been flushed, we can still compute ctr from cache because all its children are cached."
      ]
    },
    {
      "cell_type": "code",
      "execution_count": null,
      "metadata": {
        "colab": {
          "height": 80
        },
        "executionInfo": {
          "elapsed": 380,
          "status": "ok",
          "timestamp": 1594365757514,
          "user": {
            "displayName": "",
            "photoUrl": "",
            "userId": ""
          },
          "user_tz": 420
        },
        "id": "c-ZFVlsVzyQx",
        "outputId": "1bec4d29-3def-4ebb-a12b-98f3a71cb5c2"
      },
      "outputs": [
        {
          "data": {
            "text/html": [
              "\u003cdiv\u003e\n",
              "\u003cstyle scoped\u003e\n",
              "    .dataframe tbody tr th:only-of-type {\n",
              "        vertical-align: middle;\n",
              "    }\n",
              "\n",
              "    .dataframe tbody tr th {\n",
              "        vertical-align: top;\n",
              "    }\n",
              "\n",
              "    .dataframe thead th {\n",
              "        text-align: right;\n",
              "    }\n",
              "\u003c/style\u003e\n",
              "\u003ctable border=\"1\" class=\"dataframe\"\u003e\n",
              "  \u003cthead\u003e\n",
              "    \u003ctr style=\"text-align: right;\"\u003e\n",
              "      \u003cth\u003e\u003c/th\u003e\n",
              "      \u003cth\u003esum of clicks / sum(impressions)\u003c/th\u003e\n",
              "    \u003c/tr\u003e\n",
              "  \u003c/thead\u003e\n",
              "  \u003ctbody\u003e\n",
              "    \u003ctr\u003e\n",
              "      \u003cth\u003e0\u003c/th\u003e\n",
              "      \u003ctd\u003e0.049675\u003c/td\u003e\n",
              "    \u003c/tr\u003e\n",
              "  \u003c/tbody\u003e\n",
              "\u003c/table\u003e\n",
              "\u003c/div\u003e"
            ],
            "text/plain": [
              "   sum of clicks / sum(impressions)\n",
              "0                          0.049675"
            ]
          },
          "execution_count": 81,
          "metadata": {
            "tags": []
          },
          "output_type": "execute_result"
        }
      ],
      "source": [
        "ctr.compute_on(None, cache_key='foo')"
      ]
    },
    {
      "cell_type": "code",
      "execution_count": null,
      "metadata": {
        "colab": {
          "height": 34
        },
        "executionInfo": {
          "elapsed": 367,
          "status": "ok",
          "timestamp": 1594365757924,
          "user": {
            "displayName": "",
            "photoUrl": "",
            "userId": ""
          },
          "user_tz": 420
        },
        "id": "9Wy-0jye1jpQ",
        "outputId": "baf8b6a5-28c7-4cc9-a354-76cbda9daeeb"
      },
      "outputs": [
        {
          "data": {
            "text/plain": [
              "True"
            ]
          },
          "execution_count": 82,
          "metadata": {
            "tags": []
          },
          "output_type": "execute_result"
        }
      ],
      "source": [
        "ctr.in_cache('foo')"
      ]
    },
    {
      "cell_type": "markdown",
      "metadata": {
        "id": "JgEIhwL01vPr"
      },
      "source": [
        "We won't be able to re-compute ctr if we recursively flush its cache."
      ]
    },
    {
      "cell_type": "code",
      "execution_count": null,
      "metadata": {
        "colab": {
          "height": 341
        },
        "executionInfo": {
          "elapsed": 1724,
          "status": "error",
          "timestamp": 1594365759687,
          "user": {
            "displayName": "",
            "photoUrl": "",
            "userId": ""
          },
          "user_tz": 420
        },
        "id": "10p7-ZYpzlSQ",
        "outputId": "08b94fab-fd7f-40ab-9777-b3b498ec91e9"
      },
      "outputs": [
        {
          "name": "stdout",
          "output_type": "stream",
          "text": [
            "Computing sum of clicks...\n"
          ]
        },
        {
          "ename": "TypeError",
          "evalue": "ignored",
          "output_type": "error",
          "traceback": [
            "\u001b[1;31m---------------------------------------------------------------------------\u001b[0m\n\u001b[1;31mTypeError\u001b[0m                                 Traceback (most recent call last)",
            "\u001b[1;32m\u003cipython-input-83-451616be5275\u003e\u001b[0m in \u001b[0;36m\u003cmodule\u003e\u001b[1;34m()\u001b[0m\n\u001b[0;32m      1\u001b[0m \u001b[0mctr\u001b[0m\u001b[1;33m.\u001b[0m\u001b[0mflush_cache\u001b[0m\u001b[1;33m(\u001b[0m\u001b[1;34m'foo'\u001b[0m\u001b[1;33m)\u001b[0m\u001b[1;33m\u001b[0m\u001b[1;33m\u001b[0m\u001b[0m\n\u001b[1;32m----\u003e 2\u001b[1;33m \u001b[0msum_clicks\u001b[0m\u001b[1;33m.\u001b[0m\u001b[0mcompute_on\u001b[0m\u001b[1;33m(\u001b[0m\u001b[1;32mNone\u001b[0m\u001b[1;33m,\u001b[0m \u001b[0mcache_key\u001b[0m\u001b[1;33m=\u001b[0m\u001b[1;34m'foo'\u001b[0m\u001b[1;33m)\u001b[0m  \u001b[1;31m# sum is flushed too.\u001b[0m\u001b[1;33m\u001b[0m\u001b[1;33m\u001b[0m\u001b[0m\n\u001b[0m",
            "\u001b[1;32m/google_src/cloud/xunmo/ms/google3/third_party/py/meterstick/v2/metrics.py\u001b[0m in \u001b[0;36mcompute_on\u001b[1;34m(self, df, split_by, melted, return_dataframe, cache_key)\u001b[0m\n\u001b[0;32m    196\u001b[0m       \u001b[1;32melse\u001b[0m\u001b[1;33m:\u001b[0m\u001b[1;33m\u001b[0m\u001b[1;33m\u001b[0m\u001b[0m\n\u001b[0;32m    197\u001b[0m         \u001b[0mself\u001b[0m\u001b[1;33m.\u001b[0m\u001b[0mcache_key\u001b[0m \u001b[1;33m=\u001b[0m \u001b[0mcache_key\u001b[0m\u001b[1;33m\u001b[0m\u001b[1;33m\u001b[0m\u001b[0m\n\u001b[1;32m--\u003e 198\u001b[1;33m         \u001b[0mraw_res\u001b[0m \u001b[1;33m=\u001b[0m \u001b[0mself\u001b[0m\u001b[1;33m.\u001b[0m\u001b[0mcompute_through\u001b[0m\u001b[1;33m(\u001b[0m\u001b[0mdf\u001b[0m\u001b[1;33m,\u001b[0m \u001b[0msplit_by\u001b[0m\u001b[1;33m)\u001b[0m\u001b[1;33m\u001b[0m\u001b[1;33m\u001b[0m\u001b[0m\n\u001b[0m\u001b[0;32m    199\u001b[0m         \u001b[0mself\u001b[0m\u001b[1;33m.\u001b[0m\u001b[0msave_to_cache\u001b[0m\u001b[1;33m(\u001b[0m\u001b[0mcache_key\u001b[0m\u001b[1;33m,\u001b[0m \u001b[0mraw_res\u001b[0m\u001b[1;33m)\u001b[0m\u001b[1;33m\u001b[0m\u001b[1;33m\u001b[0m\u001b[0m\n\u001b[0;32m    200\u001b[0m         \u001b[0mself\u001b[0m\u001b[1;33m.\u001b[0m\u001b[0mcache_key\u001b[0m \u001b[1;33m=\u001b[0m \u001b[1;32mNone\u001b[0m\u001b[1;33m\u001b[0m\u001b[1;33m\u001b[0m\u001b[0m\n",
            "\u001b[1;32m\u003cipython-input-74-957876754013\u003e\u001b[0m in \u001b[0;36mcompute_through\u001b[1;34m(self, data, split_by)\u001b[0m\n\u001b[0;32m      2\u001b[0m   \u001b[1;32mdef\u001b[0m \u001b[0mcompute_through\u001b[0m\u001b[1;33m(\u001b[0m\u001b[0mself\u001b[0m\u001b[1;33m,\u001b[0m \u001b[0mdata\u001b[0m\u001b[1;33m,\u001b[0m \u001b[0msplit_by\u001b[0m\u001b[1;33m)\u001b[0m\u001b[1;33m:\u001b[0m\u001b[1;33m\u001b[0m\u001b[1;33m\u001b[0m\u001b[0m\n\u001b[0;32m      3\u001b[0m     \u001b[0mprint\u001b[0m\u001b[1;33m(\u001b[0m\u001b[1;34m'Computing %s...'\u001b[0m \u001b[1;33m%\u001b[0m \u001b[0mself\u001b[0m\u001b[1;33m.\u001b[0m\u001b[0mname\u001b[0m\u001b[1;33m)\u001b[0m\u001b[1;33m\u001b[0m\u001b[1;33m\u001b[0m\u001b[0m\n\u001b[1;32m----\u003e 4\u001b[1;33m     \u001b[1;32mreturn\u001b[0m \u001b[0msuper\u001b[0m\u001b[1;33m(\u001b[0m\u001b[0mSumWithTrace\u001b[0m\u001b[1;33m,\u001b[0m \u001b[0mself\u001b[0m\u001b[1;33m)\u001b[0m\u001b[1;33m.\u001b[0m\u001b[0mcompute_through\u001b[0m\u001b[1;33m(\u001b[0m\u001b[0mdata\u001b[0m\u001b[1;33m,\u001b[0m \u001b[0msplit_by\u001b[0m\u001b[1;33m)\u001b[0m\u001b[1;33m\u001b[0m\u001b[1;33m\u001b[0m\u001b[0m\n\u001b[0m\u001b[0;32m      5\u001b[0m \u001b[1;33m\u001b[0m\u001b[0m\n\u001b[0;32m      6\u001b[0m \u001b[0msum_clicks\u001b[0m \u001b[1;33m=\u001b[0m \u001b[0mSumWithTrace\u001b[0m\u001b[1;33m(\u001b[0m\u001b[1;34m'clicks'\u001b[0m\u001b[1;33m,\u001b[0m \u001b[1;34m'sum of clicks'\u001b[0m\u001b[1;33m)\u001b[0m\u001b[1;33m\u001b[0m\u001b[1;33m\u001b[0m\u001b[0m\n",
            "\u001b[1;32m/google_src/cloud/xunmo/ms/google3/third_party/py/meterstick/v2/metrics.py\u001b[0m in \u001b[0;36mcompute_through\u001b[1;34m(self, df, split_by)\u001b[0m\n\u001b[0;32m    156\u001b[0m     \u001b[0mdf\u001b[0m \u001b[1;33m=\u001b[0m \u001b[0mdf\u001b[0m\u001b[1;33m.\u001b[0m\u001b[0mquery\u001b[0m\u001b[1;33m(\u001b[0m\u001b[0mself\u001b[0m\u001b[1;33m.\u001b[0m\u001b[0mwhere\u001b[0m\u001b[1;33m)\u001b[0m \u001b[1;32mif\u001b[0m \u001b[0mself\u001b[0m\u001b[1;33m.\u001b[0m\u001b[0mwhere\u001b[0m \u001b[1;32melse\u001b[0m \u001b[0mdf\u001b[0m\u001b[1;33m\u001b[0m\u001b[1;33m\u001b[0m\u001b[0m\n\u001b[0;32m    157\u001b[0m     \u001b[0mres\u001b[0m \u001b[1;33m=\u001b[0m \u001b[0mself\u001b[0m\u001b[1;33m.\u001b[0m\u001b[0mprecompute\u001b[0m\u001b[1;33m(\u001b[0m\u001b[0mdf\u001b[0m\u001b[1;33m,\u001b[0m \u001b[0msplit_by\u001b[0m\u001b[1;33m)\u001b[0m\u001b[1;33m\u001b[0m\u001b[1;33m\u001b[0m\u001b[0m\n\u001b[1;32m--\u003e 158\u001b[1;33m     \u001b[0mres\u001b[0m \u001b[1;33m=\u001b[0m \u001b[0mself\u001b[0m\u001b[1;33m.\u001b[0m\u001b[0mcompute_slices\u001b[0m\u001b[1;33m(\u001b[0m\u001b[0mres\u001b[0m\u001b[1;33m,\u001b[0m \u001b[0msplit_by\u001b[0m\u001b[1;33m)\u001b[0m\u001b[1;33m\u001b[0m\u001b[1;33m\u001b[0m\u001b[0m\n\u001b[0m\u001b[0;32m    159\u001b[0m     \u001b[1;32mreturn\u001b[0m \u001b[0mself\u001b[0m\u001b[1;33m.\u001b[0m\u001b[0mpostcompute\u001b[0m\u001b[1;33m(\u001b[0m\u001b[0mres\u001b[0m\u001b[1;33m,\u001b[0m \u001b[0msplit_by\u001b[0m\u001b[1;33m)\u001b[0m\u001b[1;33m\u001b[0m\u001b[1;33m\u001b[0m\u001b[0m\n\u001b[0;32m    160\u001b[0m \u001b[1;33m\u001b[0m\u001b[0m\n",
            "\u001b[1;32m/google_src/cloud/xunmo/ms/google3/third_party/py/meterstick/v2/metrics.py\u001b[0m in \u001b[0;36mcompute_slices\u001b[1;34m(self, df, split_by)\u001b[0m\n\u001b[0;32m    658\u001b[0m \u001b[1;33m\u001b[0m\u001b[0m\n\u001b[0;32m    659\u001b[0m   \u001b[1;32mdef\u001b[0m \u001b[0mcompute_slices\u001b[0m\u001b[1;33m(\u001b[0m\u001b[0mself\u001b[0m\u001b[1;33m,\u001b[0m \u001b[0mdf\u001b[0m\u001b[1;33m,\u001b[0m \u001b[0msplit_by\u001b[0m\u001b[1;33m=\u001b[0m\u001b[1;32mNone\u001b[0m\u001b[1;33m)\u001b[0m\u001b[1;33m:\u001b[0m\u001b[1;33m\u001b[0m\u001b[1;33m\u001b[0m\u001b[0m\n\u001b[1;32m--\u003e 660\u001b[1;33m     \u001b[1;32mreturn\u001b[0m \u001b[0mself\u001b[0m\u001b[1;33m.\u001b[0m\u001b[0mgroup\u001b[0m\u001b[1;33m(\u001b[0m\u001b[0mdf\u001b[0m\u001b[1;33m,\u001b[0m \u001b[0msplit_by\u001b[0m\u001b[1;33m)\u001b[0m\u001b[1;33m[\u001b[0m\u001b[0mself\u001b[0m\u001b[1;33m.\u001b[0m\u001b[0mvar\u001b[0m\u001b[1;33m]\u001b[0m\u001b[1;33m.\u001b[0m\u001b[0msum\u001b[0m\u001b[1;33m(\u001b[0m\u001b[1;33m**\u001b[0m\u001b[0mself\u001b[0m\u001b[1;33m.\u001b[0m\u001b[0mkwargs\u001b[0m\u001b[1;33m)\u001b[0m\u001b[1;33m\u001b[0m\u001b[1;33m\u001b[0m\u001b[0m\n\u001b[0m\u001b[0;32m    661\u001b[0m \u001b[1;33m\u001b[0m\u001b[0m\n\u001b[0;32m    662\u001b[0m   def handle_jackknife(self, df: pd.DataFrame, split_by: Optional[List[Text]],\n",
            "\u001b[1;31mTypeError\u001b[0m: 'NoneType' object is not subscriptable"
          ]
        }
      ],
      "source": [
        "#@test {\"skip\": true}\n",
        "ctr.flush_cache('foo')\n",
        "sum_clicks.compute_on(None, cache_key='foo')  # sum is flushed too."
      ]
    },
    {
      "cell_type": "markdown",
      "metadata": {
        "id": "ejgnC-PGep2j"
      },
      "source": [
        "However, the behavior becomes subtle when Operation is involved."
      ]
    },
    {
      "cell_type": "code",
      "execution_count": null,
      "metadata": {
        "colab": {
          "height": 159
        },
        "executionInfo": {
          "elapsed": 488,
          "status": "ok",
          "timestamp": 1596161299762,
          "user": {
            "displayName": "Xunmo Yang",
            "photoUrl": "",
            "userId": "12474546967758012552"
          },
          "user_tz": 420
        },
        "id": "8b9JEg6Je-Xl",
        "outputId": "824906ef-dd41-46db-f1cc-e5a59f9a1c03"
      },
      "outputs": [
        {
          "name": "stdout",
          "output_type": "stream",
          "text": [
            "Computing sum(clicks)...\n"
          ]
        },
        {
          "data": {
            "text/html": [
              "\u003cdiv\u003e\n",
              "\u003cstyle scoped\u003e\n",
              "    .dataframe tbody tr th:only-of-type {\n",
              "        vertical-align: middle;\n",
              "    }\n",
              "\n",
              "    .dataframe tbody tr th {\n",
              "        vertical-align: top;\n",
              "    }\n",
              "\n",
              "    .dataframe thead th {\n",
              "        text-align: right;\n",
              "    }\n",
              "\u003c/style\u003e\n",
              "\u003ctable border=\"1\" class=\"dataframe\"\u003e\n",
              "  \u003cthead\u003e\n",
              "    \u003ctr style=\"text-align: right;\"\u003e\n",
              "      \u003cth\u003e\u003c/th\u003e\n",
              "      \u003cth\u003esum(clicks)\u003c/th\u003e\n",
              "    \u003c/tr\u003e\n",
              "    \u003ctr\u003e\n",
              "      \u003cth\u003ecountry\u003c/th\u003e\n",
              "      \u003cth\u003e\u003c/th\u003e\n",
              "    \u003c/tr\u003e\n",
              "  \u003c/thead\u003e\n",
              "  \u003ctbody\u003e\n",
              "    \u003ctr\u003e\n",
              "      \u003cth\u003eUS\u003c/th\u003e\n",
              "      \u003ctd\u003e751.791138\u003c/td\u003e\n",
              "    \u003c/tr\u003e\n",
              "    \u003ctr\u003e\n",
              "      \u003cth\u003enon-US\u003c/th\u003e\n",
              "      \u003ctd\u003e348.155686\u003c/td\u003e\n",
              "    \u003c/tr\u003e\n",
              "  \u003c/tbody\u003e\n",
              "\u003c/table\u003e\n",
              "\u003c/div\u003e"
            ],
            "text/plain": [
              "         sum(clicks)\n",
              "country             \n",
              "US        751.791138\n",
              "non-US    348.155686"
            ]
          },
          "execution_count": 87,
          "metadata": {
            "tags": []
          },
          "output_type": "execute_result"
        }
      ],
      "source": [
        "sum_clicks = SumWithTrace('clicks')\n",
        "PercentChange('country', 'US', sum_clicks).compute_on(df, cache_key=42)\n",
        "sum_clicks.compute_on(None, 'country', cache_key=42)"
      ]
    },
    {
      "cell_type": "markdown",
      "metadata": {
        "id": "0VbUCE3KfJcV"
      },
      "source": [
        "Note that it's sum_clicks.compute_on(df, 'country') instead of sum_clicks.compute_on(df) got saved in the cache. The reason is we need the former not the latter to compute the PercentChange. Using sum_clicks.compute_on(df, cache_key=42) will always give you the right result so it's not a big issue, just might confuse you sometime."
      ]
    },
    {
      "cell_type": "code",
      "execution_count": null,
      "metadata": {
        "colab": {
          "height": 97
        },
        "executionInfo": {
          "elapsed": 381,
          "status": "ok",
          "timestamp": 1596161302605,
          "user": {
            "displayName": "Xunmo Yang",
            "photoUrl": "",
            "userId": "12474546967758012552"
          },
          "user_tz": 420
        },
        "id": "qlxl_hqIkU-Z",
        "outputId": "8df8ba88-84b5-4d2a-845c-de43265df207"
      },
      "outputs": [
        {
          "name": "stdout",
          "output_type": "stream",
          "text": [
            "Computing sum(clicks)...\n"
          ]
        },
        {
          "data": {
            "text/html": [
              "\u003cdiv\u003e\n",
              "\u003cstyle scoped\u003e\n",
              "    .dataframe tbody tr th:only-of-type {\n",
              "        vertical-align: middle;\n",
              "    }\n",
              "\n",
              "    .dataframe tbody tr th {\n",
              "        vertical-align: top;\n",
              "    }\n",
              "\n",
              "    .dataframe thead th {\n",
              "        text-align: right;\n",
              "    }\n",
              "\u003c/style\u003e\n",
              "\u003ctable border=\"1\" class=\"dataframe\"\u003e\n",
              "  \u003cthead\u003e\n",
              "    \u003ctr style=\"text-align: right;\"\u003e\n",
              "      \u003cth\u003e\u003c/th\u003e\n",
              "      \u003cth\u003esum(clicks)\u003c/th\u003e\n",
              "    \u003c/tr\u003e\n",
              "  \u003c/thead\u003e\n",
              "  \u003ctbody\u003e\n",
              "    \u003ctr\u003e\n",
              "      \u003cth\u003e0\u003c/th\u003e\n",
              "      \u003ctd\u003e1099.946824\u003c/td\u003e\n",
              "    \u003c/tr\u003e\n",
              "  \u003c/tbody\u003e\n",
              "\u003c/table\u003e\n",
              "\u003c/div\u003e"
            ],
            "text/plain": [
              "   sum(clicks)\n",
              "0  1099.946824"
            ]
          },
          "execution_count": 88,
          "metadata": {
            "tags": []
          },
          "output_type": "execute_result"
        }
      ],
      "source": [
        "sum_clicks.compute_on(df, cache_key=42)"
      ]
    },
    {
      "cell_type": "code",
      "execution_count": null,
      "metadata": {
        "colab": {
          "height": 142
        },
        "executionInfo": {
          "elapsed": 432,
          "status": "ok",
          "timestamp": 1596161868474,
          "user": {
            "displayName": "Xunmo Yang",
            "photoUrl": "",
            "userId": "12474546967758012552"
          },
          "user_tz": 420
        },
        "id": "tW__O9JZkfEC",
        "outputId": "70208a20-2d74-417d-c66c-7aa4e884d9f4"
      },
      "outputs": [
        {
          "data": {
            "text/html": [
              "\u003cdiv\u003e\n",
              "\u003cstyle scoped\u003e\n",
              "    .dataframe tbody tr th:only-of-type {\n",
              "        vertical-align: middle;\n",
              "    }\n",
              "\n",
              "    .dataframe tbody tr th {\n",
              "        vertical-align: top;\n",
              "    }\n",
              "\n",
              "    .dataframe thead th {\n",
              "        text-align: right;\n",
              "    }\n",
              "\u003c/style\u003e\n",
              "\u003ctable border=\"1\" class=\"dataframe\"\u003e\n",
              "  \u003cthead\u003e\n",
              "    \u003ctr style=\"text-align: right;\"\u003e\n",
              "      \u003cth\u003e\u003c/th\u003e\n",
              "      \u003cth\u003esum(clicks)\u003c/th\u003e\n",
              "    \u003c/tr\u003e\n",
              "    \u003ctr\u003e\n",
              "      \u003cth\u003ecountry\u003c/th\u003e\n",
              "      \u003cth\u003e\u003c/th\u003e\n",
              "    \u003c/tr\u003e\n",
              "  \u003c/thead\u003e\n",
              "  \u003ctbody\u003e\n",
              "    \u003ctr\u003e\n",
              "      \u003cth\u003eUS\u003c/th\u003e\n",
              "      \u003ctd\u003e751.791138\u003c/td\u003e\n",
              "    \u003c/tr\u003e\n",
              "    \u003ctr\u003e\n",
              "      \u003cth\u003enon-US\u003c/th\u003e\n",
              "      \u003ctd\u003e348.155686\u003c/td\u003e\n",
              "    \u003c/tr\u003e\n",
              "  \u003c/tbody\u003e\n",
              "\u003c/table\u003e\n",
              "\u003c/div\u003e"
            ],
            "text/plain": [
              "         sum(clicks)\n",
              "country             \n",
              "US        751.791138\n",
              "non-US    348.155686"
            ]
          },
          "execution_count": 89,
          "metadata": {
            "tags": []
          },
          "output_type": "execute_result"
        }
      ],
      "source": [
        "sum_clicks.compute_on(df, 'country', cache_key=42)"
      ]
    },
    {
      "cell_type": "markdown",
      "metadata": {
        "id": "H6MJwaLlZ79Y"
      },
      "source": [
        "#Advanced Examples"
      ]
    },
    {
      "cell_type": "markdown",
      "metadata": {
        "id": "gcmROLlqcIYa"
      },
      "source": [
        "## Click Split"
      ]
    },
    {
      "cell_type": "code",
      "execution_count": null,
      "metadata": {
        "colab": {
          "height": 173
        },
        "executionInfo": {
          "elapsed": 689,
          "status": "ok",
          "timestamp": 1594367859739,
          "user": {
            "displayName": "",
            "photoUrl": "",
            "userId": ""
          },
          "user_tz": 420
        },
        "id": "6lDnUPdzcJuX",
        "outputId": "a1dcc94f-7ccf-4ad1-e8f7-d7dd99c7df90"
      },
      "outputs": [
        {
          "data": {
            "text/html": [
              "\u003cdiv\u003e\n",
              "\u003cstyle scoped\u003e\n",
              "    .dataframe tbody tr th:only-of-type {\n",
              "        vertical-align: middle;\n",
              "    }\n",
              "\n",
              "    .dataframe tbody tr th {\n",
              "        vertical-align: top;\n",
              "    }\n",
              "\n",
              "    .dataframe thead tr th {\n",
              "        text-align: left;\n",
              "    }\n",
              "\n",
              "    .dataframe thead tr:last-of-type th {\n",
              "        text-align: right;\n",
              "    }\n",
              "\u003c/style\u003e\n",
              "\u003ctable border=\"1\" class=\"dataframe\"\u003e\n",
              "  \u003cthead\u003e\n",
              "    \u003ctr\u003e\n",
              "      \u003cth\u003eMetric\u003c/th\u003e\n",
              "      \u003cth colspan=\"2\" halign=\"left\"\u003eclick split\u003c/th\u003e\n",
              "    \u003c/tr\u003e\n",
              "    \u003ctr\u003e\n",
              "      \u003cth\u003e\u003c/th\u003e\n",
              "      \u003cth\u003eValue\u003c/th\u003e\n",
              "      \u003cth\u003eJackknife SE\u003c/th\u003e\n",
              "    \u003c/tr\u003e\n",
              "    \u003ctr\u003e\n",
              "      \u003cth\u003ecountry\u003c/th\u003e\n",
              "      \u003cth\u003e\u003c/th\u003e\n",
              "      \u003cth\u003e\u003c/th\u003e\n",
              "    \u003c/tr\u003e\n",
              "  \u003c/thead\u003e\n",
              "  \u003ctbody\u003e\n",
              "    \u003ctr\u003e\n",
              "      \u003cth\u003eUS\u003c/th\u003e\n",
              "      \u003ctd\u003e4.053991\u003c/td\u003e\n",
              "      \u003ctd\u003e0.421106\u003c/td\u003e\n",
              "    \u003c/tr\u003e\n",
              "    \u003ctr\u003e\n",
              "      \u003cth\u003enon-US\u003c/th\u003e\n",
              "      \u003ctd\u003e4.327727\u003c/td\u003e\n",
              "      \u003ctd\u003e0.509220\u003c/td\u003e\n",
              "    \u003c/tr\u003e\n",
              "  \u003c/tbody\u003e\n",
              "\u003c/table\u003e\n",
              "\u003c/div\u003e"
            ],
            "text/plain": [
              "Metric  click split             \n",
              "              Value Jackknife SE\n",
              "country                         \n",
              "US         4.053991     0.421106\n",
              "non-US     4.327727     0.509220"
            ]
          },
          "execution_count": 141,
          "metadata": {
            "tags": []
          },
          "output_type": "execute_result"
        }
      ],
      "source": [
        "np.random.seed(42)\n",
        "df['duration'] = np.random.random(len(df)) * 200\n",
        "\n",
        "long_clicks = Sum('clicks', where='duration \u003e 60')\n",
        "short_clicks = Sum('clicks', where='duration \u003c 30')\n",
        "click_split = (long_clicks / short_clicks).set_name('click split')\n",
        "click_split | Jackknife('cookie') | compute_on(df, 'country')"
      ]
    },
    {
      "cell_type": "markdown",
      "metadata": {
        "id": "8Vplq4TDzwBY"
      },
      "source": [
        "##Difference in differences"
      ]
    },
    {
      "cell_type": "code",
      "execution_count": null,
      "metadata": {
        "colab": {
          "height": 173
        },
        "executionInfo": {
          "elapsed": 581,
          "status": "ok",
          "timestamp": 1601684321443,
          "user": {
            "displayName": "",
            "photoUrl": "",
            "userId": ""
          },
          "user_tz": 420
        },
        "id": "NPiALqlMG0aM",
        "outputId": "4f305de8-6891-4031-f1c9-958440a40e72"
      },
      "outputs": [
        {
          "data": {
            "text/html": [
              "\u003cdiv\u003e\n",
              "\u003cstyle scoped\u003e\n",
              "    .dataframe tbody tr th:only-of-type {\n",
              "        vertical-align: middle;\n",
              "    }\n",
              "\n",
              "    .dataframe tbody tr th {\n",
              "        vertical-align: top;\n",
              "    }\n",
              "\n",
              "    .dataframe thead tr th {\n",
              "        text-align: left;\n",
              "    }\n",
              "\n",
              "    .dataframe thead tr:last-of-type th {\n",
              "        text-align: right;\n",
              "    }\n",
              "\u003c/style\u003e\n",
              "\u003ctable border=\"1\" class=\"dataframe\"\u003e\n",
              "  \u003cthead\u003e\n",
              "    \u003ctr\u003e\n",
              "      \u003cth\u003eMetric\u003c/th\u003e\n",
              "      \u003cth colspan=\"2\" halign=\"left\"\u003eclicks% DID\u003c/th\u003e\n",
              "      \u003cth colspan=\"2\" halign=\"left\"\u003ectr% DID\u003c/th\u003e\n",
              "    \u003c/tr\u003e\n",
              "    \u003ctr\u003e\n",
              "      \u003cth\u003e\u003c/th\u003e\n",
              "      \u003cth\u003eValue\u003c/th\u003e\n",
              "      \u003cth\u003eJackknife SE\u003c/th\u003e\n",
              "      \u003cth\u003eValue\u003c/th\u003e\n",
              "      \u003cth\u003eJackknife SE\u003c/th\u003e\n",
              "    \u003c/tr\u003e\n",
              "    \u003ctr\u003e\n",
              "      \u003cth\u003eplatform\u003c/th\u003e\n",
              "      \u003cth\u003e\u003c/th\u003e\n",
              "      \u003cth\u003e\u003c/th\u003e\n",
              "      \u003cth\u003e\u003c/th\u003e\n",
              "      \u003cth\u003e\u003c/th\u003e\n",
              "    \u003c/tr\u003e\n",
              "  \u003c/thead\u003e\n",
              "  \u003ctbody\u003e\n",
              "    \u003ctr\u003e\n",
              "      \u003cth\u003eMobile\u003c/th\u003e\n",
              "      \u003ctd\u003e0.895517\u003c/td\u003e\n",
              "      \u003ctd\u003e24.081346\u003c/td\u003e\n",
              "      \u003ctd\u003e-12.971959\u003c/td\u003e\n",
              "      \u003ctd\u003e19.153263\u003c/td\u003e\n",
              "    \u003c/tr\u003e\n",
              "    \u003ctr\u003e\n",
              "      \u003cth\u003eTablet\u003c/th\u003e\n",
              "      \u003ctd\u003e6.008909\u003c/td\u003e\n",
              "      \u003ctd\u003e14.408561\u003c/td\u003e\n",
              "      \u003ctd\u003e-4.274900\u003c/td\u003e\n",
              "      \u003ctd\u003e22.751797\u003c/td\u003e\n",
              "    \u003c/tr\u003e\n",
              "  \u003c/tbody\u003e\n",
              "\u003c/table\u003e\n",
              "\u003c/div\u003e"
            ],
            "text/plain": [
              "Metric   clicks% DID                ctr% DID             \n",
              "               Value Jackknife SE      Value Jackknife SE\n",
              "platform                                                 \n",
              "Mobile      0.895517    24.081346 -12.971959    19.153263\n",
              "Tablet      6.008909    14.408561  -4.274900    22.751797"
            ]
          },
          "execution_count": 5,
          "metadata": {
            "tags": []
          },
          "output_type": "execute_result"
        }
      ],
      "source": [
        "np.random.seed(42)\n",
        "df['period'] = np.random.choice(('preperiod', 'postperiod'), size=size)\n",
        "\n",
        "sum_clicks = Sum('clicks')\n",
        "ctr = sum_clicks / Sum('impressions')\n",
        "metrics = (sum_clicks, ctr)\n",
        "preperiod_clicks = MetricList(metrics, where='period == \"preperiod\"')\n",
        "postperiod_clicks = MetricList(metrics, where='period == \"postperiod\"')\n",
        "pct = PercentChange('platform', 'Desktop')\n",
        "did = (pct(postperiod_clicks) - pct(preperiod_clicks)).rename_columns(\n",
        "    ['clicks% DID', 'ctr% DID'])\n",
        "Jackknife('cookie', did).compute_on(df)"
      ]
    },
    {
      "cell_type": "markdown",
      "metadata": {
        "id": "3ItlGoihbYRz"
      },
      "source": [
        "## Compare the standard errors between Jackknife and Bootstrap"
      ]
    },
    {
      "cell_type": "code",
      "execution_count": null,
      "metadata": {
        "colab": {
          "height": 173
        },
        "executionInfo": {
          "elapsed": 3716,
          "status": "ok",
          "timestamp": 1595026875847,
          "user": {
            "displayName": "",
            "photoUrl": "",
            "userId": ""
          },
          "user_tz": 420
        },
        "id": "wU8M4nTA0dgD",
        "outputId": "fbc207e4-9724-4060-93a9-6516f42c7169"
      },
      "outputs": [
        {
          "data": {
            "text/html": [
              "\u003cdiv\u003e\n",
              "\u003cstyle scoped\u003e\n",
              "    .dataframe tbody tr th:only-of-type {\n",
              "        vertical-align: middle;\n",
              "    }\n",
              "\n",
              "    .dataframe tbody tr th {\n",
              "        vertical-align: top;\n",
              "    }\n",
              "\n",
              "    .dataframe thead tr th {\n",
              "        text-align: left;\n",
              "    }\n",
              "\n",
              "    .dataframe thead tr:last-of-type th {\n",
              "        text-align: right;\n",
              "    }\n",
              "\u003c/style\u003e\n",
              "\u003ctable border=\"1\" class=\"dataframe\"\u003e\n",
              "  \u003cthead\u003e\n",
              "    \u003ctr\u003e\n",
              "      \u003cth\u003e\u003c/th\u003e\n",
              "      \u003cth colspan=\"2\" halign=\"left\"\u003esum(clicks)\u003c/th\u003e\n",
              "      \u003cth colspan=\"2\" halign=\"left\"\u003ectr\u003c/th\u003e\n",
              "    \u003c/tr\u003e\n",
              "    \u003ctr\u003e\n",
              "      \u003cth\u003e\u003c/th\u003e\n",
              "      \u003cth\u003eValue\u003c/th\u003e\n",
              "      \u003cth\u003eSE\u003c/th\u003e\n",
              "      \u003cth\u003eValue\u003c/th\u003e\n",
              "      \u003cth\u003eSE\u003c/th\u003e\n",
              "    \u003c/tr\u003e\n",
              "    \u003ctr\u003e\n",
              "      \u003cth\u003ecountry\u003c/th\u003e\n",
              "      \u003cth\u003e\u003c/th\u003e\n",
              "      \u003cth\u003e\u003c/th\u003e\n",
              "      \u003cth\u003e\u003c/th\u003e\n",
              "      \u003cth\u003e\u003c/th\u003e\n",
              "    \u003c/tr\u003e\n",
              "  \u003c/thead\u003e\n",
              "  \u003ctbody\u003e\n",
              "    \u003ctr\u003e\n",
              "      \u003cth\u003eUS\u003c/th\u003e\n",
              "      \u003ctd\u003e1.0\u003c/td\u003e\n",
              "      \u003ctd\u003e0.843197\u003c/td\u003e\n",
              "      \u003ctd\u003e1.0\u003c/td\u003e\n",
              "      \u003ctd\u003e1.115684\u003c/td\u003e\n",
              "    \u003c/tr\u003e\n",
              "    \u003ctr\u003e\n",
              "      \u003cth\u003enon-US\u003c/th\u003e\n",
              "      \u003ctd\u003e1.0\u003c/td\u003e\n",
              "      \u003ctd\u003e0.820671\u003c/td\u003e\n",
              "      \u003ctd\u003e1.0\u003c/td\u003e\n",
              "      \u003ctd\u003e1.167249\u003c/td\u003e\n",
              "    \u003c/tr\u003e\n",
              "  \u003c/tbody\u003e\n",
              "\u003c/table\u003e\n",
              "\u003c/div\u003e"
            ],
            "text/plain": [
              "        sum(clicks)             ctr          \n",
              "              Value        SE Value        SE\n",
              "country                                      \n",
              "US              1.0  0.843197   1.0  1.115684\n",
              "non-US          1.0  0.820671   1.0  1.167249"
            ]
          },
          "execution_count": 22,
          "metadata": {
            "tags": []
          },
          "output_type": "execute_result"
        }
      ],
      "source": [
        "np.random.seed(42)\n",
        "sum_clicks = Sum('clicks')\n",
        "ctr = sum_clicks / Sum('impressions')\n",
        "metrics = MetricList((sum_clicks, ctr))\n",
        "(Jackknife('cookie', metrics) /\n",
        " Bootstrap('cookie', metrics, 100)).rename_columns(\n",
        "     pd.MultiIndex.from_product(\n",
        "         (('sum(clicks)', 'ctr'), ('Value', 'SE')))).compute_on(df, 'country')"
      ]
    },
    {
      "cell_type": "markdown",
      "metadata": {
        "id": "GqiuYVJGGsPT"
      },
      "source": [
        "## Linear Regression\n",
        "\n",
        "Here we fit a linear regression on mean values of groups. We show two versions, the former delgates computations to Mean so its Jackknife is faster than the latter which doesn't delegate."
      ]
    },
    {
      "cell_type": "code",
      "execution_count": null,
      "metadata": {
        "id": "yPn6aNBzAbC_"
      },
      "outputs": [],
      "source": [
        "np.random.seed(42)\n",
        "size = 1000000\n",
        "df_lin = pd.DataFrame({'grp': np.random.choice(range(10), size=size)})\n",
        "df_lin['x'] = df_lin.grp + np.random.random(size=size)\n",
        "df_lin['y'] = 2 * df_lin.x + np.random.random(size=size)\n",
        "df_lin['cookie'] = np.random.choice(range(20), size=size)\n",
        "df_lin_mean = df_lin.groupby('grp').mean()"
      ]
    },
    {
      "cell_type": "code",
      "execution_count": null,
      "metadata": {
        "colab": {
          "height": 274
        },
        "executionInfo": {
          "elapsed": 809,
          "status": "ok",
          "timestamp": 1600055117412,
          "user": {
            "displayName": "",
            "photoUrl": "",
            "userId": ""
          },
          "user_tz": 420
        },
        "id": "qQZV_quPGvct",
        "outputId": "1ab1ebae-3ec8-46ae-da2a-b5a68e187207"
      },
      "outputs": [
        {
          "data": {
            "image/png": "[encoded data removed]",
            "text/plain": [
              "\u003cFigure size 600x400 with 1 Axes\u003e"
            ]
          },
          "metadata": {
            "tags": []
          },
          "output_type": "display_data"
        }
      ],
      "source": [
        "#@test {\"skip\": true}\n",
        "plt.scatter(df_lin_mean.x, df_lin_mean.y)\n",
        "plt.show()"
      ]
    },
    {
      "cell_type": "code",
      "execution_count": null,
      "metadata": {
        "colab": {
          "height": 142
        },
        "executionInfo": {
          "elapsed": 1732,
          "status": "ok",
          "timestamp": 1600048693850,
          "user": {
            "displayName": "",
            "photoUrl": "",
            "userId": ""
          },
          "user_tz": 420
        },
        "id": "q7InRdD7HsoD",
        "outputId": "7cb8de2c-0d3a-4945-edff-f4373ebea9da"
      },
      "outputs": [
        {
          "data": {
            "text/html": [
              "\u003cdiv\u003e\n",
              "\u003cstyle scoped\u003e\n",
              "    .dataframe tbody tr th:only-of-type {\n",
              "        vertical-align: middle;\n",
              "    }\n",
              "\n",
              "    .dataframe tbody tr th {\n",
              "        vertical-align: top;\n",
              "    }\n",
              "\n",
              "    .dataframe thead tr th {\n",
              "        text-align: left;\n",
              "    }\n",
              "\u003c/style\u003e\n",
              "\u003ctable border=\"1\" class=\"dataframe\"\u003e\n",
              "  \u003cthead\u003e\n",
              "    \u003ctr\u003e\n",
              "      \u003cth\u003eMetric\u003c/th\u003e\n",
              "      \u003cth colspan=\"3\" halign=\"left\"\u003ey ~ x\u003c/th\u003e\n",
              "    \u003c/tr\u003e\n",
              "    \u003ctr\u003e\n",
              "      \u003cth\u003e\u003c/th\u003e\n",
              "      \u003cth\u003eValue\u003c/th\u003e\n",
              "      \u003cth\u003eJackknife CI-lower\u003c/th\u003e\n",
              "      \u003cth\u003eJackknife CI-upper\u003c/th\u003e\n",
              "    \u003c/tr\u003e\n",
              "  \u003c/thead\u003e\n",
              "  \u003ctbody\u003e\n",
              "    \u003ctr\u003e\n",
              "      \u003cth\u003e0\u003c/th\u003e\n",
              "      \u003ctd\u003e2.000065\u003c/td\u003e\n",
              "      \u003ctd\u003e1.999928\u003c/td\u003e\n",
              "      \u003ctd\u003e2.000203\u003c/td\u003e\n",
              "    \u003c/tr\u003e\n",
              "    \u003ctr\u003e\n",
              "      \u003cth\u003e1\u003c/th\u003e\n",
              "      \u003ctd\u003e0.499577\u003c/td\u003e\n",
              "      \u003ctd\u003e0.498379\u003c/td\u003e\n",
              "      \u003ctd\u003e0.500775\u003c/td\u003e\n",
              "    \u003c/tr\u003e\n",
              "  \u003c/tbody\u003e\n",
              "\u003c/table\u003e\n",
              "\u003c/div\u003e"
            ],
            "text/plain": [
              "Metric     y ~ x                                      \n",
              "           Value Jackknife CI-lower Jackknife CI-upper\n",
              "0       2.000065           1.999928           2.000203\n",
              "1       0.499577           0.498379           0.500775"
            ]
          },
          "execution_count": 113,
          "metadata": {
            "tags": []
          },
          "output_type": "execute_result"
        }
      ],
      "source": [
        "from sklearn import linear_model\n",
        "\n",
        "\n",
        "class LinearReg(Operation):\n",
        "  def __init__(self, x, y, grp):\n",
        "    self.lm = linear_model.LinearRegression()\n",
        "    # Delegate most of the computations to Mean Metrics.\n",
        "    child = MetricList((Mean(x), Mean(y)))\n",
        "    self.grp = grp\n",
        "    # Register grp as the extra_index.\n",
        "    super(LinearReg, self).__init__(child, '%s ~ %s' % (y, x), grp)\n",
        "\n",
        "  def split_data(self, df, split_by=None):\n",
        "    \"\"\"The 1st element in yield will be passed to compute().\"\"\"\n",
        "    if not split_by:\n",
        "      yield self.compute_child(df, self.grp), None\n",
        "    else:\n",
        "      # grp needs to come after split_by.\n",
        "      child = self.compute_child(df, split_by + [self.grp])\n",
        "      keys, indices = list(zip(*child.groupby(split_by).groups.items()))\n",
        "      for i, idx in enumerate(indices):\n",
        "        yield child.loc[idx.unique()].droplevel(split_by), keys[i]\n",
        "\n",
        "  def compute(self, df):\n",
        "    self.lm.fit(df.iloc[:, [0]], df.iloc[:, 1])\n",
        "    return pd.Series((self.lm.coef_[0], self.lm.intercept_))\n",
        "\n",
        "\n",
        "lr = LinearReg('x', 'y', 'grp')\n",
        "Jackknife('cookie', lr, 0.95).compute_on(df_lin)"
      ]
    },
    {
      "cell_type": "code",
      "execution_count": null,
      "metadata": {
        "colab": {
          "height": 142
        },
        "executionInfo": {
          "elapsed": 2532,
          "status": "ok",
          "timestamp": 1600048697347,
          "user": {
            "displayName": "",
            "photoUrl": "",
            "userId": ""
          },
          "user_tz": 420
        },
        "id": "6PdjGmjqTmrl",
        "outputId": "a6282960-fbe7-4293-b88f-d0e0e1a9d370"
      },
      "outputs": [
        {
          "data": {
            "text/html": [
              "\u003cdiv\u003e\n",
              "\u003cstyle scoped\u003e\n",
              "    .dataframe tbody tr th:only-of-type {\n",
              "        vertical-align: middle;\n",
              "    }\n",
              "\n",
              "    .dataframe tbody tr th {\n",
              "        vertical-align: top;\n",
              "    }\n",
              "\n",
              "    .dataframe thead tr th {\n",
              "        text-align: left;\n",
              "    }\n",
              "\u003c/style\u003e\n",
              "\u003ctable border=\"1\" class=\"dataframe\"\u003e\n",
              "  \u003cthead\u003e\n",
              "    \u003ctr\u003e\n",
              "      \u003cth\u003eMetric\u003c/th\u003e\n",
              "      \u003cth colspan=\"3\" halign=\"left\"\u003ey ~ x\u003c/th\u003e\n",
              "    \u003c/tr\u003e\n",
              "    \u003ctr\u003e\n",
              "      \u003cth\u003e\u003c/th\u003e\n",
              "      \u003cth\u003eValue\u003c/th\u003e\n",
              "      \u003cth\u003eJackknife CI-lower\u003c/th\u003e\n",
              "      \u003cth\u003eJackknife CI-upper\u003c/th\u003e\n",
              "    \u003c/tr\u003e\n",
              "  \u003c/thead\u003e\n",
              "  \u003ctbody\u003e\n",
              "    \u003ctr\u003e\n",
              "      \u003cth\u003e0\u003c/th\u003e\n",
              "      \u003ctd\u003e2.000065\u003c/td\u003e\n",
              "      \u003ctd\u003e1.999928\u003c/td\u003e\n",
              "      \u003ctd\u003e2.000203\u003c/td\u003e\n",
              "    \u003c/tr\u003e\n",
              "    \u003ctr\u003e\n",
              "      \u003cth\u003e1\u003c/th\u003e\n",
              "      \u003ctd\u003e0.499577\u003c/td\u003e\n",
              "      \u003ctd\u003e0.498379\u003c/td\u003e\n",
              "      \u003ctd\u003e0.500775\u003c/td\u003e\n",
              "    \u003c/tr\u003e\n",
              "  \u003c/tbody\u003e\n",
              "\u003c/table\u003e\n",
              "\u003c/div\u003e"
            ],
            "text/plain": [
              "Metric     y ~ x                                      \n",
              "           Value Jackknife CI-lower Jackknife CI-upper\n",
              "0       2.000065           1.999928           2.000203\n",
              "1       0.499577           0.498379           0.500775"
            ]
          },
          "execution_count": 114,
          "metadata": {
            "tags": []
          },
          "output_type": "execute_result"
        }
      ],
      "source": [
        "class LinearRegSlow(Metric):\n",
        "  def __init__(self, x, y, grp):\n",
        "    self.lm = linear_model.LinearRegression()\n",
        "    # Doesn't delegate.\n",
        "    self.x = x\n",
        "    self.y = y\n",
        "    self.grp = grp\n",
        "    super(LinearRegSlow, self).__init__('%s ~ %s' % (y, x))\n",
        "\n",
        "  def split_data(self, df, split_by=None):\n",
        "    \"\"\"The 1st element in yield will be passed to compute().\"\"\"\n",
        "    idx = split_by + [self.grp] if split_by else self.grp\n",
        "    mean = df.groupby(idx).mean()\n",
        "    if not split_by:\n",
        "      yield mean, None\n",
        "    else:\n",
        "      keys, indices = list(zip(*mean.groupby(split_by).groups.items()))\n",
        "      for i, idx in enumerate(indices):\n",
        "        yield mean.loc[idx.unique()].droplevel(split_by), keys[i]\n",
        "\n",
        "  def compute(self, df):\n",
        "    self.lm.fit(df.iloc[:, [0]], df.iloc[:, 1])\n",
        "    return pd.Series((self.lm.coef_[0], self.lm.intercept_))\n",
        "\n",
        "\n",
        "lr_slow = LinearRegSlow('x', 'y', 'grp')\n",
        "Jackknife('cookie', lr_slow, 0.95).compute_on(df_lin)"
      ]
    },
    {
      "cell_type": "code",
      "execution_count": null,
      "metadata": {
        "colab": {
          "height": 34
        },
        "executionInfo": {
          "elapsed": 7068,
          "status": "ok",
          "timestamp": 1600048714606,
          "user": {
            "displayName": "",
            "photoUrl": "",
            "userId": ""
          },
          "user_tz": 420
        },
        "id": "aNLbzk-CUgqm",
        "outputId": "bb18f495-e310-43cb-cc51-85da74273eb5"
      },
      "outputs": [
        {
          "name": "stdout",
          "output_type": "stream",
          "text": [
            "1 loops, best of 3: 973 ms per loop\n"
          ]
        }
      ],
      "source": [
        "#@test {\"skip\": true}\n",
        "%%timeit\n",
        "Jackknife('cookie', lr, 0.95).compute_on(df_lin)"
      ]
    },
    {
      "cell_type": "code",
      "execution_count": null,
      "metadata": {
        "colab": {
          "height": 34
        },
        "executionInfo": {
          "elapsed": 9558,
          "status": "ok",
          "timestamp": 1600048724249,
          "user": {
            "displayName": "",
            "photoUrl": "",
            "userId": ""
          },
          "user_tz": 420
        },
        "id": "a3BBhzbdUUwo",
        "outputId": "9498d586-421a-4812-9a4d-1648688c33ec"
      },
      "outputs": [
        {
          "name": "stdout",
          "output_type": "stream",
          "text": [
            "1 loops, best of 3: 1.87 s per loop\n"
          ]
        }
      ],
      "source": [
        "#@test {\"skip\": true}\n",
        "%%timeit\n",
        "Jackknife('cookie', lr_slow, 0.95).compute_on(df_lin)"
      ]
    },
    {
      "cell_type": "markdown",
      "metadata": {
        "id": "QFjhj96EdK-r"
      },
      "source": [
        "## LOWESS"
      ]
    },
    {
      "cell_type": "code",
      "execution_count": null,
      "metadata": {
        "colab": {
          "height": 359
        },
        "executionInfo": {
          "elapsed": 433,
          "status": "ok",
          "timestamp": 1594367896139,
          "user": {
            "displayName": "",
            "photoUrl": "",
            "userId": ""
          },
          "user_tz": 420
        },
        "id": "2e_ttZzta7JH",
        "outputId": "c3735e57-0b88-4f25-8b87-8615b38ba5dc"
      },
      "outputs": [
        {
          "data": {
            "text/html": [
              "\u003cdiv\u003e\n",
              "\u003cstyle scoped\u003e\n",
              "    .dataframe tbody tr th:only-of-type {\n",
              "        vertical-align: middle;\n",
              "    }\n",
              "\n",
              "    .dataframe tbody tr th {\n",
              "        vertical-align: top;\n",
              "    }\n",
              "\n",
              "    .dataframe thead th {\n",
              "        text-align: right;\n",
              "    }\n",
              "\u003c/style\u003e\n",
              "\u003ctable border=\"1\" class=\"dataframe\"\u003e\n",
              "  \u003cthead\u003e\n",
              "    \u003ctr style=\"text-align: right;\"\u003e\n",
              "      \u003cth\u003e\u003c/th\u003e\n",
              "      \u003cth\u003ex\u003c/th\u003e\n",
              "      \u003cth\u003ecookie\u003c/th\u003e\n",
              "      \u003cth\u003ey\u003c/th\u003e\n",
              "    \u003c/tr\u003e\n",
              "  \u003c/thead\u003e\n",
              "  \u003ctbody\u003e\n",
              "    \u003ctr\u003e\n",
              "      \u003cth\u003e0\u003c/th\u003e\n",
              "      \u003ctd\u003e0\u003c/td\u003e\n",
              "      \u003ctd\u003e0\u003c/td\u003e\n",
              "      \u003ctd\u003e0.248357\u003c/td\u003e\n",
              "    \u003c/tr\u003e\n",
              "    \u003ctr\u003e\n",
              "      \u003cth\u003e1\u003c/th\u003e\n",
              "      \u003ctd\u003e1\u003c/td\u003e\n",
              "      \u003ctd\u003e0\u003c/td\u003e\n",
              "      \u003ctd\u003e0.772339\u003c/td\u003e\n",
              "    \u003c/tr\u003e\n",
              "    \u003ctr\u003e\n",
              "      \u003cth\u003e2\u003c/th\u003e\n",
              "      \u003ctd\u003e2\u003c/td\u003e\n",
              "      \u003ctd\u003e0\u003c/td\u003e\n",
              "      \u003ctd\u003e1.233142\u003c/td\u003e\n",
              "    \u003c/tr\u003e\n",
              "    \u003ctr\u003e\n",
              "      \u003cth\u003e3\u003c/th\u003e\n",
              "      \u003ctd\u003e3\u003c/td\u003e\n",
              "      \u003ctd\u003e0\u003c/td\u003e\n",
              "      \u003ctd\u003e0.902635\u003c/td\u003e\n",
              "    \u003c/tr\u003e\n",
              "    \u003ctr\u003e\n",
              "      \u003cth\u003e4\u003c/th\u003e\n",
              "      \u003ctd\u003e4\u003c/td\u003e\n",
              "      \u003ctd\u003e0\u003c/td\u003e\n",
              "      \u003ctd\u003e-0.873879\u003c/td\u003e\n",
              "    \u003c/tr\u003e\n",
              "    \u003ctr\u003e\n",
              "      \u003cth\u003e5\u003c/th\u003e\n",
              "      \u003ctd\u003e0\u003c/td\u003e\n",
              "      \u003ctd\u003e1\u003c/td\u003e\n",
              "      \u003ctd\u003e-0.117068\u003c/td\u003e\n",
              "    \u003c/tr\u003e\n",
              "    \u003ctr\u003e\n",
              "      \u003cth\u003e6\u003c/th\u003e\n",
              "      \u003ctd\u003e1\u003c/td\u003e\n",
              "      \u003ctd\u003e1\u003c/td\u003e\n",
              "      \u003ctd\u003e1.631077\u003c/td\u003e\n",
              "    \u003c/tr\u003e\n",
              "    \u003ctr\u003e\n",
              "      \u003cth\u003e7\u003c/th\u003e\n",
              "      \u003ctd\u003e2\u003c/td\u003e\n",
              "      \u003ctd\u003e1\u003c/td\u003e\n",
              "      \u003ctd\u003e1.293015\u003c/td\u003e\n",
              "    \u003c/tr\u003e\n",
              "    \u003ctr\u003e\n",
              "      \u003cth\u003e8\u003c/th\u003e\n",
              "      \u003ctd\u003e3\u003c/td\u003e\n",
              "      \u003ctd\u003e1\u003c/td\u003e\n",
              "      \u003ctd\u003e-0.093617\u003c/td\u003e\n",
              "    \u003c/tr\u003e\n",
              "    \u003ctr\u003e\n",
              "      \u003cth\u003e9\u003c/th\u003e\n",
              "      \u003ctd\u003e4\u003c/td\u003e\n",
              "      \u003ctd\u003e1\u003c/td\u003e\n",
              "      \u003ctd\u003e-0.485522\u003c/td\u003e\n",
              "    \u003c/tr\u003e\n",
              "  \u003c/tbody\u003e\n",
              "\u003c/table\u003e\n",
              "\u003c/div\u003e"
            ],
            "text/plain": [
              "   x  cookie         y\n",
              "0  0       0  0.248357\n",
              "1  1       0  0.772339\n",
              "2  2       0  1.233142\n",
              "3  3       0  0.902635\n",
              "4  4       0 -0.873879\n",
              "5  0       1 -0.117068\n",
              "6  1       1  1.631077\n",
              "7  2       1  1.293015\n",
              "8  3       1 -0.093617\n",
              "9  4       1 -0.485522"
            ]
          },
          "execution_count": 142,
          "metadata": {
            "tags": []
          },
          "output_type": "execute_result"
        }
      ],
      "source": [
        "# Mimics that measurements, y, are taken repeatedly at a fixed grid, x.\n",
        "np.random.seed(42)\n",
        "size = 10\n",
        "x = list(range(5))\n",
        "df_sin = pd.DataFrame({'x': x * size, 'cookie': np.repeat(range(size), len(x))})\n",
        "df_sin['y'] = np.sin(df_sin.x) + np.random.normal(scale=0.5, size=len(df_sin.x))\n",
        "df_sin.head(10)"
      ]
    },
    {
      "cell_type": "code",
      "execution_count": null,
      "metadata": {
        "id": "Eei8Kd0wd-Gt"
      },
      "outputs": [],
      "source": [
        "import statsmodels.api as sm\n",
        "lowess = sm.nonparametric.lowess\n",
        "\n",
        "\n",
        "class Lowess(Metric):\n",
        "\n",
        "  def __init__(self, x, y, name=None, where=None):\n",
        "    self.x = x\n",
        "    self.y = y\n",
        "    name = name or 'LOWESS(%s ~ %s)' % (y, x)\n",
        "    super(Lowess, self).__init__(name, where=where)\n",
        "\n",
        "  def compute(self, data):\n",
        "    lowess_fit = pd.DataFrame(\n",
        "        lowess(data[self.y], data[self.x]), columns=[self.x, self.y])\n",
        "    return lowess_fit.drop_duplicates().reset_index(drop=True)"
      ]
    },
    {
      "cell_type": "code",
      "execution_count": null,
      "metadata": {
        "colab": {
          "height": 204
        },
        "executionInfo": {
          "elapsed": 383,
          "status": "ok",
          "timestamp": 1594367897604,
          "user": {
            "displayName": "",
            "photoUrl": "",
            "userId": ""
          },
          "user_tz": 420
        },
        "id": "qvp8ihsnlY-d",
        "outputId": "112dda48-2b3c-4169-bc9e-9bb4b1513ea0"
      },
      "outputs": [
        {
          "data": {
            "text/html": [
              "\u003cdiv\u003e\n",
              "\u003cstyle scoped\u003e\n",
              "    .dataframe tbody tr th:only-of-type {\n",
              "        vertical-align: middle;\n",
              "    }\n",
              "\n",
              "    .dataframe tbody tr th {\n",
              "        vertical-align: top;\n",
              "    }\n",
              "\n",
              "    .dataframe thead th {\n",
              "        text-align: right;\n",
              "    }\n",
              "\u003c/style\u003e\n",
              "\u003ctable border=\"1\" class=\"dataframe\"\u003e\n",
              "  \u003cthead\u003e\n",
              "    \u003ctr style=\"text-align: right;\"\u003e\n",
              "      \u003cth\u003e\u003c/th\u003e\n",
              "      \u003cth\u003ex\u003c/th\u003e\n",
              "      \u003cth\u003ey\u003c/th\u003e\n",
              "    \u003c/tr\u003e\n",
              "  \u003c/thead\u003e\n",
              "  \u003ctbody\u003e\n",
              "    \u003ctr\u003e\n",
              "      \u003cth\u003e0\u003c/th\u003e\n",
              "      \u003ctd\u003e0.0\u003c/td\u003e\n",
              "      \u003ctd\u003e0.016953\u003c/td\u003e\n",
              "    \u003c/tr\u003e\n",
              "    \u003ctr\u003e\n",
              "      \u003cth\u003e1\u003c/th\u003e\n",
              "      \u003ctd\u003e1.0\u003c/td\u003e\n",
              "      \u003ctd\u003e0.592061\u003c/td\u003e\n",
              "    \u003c/tr\u003e\n",
              "    \u003ctr\u003e\n",
              "      \u003cth\u003e2\u003c/th\u003e\n",
              "      \u003ctd\u003e2.0\u003c/td\u003e\n",
              "      \u003ctd\u003e0.575784\u003c/td\u003e\n",
              "    \u003c/tr\u003e\n",
              "    \u003ctr\u003e\n",
              "      \u003cth\u003e3\u003c/th\u003e\n",
              "      \u003ctd\u003e3.0\u003c/td\u003e\n",
              "      \u003ctd\u003e-0.109848\u003c/td\u003e\n",
              "    \u003c/tr\u003e\n",
              "    \u003ctr\u003e\n",
              "      \u003cth\u003e4\u003c/th\u003e\n",
              "      \u003ctd\u003e4.0\u003c/td\u003e\n",
              "      \u003ctd\u003e-1.096083\u003c/td\u003e\n",
              "    \u003c/tr\u003e\n",
              "  \u003c/tbody\u003e\n",
              "\u003c/table\u003e\n",
              "\u003c/div\u003e"
            ],
            "text/plain": [
              "     x         y\n",
              "0  0.0  0.016953\n",
              "1  1.0  0.592061\n",
              "2  2.0  0.575784\n",
              "3  3.0 -0.109848\n",
              "4  4.0 -1.096083"
            ]
          },
          "execution_count": 144,
          "metadata": {
            "tags": []
          },
          "output_type": "execute_result"
        }
      ],
      "source": [
        "Lowess('x', 'y') | compute_on(df_sin)"
      ]
    },
    {
      "cell_type": "code",
      "execution_count": null,
      "metadata": {
        "colab": {
          "height": 274
        },
        "executionInfo": {
          "elapsed": 735,
          "status": "ok",
          "timestamp": 1594367899224,
          "user": {
            "displayName": "",
            "photoUrl": "",
            "userId": ""
          },
          "user_tz": 420
        },
        "id": "3eR0fV8feyqu",
        "outputId": "a868fae4-9d36-42f0-c4c2-130cff77a74c"
      },
      "outputs": [
        {
          "data": {
            "image/png": "[encoded data removed]",
            "text/plain": [
              "\u003cFigure size 600x400 with 1 Axes\u003e"
            ]
          },
          "metadata": {
            "tags": []
          },
          "output_type": "display_data"
        }
      ],
      "source": [
        "#@test {\"skip\": true}\n",
        "jk = Lowess('x', 'y') | Jackknife('cookie', confidence=0.9) | compute_on(df_sin)\n",
        "point_est = jk[('y', 'Value')]\n",
        "ci_lower = jk[('y', 'Jackknife CI-lower')]\n",
        "ci_upper = jk[('y', 'Jackknife CI-upper')]\n",
        "\n",
        "plt.scatter(df_sin.x, df_sin.y)\n",
        "plt.plot(x, point_est, c='g')\n",
        "plt.fill_between(\n",
        "    x, ci_lower,\n",
        "    ci_upper,\n",
        "    color='g',\n",
        "    alpha=0.5)\n",
        "plt.show()"
      ]
    },
    {
      "cell_type": "code",
      "execution_count": null,
      "metadata": {
        "id": "GQ8g2noRe5jk"
      },
      "outputs": [],
      "source": [
        ""
      ]
    }
  ],
  "metadata": {
    "colab": {
      "collapsed_sections": [],
      "last_runtime": {
        "build_target": "",
        "kind": "local"
      },
      "name": "Meterstick Demo.ipynb",
      "provenance": [
        {
          "file_id": "/piper/depot/google3/third_party/py/meterstick/v2/meterstick_demo.ipynb",
          "timestamp": 1628296910284
        },
        {
          "file_id": "1zUIcnLb4TCfYc-PJHxqsOtd1-xPYKWQf",
          "timestamp": 1588132844882
        },
        {
          "file_id": "1u9XmuUlA0TtGmERFV1cSY-4UWpXYIJWL",
          "timestamp": 1588129678918
        }
      ],
      "toc_visible": true
    },
    "kernelspec": {
      "display_name": "Python 3",
      "name": "python3"
    }
  },
  "nbformat": 4,
  "nbformat_minor": 0
}
