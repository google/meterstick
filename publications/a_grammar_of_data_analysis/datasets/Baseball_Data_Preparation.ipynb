{
  "cells": [
    {
      "cell_type": "markdown",
      "metadata": {
        "id": "22xUPW3KAAEo"
      },
      "source": [
        "Download MLB pitch data 2015-2018 from Kaggle: https://www.kaggle.com/datasets/pschale/mlb-pitch-data-20152018"
      ]
    },
    {
      "cell_type": "code",
      "execution_count": null,
      "metadata": {
        "id": "KSHL0ORp_0Gy"
      },
      "outputs": [],
      "source": [
        "import kagglehub\n",
        "\n",
        "# Download latest version\n",
        "path = kagglehub.dataset_download(\"pschale/mlb-pitch-data-20152018\")\n",
        "\n",
        "print(\"Path to dataset files:\", path)"
      ]
    },
    {
      "cell_type": "code",
      "execution_count": null,
      "metadata": {
        "id": "tmVbVNEOC-Tn"
      },
      "outputs": [],
      "source": [
        "import pandas as pd\n",
        "df_pitches = pd.read_csv(f\"{path}/pitches.csv\")\n",
        "df_atbats = pd.read_csv(f\"{path}/atbats.csv\")"
      ]
    },
    {
      "cell_type": "code",
      "execution_count": null,
      "metadata": {
        "id": "X7sR7o4H58LJ"
      },
      "outputs": [],
      "source": [
        "# Get IDs of opening-day roster of Mariners in 2019 (https://www.baseball-reference.com/boxes/OAK/OAK201903200.shtml)\n",
        "sea_batters_names = [\n",
        "    (\"Dee\", \"Gordon\"),\n",
        "    (\"Mitch\", \"Haniger\"),\n",
        "    (\"Jay\", \"Bruce\"),\n",
        "    (\"Edwin\", \"Encarnacion\"),\n",
        "    (\"Domingo\", \"Santana\"),\n",
        "    (\"Omar\", \"Narvaez\"),\n",
        "    (\"Ryon\", \"Healy\"),\n",
        "    (\"Tim\", \"Beckham\"),\n",
        "    (\"Ichiro\", \"Suzuki\"),\n",
        "]\n",
        "\n",
        "# Look up IDs of these players\n",
        "df_players = pd.read_csv(f\"{path}/player_names.csv\")\n",
        "sea_batters_ids = []\n",
        "for first_name, last_name in sea_batters_names:\n",
        "  player_row = df_players[\n",
        "      (df_players[\"first_name\"] == first_name) \u0026\n",
        "       (df_players[\"last_name\"] == last_name)]\n",
        "  if player_row.empty:\n",
        "    print(f\"Player {first_name} {last_name} not found\")\n",
        "  else:\n",
        "    sea_batters_ids.append(player_row.iloc[0][\"id\"])"
      ]
    },
    {
      "cell_type": "code",
      "execution_count": null,
      "metadata": {
        "id": "IfThsiooO2lL"
      },
      "outputs": [],
      "source": [
        "df_joined = df_atbats[df_atbats[\"batter_id\"].isin(sea_batters_ids)].merge(\n",
        "    df_pitches, on=\"ab_id\", how=\"inner\"\n",
        ")"
      ]
    },
    {
      "cell_type": "code",
      "execution_count": null,
      "metadata": {
        "id": "15D12CfgNH8K"
      },
      "outputs": [],
      "source": [
        "df_joined[[\"ab_id\", \"pitch_type\", \"pitcher_id\", \"batter_id\"]].to_csv(\n",
        "    \"baseball_pitches_to_SEA_batters.csv\",\n",
        "    index=False)"
      ]
    }
  ],
  "metadata": {
    "colab": {
      "private_outputs": true,
      "provenance": [
        {
          "file_id": "1ljDjaM4H50sbsXcCeRoW4wtf-WMdVzOu",
          "timestamp": 1758306851973
        }
      ]
    },
    "kernelspec": {
      "display_name": "Python 3",
      "name": "python3"
    },
    "language_info": {
      "name": "python"
    }
  },
  "nbformat": 4,
  "nbformat_minor": 0
}
